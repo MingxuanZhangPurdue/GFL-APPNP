{
 "cells": [
  {
   "cell_type": "code",
   "execution_count": 37,
   "id": "dff27b5d",
   "metadata": {},
   "outputs": [],
   "source": [
    "import torch\n",
    "import numpy as np\n",
    "from utils.generate_csbm import *\n",
    "from utils.utils import *\n",
    "from utils.train_helpers import train_NC, train_APPNP, train_pyg_model\n",
    "from utils.utils import calculate_Atilde\n",
    "from models.models import MLP\n",
    "from models.setup import set_up_NC\n",
    "import networkx as nx\n",
    "import pickle\n",
    "import matplotlib.pyplot as plt"
   ]
  },
  {
   "cell_type": "code",
   "execution_count": 38,
   "id": "91bcf007",
   "metadata": {},
   "outputs": [],
   "source": [
    "import sys\n",
    "sys.path.append('utils/')\n",
    "train_ids = np.load(\"experiments/DNC/0.78phi/data/train_ids.npy\")\n",
    "val_ids = np.load(\"experiments/DNC/0.78phi/data/valid_ids.npy\")\n",
    "test_ids = np.load(\"experiments//DNC/0.78phi/data/test_ids.npy\")\n",
    "file_to_open= open(\"experiments/DNC/0.78phi/data/\"+\"csbm_\"+str(0)+\".pickle\", \"rb\")\n",
    "csbm = pickle.load(file_to_open)\n",
    "csbm.mu = 2.8"
   ]
  },
  {
   "cell_type": "code",
   "execution_count": 39,
   "id": "f31fcdc0",
   "metadata": {},
   "outputs": [
    {
     "data": {
      "text/plain": [
       "0.503215306053671"
      ]
     },
     "execution_count": 39,
     "metadata": {},
     "output_type": "execute_result"
    }
   ],
   "source": [
    "xi = csbm.N/csbm.p\n",
    "np.arctan((2*np.sqrt(xi))/csbm.mu)*(2/np.pi)"
   ]
  },
  {
   "cell_type": "code",
   "execution_count": 40,
   "id": "285b6b80",
   "metadata": {},
   "outputs": [
    {
     "data": {
      "text/plain": [
       "7.92"
      ]
     },
     "execution_count": 40,
     "metadata": {},
     "output_type": "execute_result"
    }
   ],
   "source": [
    "2**2 + (csbm.mu**2)/(csbm.N/csbm.p)"
   ]
  },
  {
   "cell_type": "code",
   "execution_count": 41,
   "id": "19cb8a19",
   "metadata": {},
   "outputs": [],
   "source": [
    "for i in range(20):\n",
    "    csbm.generate_node_parameters()\n",
    "    csbm.generate_node_data(n_local=1, method=\"DNC\")\n",
    "    file = open('experiments/DNC/0.5phi/data/'+'csbm_'+str(i)+'.pickle', 'wb') \n",
    "    pickle.dump(csbm, file)"
   ]
  },
  {
   "cell_type": "code",
   "execution_count": 42,
   "id": "75faad18",
   "metadata": {},
   "outputs": [],
   "source": [
    "np.save(\"experiments/DNC/0.5phi/data/train_ids\", train_ids)\n",
    "np.save(\"experiments/DNC/0.5phi/data/valid_ids\", val_ids)\n",
    "np.save(\"experiments/DNC/0.5phi/data/test_ids\", test_ids)"
   ]
  },
  {
   "cell_type": "code",
   "execution_count": 45,
   "id": "61a324d2",
   "metadata": {},
   "outputs": [
    {
     "data": {
      "text/plain": [
       "True"
      ]
     },
     "execution_count": 45,
     "metadata": {},
     "output_type": "execute_result"
    }
   ],
   "source": [
    "nx.is_connected(nx.from_numpy_matrix(csbm.A).subgraph(train_ids))"
   ]
  },
  {
   "cell_type": "code",
   "execution_count": 46,
   "id": "0669df94",
   "metadata": {},
   "outputs": [
    {
     "data": {
      "text/plain": [
       "0"
      ]
     },
     "execution_count": 46,
     "metadata": {},
     "output_type": "execute_result"
    }
   ],
   "source": [
    "csbm.v[train_ids].sum()"
   ]
  }
 ],
 "metadata": {
  "kernelspec": {
   "display_name": "Python 3 (ipykernel)",
   "language": "python",
   "name": "python3"
  },
  "language_info": {
   "codemirror_mode": {
    "name": "ipython",
    "version": 3
   },
   "file_extension": ".py",
   "mimetype": "text/x-python",
   "name": "python",
   "nbconvert_exporter": "python",
   "pygments_lexer": "ipython3",
   "version": "3.8.13"
  }
 },
 "nbformat": 4,
 "nbformat_minor": 5
}
