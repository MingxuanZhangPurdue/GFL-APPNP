{
 "cells": [
  {
   "cell_type": "code",
   "execution_count": 1,
   "id": "2d23a424",
   "metadata": {},
   "outputs": [],
   "source": [
    "import torch\n",
    "import numpy as np\n",
    "from utils.generate_csbm import *\n",
    "from utils.train_helpers import train_NC, train_APPNP\n",
    "from utils.utils import calculate_Atilde\n",
    "from models.models import MLP\n",
    "from models.setup import set_up_NC\n",
    "import networkx as nx\n",
    "import pickle\n",
    "\n",
    "train_ids = np.load(\"experiments/DNC/0.78phi/data/train_ids.npy\")\n",
    "val_ids = np.load(\"experiments/DNC/0.78phi/data/valid_ids.npy\")\n",
    "test_ids = np.load(\"experiments//DNC/0.78phi/data/test_ids.npy\")\n",
    "\n",
    "import sys\n",
    "sys.path.append('utils/')\n",
    "file_to_open= open(\"experiments/DNC/0.78phi/data/\"+\"csbm_\"+str(1)+\".pickle\", \"rb\")\n",
    "csbm = pickle.load(file_to_open)\n",
    "file_to_open.close()\n",
    "A_tilde = calculate_Atilde(csbm.A, M=10, alpha=0.9)\n",
    "\n",
    "torch.manual_seed(0)\n",
    "init_mlp = MLP(csbm.Xs[0].shape[1], 64, 2, False)"
   ]
  },
  {
   "cell_type": "code",
   "execution_count": 4,
   "id": "820031dd",
   "metadata": {},
   "outputs": [
    {
     "name": "stdout",
     "output_type": "stream",
     "text": [
      "Communication: 1 Average train loss: 0.68700 Average train accuracy: 0.600 Average val loss: 0.69257 Average val accuracy: 0.500\n",
      "Communication: 2 Average train loss: 0.68255 Average train accuracy: 0.750 Average val loss: 0.69200 Average val accuracy: 0.550\n",
      "Communication: 3 Average train loss: 0.67786 Average train accuracy: 0.800 Average val loss: 0.69147 Average val accuracy: 0.550\n",
      "Communication: 4 Average train loss: 0.67282 Average train accuracy: 0.950 Average val loss: 0.69093 Average val accuracy: 0.550\n",
      "Communication: 5 Average train loss: 0.66725 Average train accuracy: 0.950 Average val loss: 0.69034 Average val accuracy: 0.550\n",
      "Communication: 6 Average train loss: 0.66108 Average train accuracy: 0.950 Average val loss: 0.68971 Average val accuracy: 0.600\n",
      "Communication: 7 Average train loss: 0.65406 Average train accuracy: 0.950 Average val loss: 0.68901 Average val accuracy: 0.600\n",
      "Communication: 8 Average train loss: 0.64607 Average train accuracy: 0.950 Average val loss: 0.68818 Average val accuracy: 0.600\n",
      "Communication: 9 Average train loss: 0.63707 Average train accuracy: 1.000 Average val loss: 0.68727 Average val accuracy: 0.600\n",
      "Communication: 10 Average train loss: 0.62691 Average train accuracy: 1.000 Average val loss: 0.68614 Average val accuracy: 0.600\n"
     ]
    }
   ],
   "source": [
    "server = set_up_NC(csbm.Xs, csbm.ys, \n",
    "                   init_mlp, A_tilde, \n",
    "                   train_ids, val_ids, test_ids,\n",
    "                   gradient=True,\n",
    "                   hidden_noise=False, gradient_noise=False,\n",
    "                   hn_std=0.1, gn_std=0.1)\n",
    "tl, ta, vl, va = train_NC(server, 10, batch_size=1, learning_rate=1, I=1,\n",
    "             Print=True, print_time=1)"
   ]
  },
  {
   "cell_type": "code",
   "execution_count": 5,
   "id": "fee805af",
   "metadata": {},
   "outputs": [
    {
     "name": "stdout",
     "output_type": "stream",
     "text": [
      "update: 1 Average train loss: 0.68700 Average train accuracy: 0.600 Average val loss: 0.69257 Average val accuracy: 0.500\n",
      "update: 2 Average train loss: 0.68255 Average train accuracy: 0.750 Average val loss: 0.69200 Average val accuracy: 0.550\n",
      "update: 3 Average train loss: 0.67786 Average train accuracy: 0.800 Average val loss: 0.69147 Average val accuracy: 0.550\n",
      "update: 4 Average train loss: 0.67282 Average train accuracy: 0.950 Average val loss: 0.69093 Average val accuracy: 0.550\n",
      "update: 5 Average train loss: 0.66725 Average train accuracy: 0.950 Average val loss: 0.69034 Average val accuracy: 0.550\n",
      "update: 6 Average train loss: 0.66108 Average train accuracy: 0.950 Average val loss: 0.68971 Average val accuracy: 0.600\n",
      "update: 7 Average train loss: 0.65406 Average train accuracy: 0.950 Average val loss: 0.68901 Average val accuracy: 0.600\n",
      "update: 8 Average train loss: 0.64607 Average train accuracy: 0.950 Average val loss: 0.68818 Average val accuracy: 0.600\n",
      "update: 9 Average train loss: 0.63707 Average train accuracy: 1.000 Average val loss: 0.68727 Average val accuracy: 0.600\n",
      "update: 10 Average train loss: 0.62691 Average train accuracy: 1.000 Average val loss: 0.68614 Average val accuracy: 0.600\n"
     ]
    }
   ],
   "source": [
    "a,b,c,d,e,f = train_APPNP(torch.cat(csbm.Xs), torch.cat(csbm.ys), init_mlp, A_tilde, \n",
    "                           train_ids, val_ids, test_ids,\n",
    "                           num_update=10,\n",
    "                           learning_rate=1, Print=True)"
   ]
  },
  {
   "cell_type": "code",
   "execution_count": null,
   "id": "f5a0dabb",
   "metadata": {},
   "outputs": [],
   "source": []
  }
 ],
 "metadata": {
  "kernelspec": {
   "display_name": "Python 3 (ipykernel)",
   "language": "python",
   "name": "python3"
  },
  "language_info": {
   "codemirror_mode": {
    "name": "ipython",
    "version": 3
   },
   "file_extension": ".py",
   "mimetype": "text/x-python",
   "name": "python",
   "nbconvert_exporter": "python",
   "pygments_lexer": "ipython3",
   "version": "3.8.13"
  }
 },
 "nbformat": 4,
 "nbformat_minor": 5
}
