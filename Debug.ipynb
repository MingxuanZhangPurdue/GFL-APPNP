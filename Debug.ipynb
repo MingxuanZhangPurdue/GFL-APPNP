{
 "cells": [
  {
   "cell_type": "code",
   "execution_count": 1,
   "id": "dff27b5d",
   "metadata": {},
   "outputs": [],
   "source": [
    "import torch\n",
    "import numpy as np\n",
    "from utils.generate_csbm import *\n",
    "from utils.train_helpers import train_NC, train_APPNP, train_pyg_model\n",
    "from utils.utils import calculate_Atilde\n",
    "from models.models import MLP\n",
    "from models.setup import set_up_NC\n",
    "import networkx as nx\n",
    "import pickle\n",
    "\n",
    "train_ids = np.load(\"experiments/DNC/0.78phi/data/train_ids.npy\")\n",
    "val_ids = np.load(\"experiments/DNC/0.78phi/data/valid_ids.npy\")\n",
    "test_ids = np.load(\"experiments//DNC/0.78phi/data/test_ids.npy\")\n",
    "\n",
    "import sys\n",
    "sys.path.append('utils/')\n",
    "file_to_open= open(\"experiments/DNC/0.78phi/data/\"+\"csbm_\"+str(0)+\".pickle\", \"rb\")\n",
    "csbm = pickle.load(file_to_open)\n",
    "file_to_open.close()\n",
    "\n",
    "\n",
    "#csbm = cSBM(N=200, p=100, d=6, mu=1, l=2)\n",
    "#csbm.generate_node_parameters()\n",
    "#csbm.generate_node_data(n_local=1, method=\"DNC\")\n",
    "A_tilde = calculate_Atilde(csbm.A, M=10, alpha=0.9)\n",
    "\n",
    "torch.manual_seed(0)\n",
    "init_mlp = MLP(csbm.Xs[0].shape[1], 64, 2, False)"
   ]
  },
  {
   "cell_type": "code",
   "execution_count": 2,
   "id": "c8194a04",
   "metadata": {},
   "outputs": [
    {
     "name": "stdout",
     "output_type": "stream",
     "text": [
      "True True True 10 0.1\n"
     ]
    }
   ],
   "source": [
    "server = set_up_NC(csbm.Xs, csbm.ys, \n",
    "                   init_mlp, A_tilde, \n",
    "                   train_ids, val_ids, test_ids,\n",
    "                   gradient=True,\n",
    "                   hidden_noise=True, gradient_noise=True,\n",
    "                   hn_std=10, gn_std=0.1)\n",
    "tl, ta, vl, va = train_NC(server, 1, batch_size=1, learning_rate=0.1, I=10,\n",
    "             Print=True, print_time=10)"
   ]
  },
  {
   "cell_type": "code",
   "execution_count": 3,
   "id": "6bd61e5f",
   "metadata": {},
   "outputs": [
    {
     "name": "stdout",
     "output_type": "stream",
     "text": [
      "update: 1 Average train loss: 0.68925 Average train accuracy: 0.600 Average val loss: 0.69004 Average val accuracy: 0.700\n",
      "update: 2 Average train loss: 0.68395 Average train accuracy: 0.750 Average val loss: 0.68868 Average val accuracy: 0.700\n",
      "update: 3 Average train loss: 0.67848 Average train accuracy: 0.900 Average val loss: 0.68726 Average val accuracy: 0.700\n",
      "update: 4 Average train loss: 0.67266 Average train accuracy: 0.950 Average val loss: 0.68573 Average val accuracy: 0.700\n",
      "update: 5 Average train loss: 0.66632 Average train accuracy: 0.950 Average val loss: 0.68412 Average val accuracy: 0.750\n",
      "update: 6 Average train loss: 0.65930 Average train accuracy: 0.950 Average val loss: 0.68228 Average val accuracy: 0.750\n",
      "update: 7 Average train loss: 0.65138 Average train accuracy: 0.950 Average val loss: 0.68015 Average val accuracy: 0.750\n",
      "update: 8 Average train loss: 0.64236 Average train accuracy: 0.950 Average val loss: 0.67779 Average val accuracy: 0.800\n",
      "update: 9 Average train loss: 0.63206 Average train accuracy: 1.000 Average val loss: 0.67508 Average val accuracy: 0.800\n",
      "update: 10 Average train loss: 0.62035 Average train accuracy: 1.000 Average val loss: 0.67192 Average val accuracy: 0.800\n"
     ]
    }
   ],
   "source": [
    "a,b,c,d,e,f = train_APPNP(torch.cat(csbm.Xs), torch.cat(csbm.ys), init_mlp, A_tilde, \n",
    "                           train_ids, val_ids, test_ids,\n",
    "                           num_update=10,\n",
    "                           learning_rate=1, Print=True)"
   ]
  },
  {
   "cell_type": "code",
   "execution_count": 115,
   "id": "de0bb91d",
   "metadata": {},
   "outputs": [],
   "source": [
    "import torch\n",
    "import torch.nn as nn\n",
    "import torch.nn.functional as F\n",
    "from torch_geometric.nn import GCNConv, GATConv, SAGEConv, APPNP\n",
    "from torch_geometric.data import Data\n",
    "from torch_geometric.utils import from_networkx, from_scipy_sparse_matrix\n",
    "import networkx as nx\n",
    "from scipy import sparse\n",
    "import torch.optim as optim\n",
    "import torch.nn.functional as F\n",
    "class appnp(torch.nn.Module):\n",
    "    def __init__(self, num_node_features, num_classes, hidden_dimensions=64, bias=False,\n",
    "                 K=10, alpha=0.1):\n",
    "        super().__init__()\n",
    "        self.appnp_layer = APPNP(K=K, alpha=alpha, cached=True)\n",
    "        self.linear = nn.Linear(num_node_features, hidden_dimensions, bias=bias)\n",
    "        self.output = nn.Linear(hidden_dimensions, num_classes, bias=bias)\n",
    "\n",
    "    def forward(self, data):\n",
    "        x, edge_index = data.x, data.edge_index\n",
    "        x = self.linear(x)\n",
    "        x = F.relu(x)\n",
    "        x = self.output(self.appnp_layer(x, edge_index))\n",
    "        return F.log_softmax(x, dim=1) "
   ]
  },
  {
   "cell_type": "code",
   "execution_count": 116,
   "id": "ea602763",
   "metadata": {},
   "outputs": [
    {
     "data": {
      "text/plain": [
       "OrderedDict([('model.0.weight',\n",
       "              tensor([[-0.0007,  0.0536, -0.0823,  ...,  0.0209, -0.0780, -0.0576],\n",
       "                      [ 0.0941,  0.0674, -0.0436,  ...,  0.0342, -0.0596, -0.0022],\n",
       "                      [ 0.0042,  0.0645, -0.0756,  ..., -0.0744,  0.0410, -0.0336],\n",
       "                      ...,\n",
       "                      [-0.0382,  0.0894, -0.0204,  ..., -0.0817,  0.0320, -0.0344],\n",
       "                      [ 0.0752, -0.0269, -0.0814,  ..., -0.0688,  0.0960,  0.0056],\n",
       "                      [ 0.0837,  0.0194, -0.0171,  ...,  0.0880, -0.0844,  0.0626]])),\n",
       "             ('model.2.weight',\n",
       "              tensor([[ 0.0365, -0.0507, -0.0367,  0.0213,  0.0265,  0.1061,  0.1194,  0.0072,\n",
       "                        0.1176, -0.0739,  0.0011, -0.1032,  0.0599,  0.0249, -0.0757, -0.0954,\n",
       "                       -0.0248, -0.0472, -0.0509, -0.1089, -0.0796,  0.1037, -0.0615,  0.0509,\n",
       "                        0.0085, -0.0171,  0.0409,  0.0941,  0.0389,  0.0136,  0.1015,  0.0103,\n",
       "                        0.0275,  0.1219, -0.0905,  0.0908, -0.0600, -0.0064, -0.0723,  0.0825,\n",
       "                       -0.1005, -0.0554,  0.0216, -0.0478,  0.0134,  0.1148, -0.1106, -0.0812,\n",
       "                       -0.0972,  0.1195,  0.0303, -0.0903, -0.1087,  0.0926,  0.1148, -0.0756,\n",
       "                        0.0320, -0.0310,  0.0741, -0.0699,  0.0854,  0.1248,  0.0757, -0.0214],\n",
       "                      [ 0.0163,  0.0539, -0.0721, -0.0582, -0.1223,  0.0883, -0.0581,  0.1074,\n",
       "                       -0.0245, -0.0462,  0.0636, -0.0122, -0.0847,  0.0134, -0.0582, -0.0905,\n",
       "                       -0.0789,  0.0434,  0.0105, -0.0507,  0.0446, -0.0391, -0.0965,  0.0429,\n",
       "                       -0.0426, -0.0370,  0.0898,  0.0934, -0.1223,  0.1072,  0.1118, -0.0901,\n",
       "                       -0.1246, -0.0976, -0.0332, -0.0056,  0.0345,  0.0298,  0.0242, -0.0976,\n",
       "                        0.1203,  0.1077,  0.0609,  0.0273, -0.0698,  0.0091, -0.0892,  0.1149,\n",
       "                       -0.1110,  0.1064,  0.1177, -0.0605, -0.1115,  0.0441, -0.0959, -0.1153,\n",
       "                       -0.0753,  0.0884, -0.0783, -0.0500, -0.0507,  0.0888,  0.0484,  0.0716]]))])"
      ]
     },
     "execution_count": 116,
     "metadata": {},
     "output_type": "execute_result"
    }
   ],
   "source": [
    "init_mlp.state_dict()"
   ]
  },
  {
   "cell_type": "code",
   "execution_count": 121,
   "id": "c6b97994",
   "metadata": {},
   "outputs": [],
   "source": [
    "torch.manual_seed(0)\n",
    "model = appnp(100, 2, 64, True, 10, 0.9)\n",
    "with torch.no_grad():\n",
    "    for pname, param in model.named_parameters():\n",
    "        if pname == \"linear.weight\":\n",
    "            param.copy_(init_mlp.state_dict()['model.0.weight'])\n",
    "        else:\n",
    "            param.copy_(init_mlp.state_dict()['model.2.weight'])"
   ]
  },
  {
   "cell_type": "code",
   "execution_count": 122,
   "id": "9ea87365",
   "metadata": {},
   "outputs": [],
   "source": [
    "ei,_ = from_scipy_sparse_matrix(sparse.csr_matrix(csbm.A))"
   ]
  },
  {
   "cell_type": "code",
   "execution_count": 123,
   "id": "807f3f27",
   "metadata": {},
   "outputs": [
    {
     "data": {
      "text/plain": [
       "Data(x=[200, 100], edge_index=[2, 1586], y=[200], train_mask=[20], val_mask=[20], test_mask=[160])"
      ]
     },
     "execution_count": 123,
     "metadata": {},
     "output_type": "execute_result"
    }
   ],
   "source": [
    "pyg_data = Data(x=torch.cat(csbm.Xs), y=torch.cat(csbm.ys), edge_index=ei)\n",
    "pyg_data.train_mask=train_ids\n",
    "pyg_data.val_mask=val_ids\n",
    "pyg_data.test_mask=test_ids\n",
    "pyg_data"
   ]
  },
  {
   "cell_type": "code",
   "execution_count": 124,
   "id": "e4e315e4",
   "metadata": {},
   "outputs": [],
   "source": [
    "a,b,c,d,e,f = train_pyg_model(pyg_data, \n",
    "                model, \n",
    "                num_epoch=5000, optimizer=optim.SGD(model.parameters(), lr=0.2), \n",
    "                mask=False, Print=False)"
   ]
  },
  {
   "cell_type": "code",
   "execution_count": 131,
   "id": "f6cee4f0",
   "metadata": {},
   "outputs": [
    {
     "ename": "TypeError",
     "evalue": "float() argument must be a string or a number, not 'appnp'",
     "output_type": "error",
     "traceback": [
      "\u001b[0;31m---------------------------------------------------------------------------\u001b[0m",
      "\u001b[0;31mTypeError\u001b[0m                                 Traceback (most recent call last)",
      "Input \u001b[0;32mIn [131]\u001b[0m, in \u001b[0;36m<cell line: 1>\u001b[0;34m()\u001b[0m\n\u001b[0;32m----> 1\u001b[0m \u001b[43mplt\u001b[49m\u001b[38;5;241;43m.\u001b[39;49m\u001b[43mplot\u001b[49m\u001b[43m(\u001b[49m\u001b[43mf\u001b[49m\u001b[43m)\u001b[49m\n",
      "File \u001b[0;32m~/dl/lib/python3.8/site-packages/matplotlib/pyplot.py:2757\u001b[0m, in \u001b[0;36mplot\u001b[0;34m(scalex, scaley, data, *args, **kwargs)\u001b[0m\n\u001b[1;32m   2755\u001b[0m \u001b[38;5;129m@_copy_docstring_and_deprecators\u001b[39m(Axes\u001b[38;5;241m.\u001b[39mplot)\n\u001b[1;32m   2756\u001b[0m \u001b[38;5;28;01mdef\u001b[39;00m \u001b[38;5;21mplot\u001b[39m(\u001b[38;5;241m*\u001b[39margs, scalex\u001b[38;5;241m=\u001b[39m\u001b[38;5;28;01mTrue\u001b[39;00m, scaley\u001b[38;5;241m=\u001b[39m\u001b[38;5;28;01mTrue\u001b[39;00m, data\u001b[38;5;241m=\u001b[39m\u001b[38;5;28;01mNone\u001b[39;00m, \u001b[38;5;241m*\u001b[39m\u001b[38;5;241m*\u001b[39mkwargs):\n\u001b[0;32m-> 2757\u001b[0m     \u001b[38;5;28;01mreturn\u001b[39;00m \u001b[43mgca\u001b[49m\u001b[43m(\u001b[49m\u001b[43m)\u001b[49m\u001b[38;5;241;43m.\u001b[39;49m\u001b[43mplot\u001b[49m\u001b[43m(\u001b[49m\n\u001b[1;32m   2758\u001b[0m \u001b[43m        \u001b[49m\u001b[38;5;241;43m*\u001b[39;49m\u001b[43margs\u001b[49m\u001b[43m,\u001b[49m\u001b[43m \u001b[49m\u001b[43mscalex\u001b[49m\u001b[38;5;241;43m=\u001b[39;49m\u001b[43mscalex\u001b[49m\u001b[43m,\u001b[49m\u001b[43m \u001b[49m\u001b[43mscaley\u001b[49m\u001b[38;5;241;43m=\u001b[39;49m\u001b[43mscaley\u001b[49m\u001b[43m,\u001b[49m\n\u001b[1;32m   2759\u001b[0m \u001b[43m        \u001b[49m\u001b[38;5;241;43m*\u001b[39;49m\u001b[38;5;241;43m*\u001b[39;49m\u001b[43m(\u001b[49m\u001b[43m{\u001b[49m\u001b[38;5;124;43m\"\u001b[39;49m\u001b[38;5;124;43mdata\u001b[39;49m\u001b[38;5;124;43m\"\u001b[39;49m\u001b[43m:\u001b[49m\u001b[43m \u001b[49m\u001b[43mdata\u001b[49m\u001b[43m}\u001b[49m\u001b[43m \u001b[49m\u001b[38;5;28;43;01mif\u001b[39;49;00m\u001b[43m \u001b[49m\u001b[43mdata\u001b[49m\u001b[43m \u001b[49m\u001b[38;5;129;43;01mis\u001b[39;49;00m\u001b[43m \u001b[49m\u001b[38;5;129;43;01mnot\u001b[39;49;00m\u001b[43m \u001b[49m\u001b[38;5;28;43;01mNone\u001b[39;49;00m\u001b[43m \u001b[49m\u001b[38;5;28;43;01melse\u001b[39;49;00m\u001b[43m \u001b[49m\u001b[43m{\u001b[49m\u001b[43m}\u001b[49m\u001b[43m)\u001b[49m\u001b[43m,\u001b[49m\u001b[43m \u001b[49m\u001b[38;5;241;43m*\u001b[39;49m\u001b[38;5;241;43m*\u001b[39;49m\u001b[43mkwargs\u001b[49m\u001b[43m)\u001b[49m\n",
      "File \u001b[0;32m~/dl/lib/python3.8/site-packages/matplotlib/axes/_axes.py:1634\u001b[0m, in \u001b[0;36mAxes.plot\u001b[0;34m(self, scalex, scaley, data, *args, **kwargs)\u001b[0m\n\u001b[1;32m   1632\u001b[0m lines \u001b[38;5;241m=\u001b[39m [\u001b[38;5;241m*\u001b[39m\u001b[38;5;28mself\u001b[39m\u001b[38;5;241m.\u001b[39m_get_lines(\u001b[38;5;241m*\u001b[39margs, data\u001b[38;5;241m=\u001b[39mdata, \u001b[38;5;241m*\u001b[39m\u001b[38;5;241m*\u001b[39mkwargs)]\n\u001b[1;32m   1633\u001b[0m \u001b[38;5;28;01mfor\u001b[39;00m line \u001b[38;5;129;01min\u001b[39;00m lines:\n\u001b[0;32m-> 1634\u001b[0m     \u001b[38;5;28;43mself\u001b[39;49m\u001b[38;5;241;43m.\u001b[39;49m\u001b[43madd_line\u001b[49m\u001b[43m(\u001b[49m\u001b[43mline\u001b[49m\u001b[43m)\u001b[49m\n\u001b[1;32m   1635\u001b[0m \u001b[38;5;28mself\u001b[39m\u001b[38;5;241m.\u001b[39m_request_autoscale_view(scalex\u001b[38;5;241m=\u001b[39mscalex, scaley\u001b[38;5;241m=\u001b[39mscaley)\n\u001b[1;32m   1636\u001b[0m \u001b[38;5;28;01mreturn\u001b[39;00m lines\n",
      "File \u001b[0;32m~/dl/lib/python3.8/site-packages/matplotlib/axes/_base.py:2283\u001b[0m, in \u001b[0;36m_AxesBase.add_line\u001b[0;34m(self, line)\u001b[0m\n\u001b[1;32m   2280\u001b[0m \u001b[38;5;28;01mif\u001b[39;00m line\u001b[38;5;241m.\u001b[39mget_clip_path() \u001b[38;5;129;01mis\u001b[39;00m \u001b[38;5;28;01mNone\u001b[39;00m:\n\u001b[1;32m   2281\u001b[0m     line\u001b[38;5;241m.\u001b[39mset_clip_path(\u001b[38;5;28mself\u001b[39m\u001b[38;5;241m.\u001b[39mpatch)\n\u001b[0;32m-> 2283\u001b[0m \u001b[38;5;28;43mself\u001b[39;49m\u001b[38;5;241;43m.\u001b[39;49m\u001b[43m_update_line_limits\u001b[49m\u001b[43m(\u001b[49m\u001b[43mline\u001b[49m\u001b[43m)\u001b[49m\n\u001b[1;32m   2284\u001b[0m \u001b[38;5;28;01mif\u001b[39;00m \u001b[38;5;129;01mnot\u001b[39;00m line\u001b[38;5;241m.\u001b[39mget_label():\n\u001b[1;32m   2285\u001b[0m     line\u001b[38;5;241m.\u001b[39mset_label(\u001b[38;5;124mf\u001b[39m\u001b[38;5;124m'\u001b[39m\u001b[38;5;124m_child\u001b[39m\u001b[38;5;132;01m{\u001b[39;00m\u001b[38;5;28mlen\u001b[39m(\u001b[38;5;28mself\u001b[39m\u001b[38;5;241m.\u001b[39m_children)\u001b[38;5;132;01m}\u001b[39;00m\u001b[38;5;124m'\u001b[39m)\n",
      "File \u001b[0;32m~/dl/lib/python3.8/site-packages/matplotlib/axes/_base.py:2306\u001b[0m, in \u001b[0;36m_AxesBase._update_line_limits\u001b[0;34m(self, line)\u001b[0m\n\u001b[1;32m   2302\u001b[0m \u001b[38;5;28;01mdef\u001b[39;00m \u001b[38;5;21m_update_line_limits\u001b[39m(\u001b[38;5;28mself\u001b[39m, line):\n\u001b[1;32m   2303\u001b[0m     \u001b[38;5;124;03m\"\"\"\u001b[39;00m\n\u001b[1;32m   2304\u001b[0m \u001b[38;5;124;03m    Figures out the data limit of the given line, updating self.dataLim.\u001b[39;00m\n\u001b[1;32m   2305\u001b[0m \u001b[38;5;124;03m    \"\"\"\u001b[39;00m\n\u001b[0;32m-> 2306\u001b[0m     path \u001b[38;5;241m=\u001b[39m \u001b[43mline\u001b[49m\u001b[38;5;241;43m.\u001b[39;49m\u001b[43mget_path\u001b[49m\u001b[43m(\u001b[49m\u001b[43m)\u001b[49m\n\u001b[1;32m   2307\u001b[0m     \u001b[38;5;28;01mif\u001b[39;00m path\u001b[38;5;241m.\u001b[39mvertices\u001b[38;5;241m.\u001b[39msize \u001b[38;5;241m==\u001b[39m \u001b[38;5;241m0\u001b[39m:\n\u001b[1;32m   2308\u001b[0m         \u001b[38;5;28;01mreturn\u001b[39;00m\n",
      "File \u001b[0;32m~/dl/lib/python3.8/site-packages/matplotlib/lines.py:999\u001b[0m, in \u001b[0;36mLine2D.get_path\u001b[0;34m(self)\u001b[0m\n\u001b[1;32m    997\u001b[0m \u001b[38;5;124;03m\"\"\"Return the `~matplotlib.path.Path` associated with this line.\"\"\"\u001b[39;00m\n\u001b[1;32m    998\u001b[0m \u001b[38;5;28;01mif\u001b[39;00m \u001b[38;5;28mself\u001b[39m\u001b[38;5;241m.\u001b[39m_invalidy \u001b[38;5;129;01mor\u001b[39;00m \u001b[38;5;28mself\u001b[39m\u001b[38;5;241m.\u001b[39m_invalidx:\n\u001b[0;32m--> 999\u001b[0m     \u001b[38;5;28;43mself\u001b[39;49m\u001b[38;5;241;43m.\u001b[39;49m\u001b[43mrecache\u001b[49m\u001b[43m(\u001b[49m\u001b[43m)\u001b[49m\n\u001b[1;32m   1000\u001b[0m \u001b[38;5;28;01mreturn\u001b[39;00m \u001b[38;5;28mself\u001b[39m\u001b[38;5;241m.\u001b[39m_path\n",
      "File \u001b[0;32m~/dl/lib/python3.8/site-packages/matplotlib/lines.py:657\u001b[0m, in \u001b[0;36mLine2D.recache\u001b[0;34m(self, always)\u001b[0m\n\u001b[1;32m    655\u001b[0m \u001b[38;5;28;01mif\u001b[39;00m always \u001b[38;5;129;01mor\u001b[39;00m \u001b[38;5;28mself\u001b[39m\u001b[38;5;241m.\u001b[39m_invalidy:\n\u001b[1;32m    656\u001b[0m     yconv \u001b[38;5;241m=\u001b[39m \u001b[38;5;28mself\u001b[39m\u001b[38;5;241m.\u001b[39mconvert_yunits(\u001b[38;5;28mself\u001b[39m\u001b[38;5;241m.\u001b[39m_yorig)\n\u001b[0;32m--> 657\u001b[0m     y \u001b[38;5;241m=\u001b[39m \u001b[43m_to_unmasked_float_array\u001b[49m\u001b[43m(\u001b[49m\u001b[43myconv\u001b[49m\u001b[43m)\u001b[49m\u001b[38;5;241m.\u001b[39mravel()\n\u001b[1;32m    658\u001b[0m \u001b[38;5;28;01melse\u001b[39;00m:\n\u001b[1;32m    659\u001b[0m     y \u001b[38;5;241m=\u001b[39m \u001b[38;5;28mself\u001b[39m\u001b[38;5;241m.\u001b[39m_y\n",
      "File \u001b[0;32m~/dl/lib/python3.8/site-packages/matplotlib/cbook/__init__.py:1298\u001b[0m, in \u001b[0;36m_to_unmasked_float_array\u001b[0;34m(x)\u001b[0m\n\u001b[1;32m   1296\u001b[0m     \u001b[38;5;28;01mreturn\u001b[39;00m np\u001b[38;5;241m.\u001b[39mma\u001b[38;5;241m.\u001b[39masarray(x, \u001b[38;5;28mfloat\u001b[39m)\u001b[38;5;241m.\u001b[39mfilled(np\u001b[38;5;241m.\u001b[39mnan)\n\u001b[1;32m   1297\u001b[0m \u001b[38;5;28;01melse\u001b[39;00m:\n\u001b[0;32m-> 1298\u001b[0m     \u001b[38;5;28;01mreturn\u001b[39;00m \u001b[43mnp\u001b[49m\u001b[38;5;241;43m.\u001b[39;49m\u001b[43masarray\u001b[49m\u001b[43m(\u001b[49m\u001b[43mx\u001b[49m\u001b[43m,\u001b[49m\u001b[43m \u001b[49m\u001b[38;5;28;43mfloat\u001b[39;49m\u001b[43m)\u001b[49m\n",
      "\u001b[0;31mTypeError\u001b[0m: float() argument must be a string or a number, not 'appnp'"
     ]
    },
    {
     "data": {
      "image/png": "[encoded data removed]",
      "text/plain": [
       "<Figure size 432x288 with 1 Axes>"
      ]
     },
     "metadata": {
      "needs_background": "light"
     },
     "output_type": "display_data"
    }
   ],
   "source": [
    "plt.plot(f)"
   ]
  },
  {
   "cell_type": "code",
   "execution_count": 109,
   "id": "c30e7e38",
   "metadata": {},
   "outputs": [],
   "source": [
    "import matplotlib.pyplot as plt"
   ]
  },
  {
   "cell_type": "code",
   "execution_count": 132,
   "id": "21f08cd1",
   "metadata": {},
   "outputs": [
    {
     "data": {
      "text/plain": [
       "0.56875"
      ]
     },
     "execution_count": 132,
     "metadata": {},
     "output_type": "execute_result"
    }
   ],
   "source": [
    "e"
   ]
  },
  {
   "cell_type": "code",
   "execution_count": null,
   "id": "4dd1af2b",
   "metadata": {},
   "outputs": [],
   "source": []
  }
 ],
 "metadata": {
  "kernelspec": {
   "display_name": "Python 3 (ipykernel)",
   "language": "python",
   "name": "python3"
  },
  "language_info": {
   "codemirror_mode": {
    "name": "ipython",
    "version": 3
   },
   "file_extension": ".py",
   "mimetype": "text/x-python",
   "name": "python",
   "nbconvert_exporter": "python",
   "pygments_lexer": "ipython3",
   "version": "3.8.13"
  }
 },
 "nbformat": 4,
 "nbformat_minor": 5
}
