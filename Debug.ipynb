{
 "cells": [
  {
   "cell_type": "code",
   "execution_count": 341,
   "id": "dff27b5d",
   "metadata": {},
   "outputs": [],
   "source": [
    "import torch\n",
    "import numpy as np\n",
    "from utils.generate_csbm import *\n",
    "from utils.utils import *\n",
    "from utils.train_helpers import train_NC, train_APPNP, train_pyg_model\n",
    "from utils.utils import calculate_Atilde\n",
    "from models.models import MLP\n",
    "from models.setup import set_up_NC\n",
    "import networkx as nx\n",
    "import pickle\n",
    "import matplotlib.pyplot as plt"
   ]
  },
  {
   "cell_type": "code",
   "execution_count": 381,
   "id": "439af2a6",
   "metadata": {},
   "outputs": [],
   "source": [
    "csbm = cSBM(N=100, p=100, d=8, mu=2, l=2)\n",
    "csbm.generate_node_parameters()"
   ]
  },
  {
   "cell_type": "code",
   "execution_count": 382,
   "id": "cf30c4d5",
   "metadata": {},
   "outputs": [
    {
     "data": {
      "text/plain": [
       "False"
      ]
     },
     "execution_count": 382,
     "metadata": {},
     "output_type": "execute_result"
    }
   ],
   "source": [
    "G=nx.from_numpy_matrix(csbm.A)\n",
    "nx.is_connected(G.subgraph(np.arange(20)))"
   ]
  },
  {
   "cell_type": "code",
   "execution_count": 383,
   "id": "50fb60e5",
   "metadata": {},
   "outputs": [
    {
     "data": {
      "text/plain": [
       "-2"
      ]
     },
     "execution_count": 383,
     "metadata": {},
     "output_type": "execute_result"
    }
   ],
   "source": [
    "csbm.v[0:20].sum()"
   ]
  },
  {
   "cell_type": "code",
   "execution_count": 330,
   "id": "14b08600",
   "metadata": {},
   "outputs": [
    {
     "data": {
      "text/plain": [
       "0.5"
      ]
     },
     "execution_count": 330,
     "metadata": {},
     "output_type": "execute_result"
    }
   ],
   "source": [
    "csbm.phi"
   ]
  },
  {
   "cell_type": "code",
   "execution_count": 331,
   "id": "91bcf007",
   "metadata": {},
   "outputs": [],
   "source": [
    "import sys\n",
    "sys.path.append('utils/')\n",
    "train_ids = np.load(\"experiments/DNC/0.78phi/data/train_ids.npy\")\n",
    "val_ids = np.load(\"experiments/DNC/0.78phi/data/valid_ids.npy\")\n",
    "test_ids = np.load(\"experiments//DNC/0.78phi/data/test_ids.npy\")\n",
    "file_to_open= open(\"experiments/DNC/0.78phi/data/\"+\"csbm_\"+str(0)+\".pickle\", \"rb\")"
   ]
  },
  {
   "cell_type": "code",
   "execution_count": 448,
   "id": "8bb0c35c",
   "metadata": {},
   "outputs": [],
   "source": [
    "csbm = cSBM(N=200, p=100, d=12, mu=2, l=2)\n",
    "csbm.generate_node_parameters()"
   ]
  },
  {
   "cell_type": "code",
   "execution_count": null,
   "id": "fb15d927",
   "metadata": {},
   "outputs": [],
   "source": [
    "while nx.is_connected(nx.from_numpy_matrix(csbm.A).subgraph(np.arange(20))) == False or csbm.v[0:20].sum() != 0:\n",
    "    csbm = cSBM(N=200, p=100, d=12, mu=2, l=2)\n",
    "    csbm.generate_node_parameters()"
   ]
  },
  {
   "cell_type": "code",
   "execution_count": null,
   "id": "dc234722",
   "metadata": {},
   "outputs": [],
   "source": [
    "G=nx.from_numpy_matrix(csbm.A)\n",
    "nx.is_connected(G.subgraph(np.arange(20)))"
   ]
  },
  {
   "cell_type": "code",
   "execution_count": null,
   "id": "186c02ce",
   "metadata": {},
   "outputs": [],
   "source": [
    "csbm.v[0:20].sum()"
   ]
  },
  {
   "cell_type": "code",
   "execution_count": 424,
   "id": "19cb8a19",
   "metadata": {},
   "outputs": [],
   "source": [
    "for i in range(20):\n",
    "    csbm.generate_node_parameters()\n",
    "    csbm.generate_node_data(n_local=1, method=\"DNC\")\n",
    "    file = open('experiments/DNC/0.50phi/data/'+'csbm_'+str(i)+'.pickle', 'wb') \n",
    "    pickle.dump(csbm, file)"
   ]
  },
  {
   "cell_type": "code",
   "execution_count": 425,
   "id": "ae7b0b25",
   "metadata": {},
   "outputs": [],
   "source": [
    "file_to_open= open(\"experiments/DNC/0.50phi/data/\"+\"csbm_\"+str(3)+\".pickle\", \"rb\")"
   ]
  },
  {
   "cell_type": "code",
   "execution_count": 426,
   "id": "25e563bb",
   "metadata": {},
   "outputs": [],
   "source": [
    "csbm = pickle.load(file_to_open)"
   ]
  },
  {
   "cell_type": "code",
   "execution_count": 428,
   "id": "11ea3c0a",
   "metadata": {},
   "outputs": [
    {
     "data": {
      "text/plain": [
       "True"
      ]
     },
     "execution_count": 428,
     "metadata": {},
     "output_type": "execute_result"
    }
   ],
   "source": [
    "G=nx.from_numpy_matrix(csbm.A)\n",
    "nx.is_connected(G.subgraph(np.arange(20)))"
   ]
  },
  {
   "cell_type": "code",
   "execution_count": 429,
   "id": "69818c5d",
   "metadata": {},
   "outputs": [
    {
     "data": {
      "text/plain": [
       "0"
      ]
     },
     "execution_count": 429,
     "metadata": {},
     "output_type": "execute_result"
    }
   ],
   "source": [
    "csbm.v[0:20].sum()"
   ]
  },
  {
   "cell_type": "code",
   "execution_count": 439,
   "id": "75faad18",
   "metadata": {},
   "outputs": [],
   "source": [
    "np.save(\"experiments/DNC/0.50phi/data/train_ids\", np.arange(20))\n",
    "np.save(\"experiments/DNC/0.50phi/data/valid_ids\", np.arange(20,40))\n",
    "np.save(\"experiments/DNC/0.50phi/data/test_ids\", np.arange(40,200))"
   ]
  },
  {
   "cell_type": "code",
   "execution_count": 440,
   "id": "0437f610",
   "metadata": {},
   "outputs": [],
   "source": [
    "train_ids = np.load(\"experiments/DNC/\"+str(0.5)+\"phi/data/train_ids.npy\")"
   ]
  },
  {
   "cell_type": "code",
   "execution_count": 441,
   "id": "4ed913e0",
   "metadata": {},
   "outputs": [
    {
     "data": {
      "text/plain": [
       "array([ 0,  1,  2,  3,  4,  5,  6,  7,  8,  9, 10, 11, 12, 13, 14, 15, 16,\n",
       "       17, 18, 19])"
      ]
     },
     "execution_count": 441,
     "metadata": {},
     "output_type": "execute_result"
    }
   ],
   "source": [
    "train_ids"
   ]
  },
  {
   "cell_type": "code",
   "execution_count": 443,
   "id": "63973665",
   "metadata": {},
   "outputs": [
    {
     "data": {
      "text/plain": [
       "(100, 100)"
      ]
     },
     "execution_count": 443,
     "metadata": {},
     "output_type": "execute_result"
    }
   ],
   "source": [
    "csbm.A.shape"
   ]
  },
  {
   "cell_type": "code",
   "execution_count": null,
   "id": "8bb5f1e0",
   "metadata": {},
   "outputs": [],
   "source": []
  }
 ],
 "metadata": {
  "kernelspec": {
   "display_name": "Python 3 (ipykernel)",
   "language": "python",
   "name": "python3"
  },
  "language_info": {
   "codemirror_mode": {
    "name": "ipython",
    "version": 3
   },
   "file_extension": ".py",
   "mimetype": "text/x-python",
   "name": "python",
   "nbconvert_exporter": "python",
   "pygments_lexer": "ipython3",
   "version": "3.8.13"
  }
 },
 "nbformat": 4,
 "nbformat_minor": 5
}
