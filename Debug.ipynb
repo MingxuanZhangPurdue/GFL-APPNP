{
 "cells": [
  {
   "cell_type": "code",
   "execution_count": 94,
   "id": "dff27b5d",
   "metadata": {},
   "outputs": [],
   "source": [
    "import torch\n",
    "import numpy as np\n",
    "from utils.generate_csbm import *\n",
    "from utils.utils import *\n",
    "from utils.train_helpers import train_NC, train_APPNP, train_pyg_model\n",
    "from utils.utils import calculate_Atilde\n",
    "from models.models import MLP\n",
    "from models.setup import set_up_NC\n",
    "import networkx as nx\n",
    "import pickle\n",
    "import matplotlib.pyplot as plt"
   ]
  },
  {
   "cell_type": "code",
   "execution_count": 95,
   "id": "f863dcd0",
   "metadata": {},
   "outputs": [],
   "source": [
    "final_seeds = [101993, 124709, 196252,  95930,  68222, 101539,  22989,  45367,\n",
    "       166831, 189085,  12237, 242044,  40182,  84405, 234468, 233451,\n",
    "       154898,  81745,  70716,  39777, 248183, 109371, 112311, 229323,\n",
    "         2160, 219137, 221729,  98972, 238056, 265088,  90081, 271232,\n",
    "       260735,  96076, 121375,  11447]\n",
    "final_cc_ids = [1, 0, 2, 3, 2, 1, 2, 1, 2, 2, 0, 1, 1, 2, 0, 1, 2, 1, 2, 1, 3, 0,\n",
    "       0, 0, 1, 2, 1, 0, 1, 1, 0, 0, 3, 0, 0, 1]\n",
    "\n",
    "dataset = Planetoid(root='/tmp/Cora', name='Cora')\n",
    "cora_data = dataset[0]\n",
    "G, Xs, ys, A = pygdata_to_frameformat(cora_data)\n",
    "\n",
    "def generate_subcora(rs, ith_cc, \n",
    "                     G, cora_data, Xs, ys, A, \n",
    "                     subgraph_size = 300):\n",
    "    torch.manual_seed(rs)\n",
    "    ids = torch.randperm(cora_data.y.shape[0]).numpy()\n",
    "    sub_ids = ids[0:800]\n",
    "    subcora = G.subgraph(ids[0:800])\n",
    "    connected_components = sorted(nx.connected_components(subcora), key=len, reverse=True)\n",
    "    train_nodes = np.array(list(connected_components[ith_cc]))\n",
    "    all_reachable_nodes = []\n",
    "    for train_node in train_nodes:\n",
    "        for reachable_node in nx.bfs_tree(G,source=train_node, depth_limit=2):\n",
    "            all_reachable_nodes.append(reachable_node)\n",
    "    avail_nodes = np.array(list(set(all_reachable_nodes) - set(train_nodes)))\n",
    "    num_train = len(train_nodes)\n",
    "    num_val = num_train\n",
    "    val_nodes = avail_nodes[:num_train]\n",
    "    test_nodes = avail_nodes[num_train:subgraph_size-num_train]\n",
    "    all_ids = np.concatenate([train_nodes,val_nodes,test_nodes], axis=0)\n",
    "    \n",
    "    sub_Xs = Xs[all_ids]\n",
    "    sub_ys = ys[all_ids]\n",
    "    sub_A = A[all_ids,][:,all_ids]\n",
    "    \n",
    "    train_mask = np.arange(num_train)\n",
    "    val_mask = np.arange(num_train, num_train+num_val)\n",
    "    test_mask = np.arange(num_train+num_val,subgraph_size)\n",
    "    \n",
    "    X = sub_Xs.view(subgraph_size, -1)\n",
    "    y = sub_ys.view(subgraph_size)\n",
    "\n",
    "    edge_index = []\n",
    "    N = sub_A.shape[0]\n",
    "    for i in range(N):\n",
    "        for j in range(N):\n",
    "            if (i != j):\n",
    "                if (sub_A[i,j] == 1):\n",
    "                    edge_index.append([i,j])\n",
    "    edge_index = torch.tensor(edge_index, dtype=torch.long).t().contiguous()\n",
    "\n",
    "    subcora_data = Data(x=X, y=y, edge_index=edge_index, train_mask=train_mask, val_mask=val_mask, test_mask=test_mask)\n",
    "    \n",
    "    \n",
    "    return subcora_data, sub_Xs, sub_ys, sub_A, calculate_Atilde(sub_A, 10, 0.9), train_mask, val_mask, test_mask"
   ]
  },
  {
   "cell_type": "code",
   "execution_count": 96,
   "id": "c5e6fb16",
   "metadata": {},
   "outputs": [],
   "source": [
    "seed_idx=0\n",
    "subcora_data, sub_Xs, sub_ys, sub_A, sub_Atilde, train_ids, val_ids, test_ids = generate_subcora(final_seeds[seed_idx],\n",
    "                                                                                                 final_cc_ids[seed_idx],\n",
    "                                                                                                 G,\n",
    "                                                                                                 cora_data, \n",
    "                                                                                                 Xs, ys, \n",
    "                                                                                                 A,\n",
    "                                                                                                 subgraph_size=300)"
   ]
  },
  {
   "cell_type": "code",
   "execution_count": 97,
   "id": "de0bb91d",
   "metadata": {},
   "outputs": [],
   "source": [
    "import torch\n",
    "import torch.nn as nn\n",
    "import torch.nn.functional as F\n",
    "from torch_geometric.nn import GCNConv, GATConv, SAGEConv, APPNP\n",
    "from torch_geometric.data import Data\n",
    "from torch_geometric.utils import from_networkx, from_scipy_sparse_matrix\n",
    "import networkx as nx\n",
    "from scipy import sparse\n",
    "import torch.optim as optim\n",
    "import torch.nn.functional as F\n",
    "class appnp(torch.nn.Module):\n",
    "    def __init__(self, num_node_features, num_classes, hidden_dimensions=64, bias=False,\n",
    "                 K=10, alpha=0.1):\n",
    "        super().__init__()\n",
    "        self.appnp_layer = APPNP(K=K, alpha=alpha, cached=True)\n",
    "        self.linear = nn.Linear(num_node_features, hidden_dimensions, bias=bias)\n",
    "        self.output = nn.Linear(hidden_dimensions, num_classes, bias=bias)\n",
    "\n",
    "    def forward(self, data):\n",
    "        x, edge_index = data.x, data.edge_index\n",
    "        x = self.linear(x)\n",
    "        x = F.relu(x)\n",
    "        x = self.output(self.appnp_layer(x, edge_index))\n",
    "        return F.log_softmax(x, dim=1) "
   ]
  },
  {
   "cell_type": "code",
   "execution_count": 110,
   "id": "e02b8508",
   "metadata": {},
   "outputs": [],
   "source": [
    "device = torch.device('cuda' if torch.cuda.is_available() else 'cpu')\n",
    "model = appnp(1433, 7, bias=True).to(device)\n",
    "data = subcora_data.to(device)\n",
    "optimizer = torch.optim.Adam(model.parameters(), lr=0.001, weight_decay=5e-4)\n",
    "tl = []\n",
    "model.train()\n",
    "for epoch in range(200):\n",
    "    optimizer.zero_grad()\n",
    "    out = model(data)\n",
    "    loss = F.nll_loss(out[data.train_mask], data.y[data.train_mask])\n",
    "    loss.backward()\n",
    "    tl.append(loss.item())\n",
    "    optimizer.step()"
   ]
  },
  {
   "cell_type": "code",
   "execution_count": 111,
   "id": "1bda2c8d",
   "metadata": {},
   "outputs": [
    {
     "name": "stdout",
     "output_type": "stream",
     "text": [
      "Accuracy: 0.6034\n"
     ]
    }
   ],
   "source": [
    "model.eval()\n",
    "_, pred = model(data).max(dim=1)\n",
    "correct = int(pred[data.test_mask].eq(data.y[data.test_mask]).sum().item())\n",
    "acc = correct / int(data.test_mask.shape[0])\n",
    "print('Accuracy: {:.4f}'.format(acc))"
   ]
  },
  {
   "cell_type": "code",
   "execution_count": 112,
   "id": "c0eb2001",
   "metadata": {},
   "outputs": [
    {
     "data": {
      "text/plain": [
       "[<matplotlib.lines.Line2D at 0x208c958f670>]"
      ]
     },
     "execution_count": 112,
     "metadata": {},
     "output_type": "execute_result"
    },
    {
     "data": {
      "image/png": "[encoded data removed]",
      "text/plain": [
       "<Figure size 432x288 with 1 Axes>"
      ]
     },
     "metadata": {
      "needs_background": "light"
     },
     "output_type": "display_data"
    }
   ],
   "source": [
    "plt.plot(tl)"
   ]
  },
  {
   "cell_type": "code",
   "execution_count": 125,
   "id": "e56e3ac2",
   "metadata": {},
   "outputs": [
    {
     "ename": "NameError",
     "evalue": "name 'X' is not defined",
     "output_type": "error",
     "traceback": [
      "\u001b[1;31m---------------------------------------------------------------------------\u001b[0m",
      "\u001b[1;31mNameError\u001b[0m                                 Traceback (most recent call last)",
      "Input \u001b[1;32mIn [125]\u001b[0m, in \u001b[0;36m<cell line: 7>\u001b[1;34m()\u001b[0m\n\u001b[0;32m      3\u001b[0m \u001b[38;5;28;01mimport\u001b[39;00m \u001b[38;5;21;01mtorch\u001b[39;00m\n\u001b[0;32m      6\u001b[0m edge_index \u001b[38;5;241m=\u001b[39m from_scipy_sparse_matrix(sparse\u001b[38;5;241m.\u001b[39mcsr_matrix(A))[\u001b[38;5;241m0\u001b[39m]\n\u001b[1;32m----> 7\u001b[0m data \u001b[38;5;241m=\u001b[39m Data(x\u001b[38;5;241m=\u001b[39m\u001b[43mX\u001b[49m, y\u001b[38;5;241m=\u001b[39my, edge_index\u001b[38;5;241m=\u001b[39medge_index)\n",
      "\u001b[1;31mNameError\u001b[0m: name 'X' is not defined"
     ]
    }
   ],
   "source": [
    "from torch_geometric.utils import from_scipy_sparse_matrix\n",
    "import scipy\n",
    "import torch\n",
    "\n",
    "edge_index = from_scipy_sparse_matrix(sparse.csr_matrix(A))[0]\n",
    "data = Data(x=X, y=y, edge_index=edge_index, train_mask=train_ids, valid_mask=valid_mask, test_mask=test_ids)"
   ]
  },
  {
   "cell_type": "code",
   "execution_count": 1,
   "id": "d3ffe259",
   "metadata": {},
   "outputs": [
    {
     "name": "stderr",
     "output_type": "stream",
     "text": [
      "D:\\Anaconda\\envs\\datascience\\lib\\site-packages\\tqdm\\auto.py:22: TqdmWarning: IProgress not found. Please update jupyter and ipywidgets. See https://ipywidgets.readthedocs.io/en/stable/user_install.html\n",
      "  from .autonotebook import tqdm as notebook_tqdm\n",
      "C:\\Users\\Mingxuan Zhang\\Desktop\\GFL-APPNP\\utils\\utils.py:57: FutureWarning: adjacency_matrix will return a scipy.sparse array instead of a matrix in Networkx 3.0.\n",
      "  A = np.array(adjacency_matrix(G).todense())\n"
     ]
    },
    {
     "name": "stdout",
     "output_type": "stream",
     "text": [
      "Communication: 5 Average train loss: 1.91644 Average train accuracy: 0.412 Average val loss: 1.94300 Average val accuracy: 0.206\n",
      "Communication: 10 Average train loss: 1.88347 Average train accuracy: 0.618 Average val loss: 1.93731 Average val accuracy: 0.206\n",
      "Communication: 15 Average train loss: 1.84249 Average train accuracy: 0.794 Average val loss: 1.92880 Average val accuracy: 0.294\n",
      "Communication: 20 Average train loss: 1.78959 Average train accuracy: 0.824 Average val loss: 1.91626 Average val accuracy: 0.353\n",
      "Communication: 25 Average train loss: 1.72376 Average train accuracy: 0.794 Average val loss: 1.89869 Average val accuracy: 0.412\n",
      "Communication: 30 Average train loss: 1.64444 Average train accuracy: 0.794 Average val loss: 1.87648 Average val accuracy: 0.382\n",
      "Communication: 35 Average train loss: 1.55270 Average train accuracy: 0.794 Average val loss: 1.85101 Average val accuracy: 0.382\n",
      "Communication: 40 Average train loss: 1.45286 Average train accuracy: 0.824 Average val loss: 1.82391 Average val accuracy: 0.441\n",
      "Communication: 45 Average train loss: 1.35011 Average train accuracy: 0.824 Average val loss: 1.79840 Average val accuracy: 0.471\n",
      "Communication: 50 Average train loss: 1.24778 Average train accuracy: 0.824 Average val loss: 1.77591 Average val accuracy: 0.471\n",
      "Communication: 55 Average train loss: 1.14802 Average train accuracy: 0.882 Average val loss: 1.75694 Average val accuracy: 0.500\n",
      "Communication: 60 Average train loss: 1.05234 Average train accuracy: 0.882 Average val loss: 1.74135 Average val accuracy: 0.471\n",
      "Communication: 65 Average train loss: 0.96176 Average train accuracy: 0.912 Average val loss: 1.72844 Average val accuracy: 0.471\n",
      "Communication: 70 Average train loss: 0.87715 Average train accuracy: 0.912 Average val loss: 1.71788 Average val accuracy: 0.471\n",
      "Communication: 75 Average train loss: 0.79921 Average train accuracy: 0.912 Average val loss: 1.70893 Average val accuracy: 0.471\n",
      "Communication: 80 Average train loss: 0.72830 Average train accuracy: 0.912 Average val loss: 1.70140 Average val accuracy: 0.471\n",
      "Communication: 85 Average train loss: 0.66446 Average train accuracy: 0.941 Average val loss: 1.69505 Average val accuracy: 0.471\n",
      "Communication: 90 Average train loss: 0.60732 Average train accuracy: 0.941 Average val loss: 1.68964 Average val accuracy: 0.471\n",
      "Communication: 95 Average train loss: 0.55634 Average train accuracy: 0.941 Average val loss: 1.68506 Average val accuracy: 0.471\n",
      "Communication: 100 Average train loss: 0.51104 Average train accuracy: 0.941 Average val loss: 1.68111 Average val accuracy: 0.412\n",
      "Communication: 105 Average train loss: 0.47079 Average train accuracy: 0.971 Average val loss: 1.67769 Average val accuracy: 0.412\n",
      "Communication: 110 Average train loss: 0.43491 Average train accuracy: 1.000 Average val loss: 1.67464 Average val accuracy: 0.441\n",
      "Communication: 115 Average train loss: 0.40280 Average train accuracy: 1.000 Average val loss: 1.67200 Average val accuracy: 0.412\n",
      "Communication: 120 Average train loss: 0.37399 Average train accuracy: 1.000 Average val loss: 1.66976 Average val accuracy: 0.412\n",
      "Communication: 125 Average train loss: 0.34805 Average train accuracy: 1.000 Average val loss: 1.66779 Average val accuracy: 0.412\n",
      "Communication: 130 Average train loss: 0.32453 Average train accuracy: 1.000 Average val loss: 1.66603 Average val accuracy: 0.412\n",
      "Communication: 135 Average train loss: 0.30315 Average train accuracy: 1.000 Average val loss: 1.66453 Average val accuracy: 0.412\n",
      "Communication: 140 Average train loss: 0.28364 Average train accuracy: 1.000 Average val loss: 1.66323 Average val accuracy: 0.412\n",
      "Communication: 145 Average train loss: 0.26576 Average train accuracy: 1.000 Average val loss: 1.66213 Average val accuracy: 0.412\n",
      "Communication: 150 Average train loss: 0.24932 Average train accuracy: 1.000 Average val loss: 1.66120 Average val accuracy: 0.412\n"
     ]
    },
    {
     "ename": "KeyboardInterrupt",
     "evalue": "",
     "output_type": "error",
     "traceback": [
      "\u001b[1;31m---------------------------------------------------------------------------\u001b[0m",
      "\u001b[1;31mKeyboardInterrupt\u001b[0m                         Traceback (most recent call last)",
      "Input \u001b[1;32mIn [1]\u001b[0m, in \u001b[0;36m<cell line: 99>\u001b[1;34m()\u001b[0m\n\u001b[0;32m     91\u001b[0m init_mlp \u001b[38;5;241m=\u001b[39m MLP(sub_Xs[\u001b[38;5;241m0\u001b[39m]\u001b[38;5;241m.\u001b[39mshape[\u001b[38;5;241m1\u001b[39m], \u001b[38;5;241m64\u001b[39m, \u001b[38;5;241m7\u001b[39m, bias\u001b[38;5;241m=\u001b[39m\u001b[38;5;28;01mFalse\u001b[39;00m)\n\u001b[0;32m     93\u001b[0m server \u001b[38;5;241m=\u001b[39m set_up_NC(sub_Xs, sub_ys, init_mlp, sub_Atilde, \n\u001b[0;32m     94\u001b[0m                    train_ids, val_ids, test_ids,\n\u001b[0;32m     95\u001b[0m                    \u001b[38;5;28;01mTrue\u001b[39;00m,\n\u001b[0;32m     96\u001b[0m                    \u001b[38;5;28;01mFalse\u001b[39;00m, \u001b[38;5;28;01mFalse\u001b[39;00m,\n\u001b[0;32m     97\u001b[0m                    \u001b[38;5;241m0.01\u001b[39m, \u001b[38;5;241m0.01\u001b[39m)\n\u001b[1;32m---> 99\u001b[0m tl, ta, vl, va \u001b[38;5;241m=\u001b[39m \u001b[43mtrain_NC\u001b[49m\u001b[43m(\u001b[49m\u001b[43mserver\u001b[49m\u001b[43m,\u001b[49m\u001b[43m \u001b[49m\u001b[38;5;241;43m200\u001b[39;49m\u001b[43m,\u001b[49m\u001b[43m \u001b[49m\u001b[38;5;241;43m1\u001b[39;49m\u001b[43m,\u001b[49m\u001b[43m \u001b[49m\u001b[38;5;241;43m0.01\u001b[39;49m\u001b[43m,\u001b[49m\u001b[43m \u001b[49m\u001b[38;5;241;43m10\u001b[39;49m\u001b[43m,\u001b[49m\u001b[43m \u001b[49m\u001b[38;5;28;43;01mTrue\u001b[39;49;00m\u001b[43m,\u001b[49m\u001b[43m \u001b[49m\u001b[38;5;241;43m5\u001b[39;49m\u001b[43m)\u001b[49m\n",
      "File \u001b[1;32m~\\Desktop\\GFL-APPNP\\utils\\train_helpers.py:81\u001b[0m, in \u001b[0;36mtrain_NC\u001b[1;34m(server, num_communication, batch_size, learning_rate, I, Print, print_time)\u001b[0m\n\u001b[0;32m     77\u001b[0m train_accs, val_accs \u001b[38;5;241m=\u001b[39m [], []\n\u001b[0;32m     79\u001b[0m \u001b[38;5;28;01mfor\u001b[39;00m ith \u001b[38;5;129;01min\u001b[39;00m \u001b[38;5;28mrange\u001b[39m(num_communication):\n\u001b[1;32m---> 81\u001b[0m     train_loss, train_acc, val_loss, val_acc \u001b[38;5;241m=\u001b[39m \u001b[43mserver\u001b[49m\u001b[38;5;241;43m.\u001b[39;49m\u001b[43mcommunication\u001b[49m\u001b[43m(\u001b[49m\u001b[43mbatch_size\u001b[49m\u001b[43m,\u001b[49m\u001b[43m \u001b[49m\u001b[43mlearning_rate\u001b[49m\u001b[43m,\u001b[49m\u001b[43m \u001b[49m\u001b[43mI\u001b[49m\u001b[43m)\u001b[49m\n\u001b[0;32m     83\u001b[0m     train_losses\u001b[38;5;241m.\u001b[39mappend(train_loss)\n\u001b[0;32m     84\u001b[0m     train_accs\u001b[38;5;241m.\u001b[39mappend(train_acc)\n",
      "File \u001b[1;32m~\\Desktop\\GFL-APPNP\\models\\GFLAPPNP_NC.py:279\u001b[0m, in \u001b[0;36mCentral_Server.communication\u001b[1;34m(self, batch_size, learning_rate, I)\u001b[0m\n\u001b[0;32m    277\u001b[0m     \u001b[38;5;28;01mwith\u001b[39;00m torch\u001b[38;5;241m.\u001b[39mno_grad():\n\u001b[0;32m    278\u001b[0m         C_k \u001b[38;5;241m=\u001b[39m C[k,:] \u001b[38;5;241m-\u001b[39m \u001b[38;5;28mself\u001b[39m\u001b[38;5;241m.\u001b[39mA_tilde[k,k]\u001b[38;5;241m*\u001b[39mH[k,:]\n\u001b[1;32m--> 279\u001b[0m     \u001b[38;5;28;43mself\u001b[39;49m\u001b[38;5;241;43m.\u001b[39;49m\u001b[43mnode_list\u001b[49m\u001b[43m[\u001b[49m\u001b[43mk\u001b[49m\u001b[43m]\u001b[49m\u001b[38;5;241;43m.\u001b[39;49m\u001b[43mlocal_update\u001b[49m\u001b[43m(\u001b[49m\u001b[38;5;28;43mself\u001b[39;49m\u001b[38;5;241;43m.\u001b[39;49m\u001b[43mA_tilde\u001b[49m\u001b[43m[\u001b[49m\u001b[43mk\u001b[49m\u001b[43m,\u001b[49m\u001b[43m:\u001b[49m\u001b[43m]\u001b[49m\u001b[43m,\u001b[49m\u001b[43m \u001b[49m\u001b[38;5;28;43mself\u001b[39;49m\u001b[38;5;241;43m.\u001b[39;49m\u001b[43mA_tilde_gdevice\u001b[49m\u001b[43m[\u001b[49m\u001b[43mk\u001b[49m\u001b[43m,\u001b[49m\u001b[43m:\u001b[49m\u001b[43m]\u001b[49m\u001b[43m,\u001b[49m\u001b[43m \u001b[49m\u001b[43mC_k\u001b[49m\u001b[43m,\u001b[49m\u001b[43m \u001b[49m\u001b[43mdH\u001b[49m\u001b[43m,\u001b[49m\u001b[43m \u001b[49m\u001b[43mbatch_size\u001b[49m\u001b[43m,\u001b[49m\u001b[43m \u001b[49m\u001b[43mlearning_rate\u001b[49m\u001b[43m,\u001b[49m\u001b[43m \u001b[49m\u001b[43mI\u001b[49m\u001b[43m)\u001b[49m\n\u001b[0;32m    281\u001b[0m \u001b[38;5;28mself\u001b[39m\u001b[38;5;241m.\u001b[39mmean_aggregation_train()\n\u001b[0;32m    283\u001b[0m train_loss, train_acc, val_loss, val_acc \u001b[38;5;241m=\u001b[39m \u001b[38;5;28mself\u001b[39m\u001b[38;5;241m.\u001b[39meval_train_val()\n",
      "File \u001b[1;32m~\\Desktop\\GFL-APPNP\\models\\GFLAPPNP_NC.py:127\u001b[0m, in \u001b[0;36mNode.local_update\u001b[1;34m(self, A_tilde_k_d, A_tilde_k_gd, C_k, dH, batch_size, learning_rate, I)\u001b[0m\n\u001b[0;32m    125\u001b[0m             p_grad \u001b[38;5;241m=\u001b[39m torch\u001b[38;5;241m.\u001b[39meinsum(\u001b[38;5;124m\"\u001b[39m\u001b[38;5;124mi,ibcd->ibcd\u001b[39m\u001b[38;5;124m\"\u001b[39m, A_tilde_k_gd[\u001b[38;5;28mself\u001b[39m\u001b[38;5;241m.\u001b[39mids_mask], dH[pname][\u001b[38;5;28mself\u001b[39m\u001b[38;5;241m.\u001b[39mids_mask])\n\u001b[0;32m    126\u001b[0m             p_grad \u001b[38;5;241m=\u001b[39m torch\u001b[38;5;241m.\u001b[39meinsum(\u001b[38;5;124m\"\u001b[39m\u001b[38;5;124mab,cbef->ef\u001b[39m\u001b[38;5;124m\"\u001b[39m, Errs, p_grad)\u001b[38;5;241m/\u001b[39mX\u001b[38;5;241m.\u001b[39mshape[\u001b[38;5;241m0\u001b[39m]\n\u001b[1;32m--> 127\u001b[0m             param\u001b[38;5;241m.\u001b[39mgrad\u001b[38;5;241m.\u001b[39mdata \u001b[38;5;241m+\u001b[39m\u001b[38;5;241m=\u001b[39m \u001b[43mp_grad\u001b[49m\u001b[38;5;241;43m.\u001b[39;49m\u001b[43mto\u001b[49m\u001b[43m(\u001b[49m\u001b[43mdevice\u001b[49m\u001b[43m)\u001b[49m\n\u001b[0;32m    129\u001b[0m \u001b[38;5;28;01melse\u001b[39;00m:\n\u001b[0;32m    130\u001b[0m     local_loss \u001b[38;5;241m=\u001b[39m F\u001b[38;5;241m.\u001b[39mnll_loss(torch\u001b[38;5;241m.\u001b[39mlog(y_hat), y)\n",
      "\u001b[1;31mKeyboardInterrupt\u001b[0m: "
     ]
    }
   ],
   "source": [
    "import torch\n",
    "import numpy as np\n",
    "from utils.utils import *\n",
    "from utils.train_helpers import *\n",
    "from models.models import *\n",
    "from models.setup import *\n",
    "import networkx as nx\n",
    "import pickle\n",
    " \n",
    "import copy\n",
    "import networkx as nx\n",
    "import matplotlib.pyplot as plt\n",
    "import numpy as np\n",
    "\n",
    "from os.path import exists\n",
    "import argparse\n",
    "import os\n",
    "\n",
    "from torch_geometric.datasets import Planetoid\n",
    "from torch_geometric.utils import to_networkx\n",
    "\n",
    "final_seeds = [101993, 124709, 196252,  95930,  68222, 101539,  22989,  45367,\n",
    "       166831, 189085,  12237, 242044,  40182,  84405, 234468, 233451,\n",
    "       154898,  81745,  70716,  39777, 248183, 109371, 112311, 229323,\n",
    "         2160, 219137, 221729,  98972, 238056, 265088,  90081, 271232,\n",
    "       260735,  96076, 121375,  11447]\n",
    "final_cc_ids = [1, 0, 2, 3, 2, 1, 2, 1, 2, 2, 0, 1, 1, 2, 0, 1, 2, 1, 2, 1, 3, 0,\n",
    "       0, 0, 1, 2, 1, 0, 1, 1, 0, 0, 3, 0, 0, 1]\n",
    "\n",
    "dataset = Planetoid(root='/tmp/Cora', name='Cora')\n",
    "cora_data = dataset[0]\n",
    "G, Xs, ys, A = pygdata_to_frameformat(cora_data)\n",
    "\n",
    "def generate_subcora(rs, ith_cc, \n",
    "                     G, cora_data, Xs, ys, A, \n",
    "                     subgraph_size = 300):\n",
    "    torch.manual_seed(rs)\n",
    "    ids = torch.randperm(cora_data.y.shape[0]).numpy()\n",
    "    sub_ids = ids[0:800]\n",
    "    subcora = G.subgraph(ids[0:800])\n",
    "    connected_components = sorted(nx.connected_components(subcora), key=len, reverse=True)\n",
    "    train_nodes = np.array(list(connected_components[ith_cc]))\n",
    "    all_reachable_nodes = []\n",
    "    for train_node in train_nodes:\n",
    "        for reachable_node in nx.bfs_tree(G,source=train_node, depth_limit=2):\n",
    "            all_reachable_nodes.append(reachable_node)\n",
    "    avail_nodes = np.array(list(set(all_reachable_nodes) - set(train_nodes)))\n",
    "    num_train = len(train_nodes)\n",
    "    num_val = num_train\n",
    "    val_nodes = avail_nodes[:num_train]\n",
    "    test_nodes = avail_nodes[num_train:subgraph_size-num_train]\n",
    "    all_ids = np.concatenate([train_nodes,val_nodes,test_nodes], axis=0)\n",
    "    \n",
    "    sub_Xs = Xs[all_ids]\n",
    "    sub_ys = ys[all_ids]\n",
    "    sub_A = A[all_ids,][:,all_ids]\n",
    "    \n",
    "    train_mask = np.arange(num_train)\n",
    "    val_mask = np.arange(num_train, num_train+num_val)\n",
    "    test_mask = np.arange(num_train+num_val,subgraph_size)\n",
    "    \n",
    "    X = sub_Xs.view(subgraph_size, -1)\n",
    "    y = sub_ys.view(subgraph_size)\n",
    "\n",
    "    edge_index = []\n",
    "    N = sub_A.shape[0]\n",
    "    for i in range(N):\n",
    "        for j in range(N):\n",
    "            if (i != j):\n",
    "                if (sub_A[i,j] == 1):\n",
    "                    edge_index.append([i,j])\n",
    "    edge_index = torch.tensor(edge_index, dtype=torch.long).t().contiguous()\n",
    "\n",
    "    subcora_data = Data(x=X, y=y, edge_index=edge_index, train_mask=train_mask, val_mask=val_mask, test_mask=test_mask)\n",
    "    \n",
    "    \n",
    "    return subcora_data, sub_Xs, sub_ys, sub_A, calculate_Atilde(sub_A, 10, 0.9), train_mask, val_mask, test_mask\n",
    "\n",
    "\n",
    "\n",
    "\n",
    "\n",
    "subcora_data, sub_Xs, sub_ys, sub_A, sub_Atilde, train_ids, val_ids, test_ids = generate_subcora(final_seeds[0],\n",
    "                                                                                                 final_cc_ids[0],\n",
    "                                                                                                 G,\n",
    "                                                                                                 cora_data, \n",
    "                                                                                                 Xs, ys, \n",
    "                                                                                                 A,\n",
    "                                                                                                 subgraph_size=300)\n",
    "torch.manual_seed(0)\n",
    "init_mlp = MLP(sub_Xs[0].shape[1], 64, 7, bias=False)\n",
    "\n",
    "server = set_up_NC(sub_Xs, sub_ys, init_mlp, sub_Atilde, \n",
    "                   train_ids, val_ids, test_ids,\n",
    "                   True,\n",
    "                   False, False,\n",
    "                   0.01, 0.01)\n",
    "\n",
    "tl, ta, vl, va = train_NC(server, 200, 1, 0.01, 10, True, 5)"
   ]
  }
 ],
 "metadata": {
  "kernelspec": {
   "display_name": "Python 3 (ipykernel)",
   "language": "python",
   "name": "python3"
  },
  "language_info": {
   "codemirror_mode": {
    "name": "ipython",
    "version": 3
   },
   "file_extension": ".py",
   "mimetype": "text/x-python",
   "name": "python",
   "nbconvert_exporter": "python",
   "pygments_lexer": "ipython3",
   "version": "3.8.13"
  }
 },
 "nbformat": 4,
 "nbformat_minor": 5
}
