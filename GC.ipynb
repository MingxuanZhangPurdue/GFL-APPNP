{
 "cells": [
  {
   "cell_type": "code",
   "execution_count": 1,
   "id": "09c08853",
   "metadata": {},
   "outputs": [],
   "source": [
    "import torch\n",
    "import numpy as np\n",
    "from utils.generate_csbm import *\n",
    "from utils.train import *\n",
    "from utils.utils import *\n",
    "from models.models import *\n",
    "from models.setup import *\n",
    "import networkx as nx\n",
    "import pickle"
   ]
  },
  {
   "cell_type": "code",
   "execution_count": 2,
   "id": "a20b9120",
   "metadata": {},
   "outputs": [],
   "source": [
    "def exp_csbm(ith, method, folder_path, csbm, n_train, n_val, \n",
    "             num_communication=100, batch_size=1,\n",
    "             learning_rate=0.01, I=10, gradient=True, noise=False,\n",
    "             Print=False, print_time=1,\n",
    "             resume=False,\n",
    "             bias=False,\n",
    "             save=True,\n",
    "             improved=False):\n",
    "    \n",
    "\n",
    "    init_mlp = MLP(csbm.Xs[0].shape[1], 64, 2, bias)\n",
    "        \n",
    "    if (gradient == False):\n",
    "        grad = \"no_grad/\"\n",
    "    elif (gradient == True and noise==False):\n",
    "        grad = \"biased_grad/\"\n",
    "    elif (gradient == True and noise==True):\n",
    "        grad = \"noisy_grad/\"\n",
    "      \n",
    "    A_tilde = calculate_Atilde(csbm.A, K=10, alpha=0.9)\n",
    "    server = set_up_GC(csbm.Xs, csbm.ys, init_mlp, A_tilde, n_train=n_train, n_val=n_val, improved=improved)\n",
    "   \n",
    "        \n",
    "    tl, ta, vl, va = train_GC(server, num_communication, batch_size, learning_rate, I,\n",
    "                              gradient, noise, \n",
    "                              Print, print_time)\n",
    "    if save:    \n",
    "        np.save(folder_path + method + grad + \"I\" + str(I) + \"/tl_\" + str(ith), tl)\n",
    "        np.save(folder_path + method + grad + \"I\" + str(I) + \"/ta_\" + str(ith), ta)\n",
    "        np.save(folder_path + method + grad + \"I\" + str(I) + \"/vl_\" + str(ith), vl)\n",
    "        np.save(folder_path + method + grad + \"I\" + str(I) + \"/va_\" + str(ith), va)\n",
    "\n",
    "        PATH = folder_path + method + grad + \"I\" + str(I) + \"/model_\" + str(ith)\n",
    "        torch.save({\n",
    "                'best_model_state_dict': server.best_cmodel.state_dict(),\n",
    "                'learning_rate': learning_rate,\n",
    "                'test_acc': server.eval_test()[1],\n",
    "                'model_state_dict': server.cmodel.state_dict(),\n",
    "                'best_valloss': server.best_valloss,\n",
    "                'best_valacc': server.best_valacc,\n",
    "                }, PATH)"
   ]
  },
  {
   "cell_type": "code",
   "execution_count": 3,
   "id": "68686ba4",
   "metadata": {},
   "outputs": [
    {
     "name": "stdout",
     "output_type": "stream",
     "text": [
      "Communication: 1 Average train loss: 0.69271 Average train accuracy: 0.517 Average val loss: 0.69258 Average val accuracy: 0.528\n",
      "0 10\n"
     ]
    },
    {
     "ename": "KeyboardInterrupt",
     "evalue": "",
     "output_type": "error",
     "traceback": [
      "\u001b[0;31m---------------------------------------------------------------------------\u001b[0m",
      "\u001b[0;31mKeyboardInterrupt\u001b[0m                         Traceback (most recent call last)",
      "\u001b[0;32m/var/folders/qb/qvxrwz454mj92jl_h79qv2t80000gn/T/ipykernel_88956/2937308658.py\u001b[0m in \u001b[0;36m<module>\u001b[0;34m\u001b[0m\n\u001b[1;32m     11\u001b[0m                  \u001b[0mresume\u001b[0m\u001b[0;34m=\u001b[0m\u001b[0;32mFalse\u001b[0m\u001b[0;34m,\u001b[0m\u001b[0;34m\u001b[0m\u001b[0;34m\u001b[0m\u001b[0m\n\u001b[1;32m     12\u001b[0m                  \u001b[0mbias\u001b[0m\u001b[0;34m=\u001b[0m\u001b[0;32mFalse\u001b[0m\u001b[0;34m,\u001b[0m\u001b[0;34m\u001b[0m\u001b[0;34m\u001b[0m\u001b[0m\n\u001b[0;32m---> 13\u001b[0;31m                  save=True)\n\u001b[0m\u001b[1;32m     14\u001b[0m         \u001b[0mprint\u001b[0m \u001b[0;34m(\u001b[0m\u001b[0mith\u001b[0m\u001b[0;34m,\u001b[0m \u001b[0mI\u001b[0m\u001b[0;34m)\u001b[0m\u001b[0;34m\u001b[0m\u001b[0;34m\u001b[0m\u001b[0m\n",
      "\u001b[0;32m/var/folders/qb/qvxrwz454mj92jl_h79qv2t80000gn/T/ipykernel_88956/4023855304.py\u001b[0m in \u001b[0;36mexp_csbm\u001b[0;34m(ith, method, folder_path, csbm, n_train, n_val, num_communication, batch_size, learning_rate, I, gradient, noise, Print, print_time, resume, bias, save, improved)\u001b[0m\n\u001b[1;32m     24\u001b[0m     tl, ta, vl, va = train_GC(server, num_communication, batch_size, learning_rate, I,\n\u001b[1;32m     25\u001b[0m                               \u001b[0mgradient\u001b[0m\u001b[0;34m,\u001b[0m \u001b[0mnoise\u001b[0m\u001b[0;34m,\u001b[0m\u001b[0;34m\u001b[0m\u001b[0;34m\u001b[0m\u001b[0m\n\u001b[0;32m---> 26\u001b[0;31m                               Print, print_time)\n\u001b[0m\u001b[1;32m     27\u001b[0m     \u001b[0;32mif\u001b[0m \u001b[0msave\u001b[0m\u001b[0;34m:\u001b[0m\u001b[0;34m\u001b[0m\u001b[0;34m\u001b[0m\u001b[0m\n\u001b[1;32m     28\u001b[0m         \u001b[0mnp\u001b[0m\u001b[0;34m.\u001b[0m\u001b[0msave\u001b[0m\u001b[0;34m(\u001b[0m\u001b[0mfolder_path\u001b[0m \u001b[0;34m+\u001b[0m \u001b[0mmethod\u001b[0m \u001b[0;34m+\u001b[0m \u001b[0mgrad\u001b[0m \u001b[0;34m+\u001b[0m \u001b[0;34m\"I\"\u001b[0m \u001b[0;34m+\u001b[0m \u001b[0mstr\u001b[0m\u001b[0;34m(\u001b[0m\u001b[0mI\u001b[0m\u001b[0;34m)\u001b[0m \u001b[0;34m+\u001b[0m \u001b[0;34m\"/tl_\"\u001b[0m \u001b[0;34m+\u001b[0m \u001b[0mstr\u001b[0m\u001b[0;34m(\u001b[0m\u001b[0mith\u001b[0m\u001b[0;34m)\u001b[0m\u001b[0;34m,\u001b[0m \u001b[0mtl\u001b[0m\u001b[0;34m)\u001b[0m\u001b[0;34m\u001b[0m\u001b[0;34m\u001b[0m\u001b[0m\n",
      "\u001b[0;32m~/Documents/GitHub/GFL-APPNP/utils/train.py\u001b[0m in \u001b[0;36mtrain_GC\u001b[0;34m(server, num_communication, batch_size, learning_rate, I, gradient, noise, Print, print_time, checkpoint, tl, ta, vl, va)\u001b[0m\n\u001b[1;32m     66\u001b[0m     \u001b[0;32mfor\u001b[0m \u001b[0mith\u001b[0m \u001b[0;32min\u001b[0m \u001b[0mrange\u001b[0m\u001b[0;34m(\u001b[0m\u001b[0mnum_communication\u001b[0m\u001b[0;34m)\u001b[0m\u001b[0;34m:\u001b[0m\u001b[0;34m\u001b[0m\u001b[0;34m\u001b[0m\u001b[0m\n\u001b[1;32m     67\u001b[0m \u001b[0;34m\u001b[0m\u001b[0m\n\u001b[0;32m---> 68\u001b[0;31m         \u001b[0mtrain_loss\u001b[0m\u001b[0;34m,\u001b[0m \u001b[0mtrain_acc\u001b[0m\u001b[0;34m,\u001b[0m \u001b[0mval_loss\u001b[0m\u001b[0;34m,\u001b[0m \u001b[0mval_acc\u001b[0m \u001b[0;34m=\u001b[0m \u001b[0mserver\u001b[0m\u001b[0;34m.\u001b[0m\u001b[0mcommunication\u001b[0m\u001b[0;34m(\u001b[0m\u001b[0mbatch_size\u001b[0m\u001b[0;34m,\u001b[0m \u001b[0mlearning_rate\u001b[0m\u001b[0;34m,\u001b[0m \u001b[0mI\u001b[0m\u001b[0;34m,\u001b[0m \u001b[0mgradient\u001b[0m\u001b[0;34m,\u001b[0m \u001b[0mnoise\u001b[0m\u001b[0;34m)\u001b[0m\u001b[0;34m\u001b[0m\u001b[0;34m\u001b[0m\u001b[0m\n\u001b[0m\u001b[1;32m     69\u001b[0m \u001b[0;34m\u001b[0m\u001b[0m\n\u001b[1;32m     70\u001b[0m         \u001b[0mtrain_losses\u001b[0m\u001b[0;34m.\u001b[0m\u001b[0mappend\u001b[0m\u001b[0;34m(\u001b[0m\u001b[0mtrain_loss\u001b[0m\u001b[0;34m)\u001b[0m\u001b[0;34m\u001b[0m\u001b[0;34m\u001b[0m\u001b[0m\n",
      "\u001b[0;32m~/Documents/GitHub/GFL-APPNP/models/GFLAPPNP_GC.py\u001b[0m in \u001b[0;36mcommunication\u001b[0;34m(self, batch_size, learning_rate, I, gradient, noise)\u001b[0m\n\u001b[1;32m    250\u001b[0m                                            \u001b[0mbatch_size\u001b[0m\u001b[0;34m,\u001b[0m \u001b[0mlearning_rate\u001b[0m\u001b[0;34m,\u001b[0m\u001b[0;34m\u001b[0m\u001b[0;34m\u001b[0m\u001b[0m\n\u001b[1;32m    251\u001b[0m                                            \u001b[0mI\u001b[0m\u001b[0;34m,\u001b[0m\u001b[0;34m\u001b[0m\u001b[0;34m\u001b[0m\u001b[0m\n\u001b[0;32m--> 252\u001b[0;31m                                            gradient)\n\u001b[0m\u001b[1;32m    253\u001b[0m \u001b[0;34m\u001b[0m\u001b[0m\n\u001b[1;32m    254\u001b[0m \u001b[0;34m\u001b[0m\u001b[0m\n",
      "\u001b[0;32m~/Documents/GitHub/GFL-APPNP/models/GFLAPPNP_GC.py\u001b[0m in \u001b[0;36mlocal_update\u001b[0;34m(self, A_tilde_k_d, A_tilde_k_gd, C_k, dH, batch_size, learning_rate, I, gradient)\u001b[0m\n\u001b[1;32m    128\u001b[0m                         \u001b[0;32mfor\u001b[0m \u001b[0mpname\u001b[0m\u001b[0;34m,\u001b[0m \u001b[0mparam\u001b[0m \u001b[0;32min\u001b[0m \u001b[0mself\u001b[0m\u001b[0;34m.\u001b[0m\u001b[0mmodel\u001b[0m\u001b[0;34m.\u001b[0m\u001b[0mnamed_parameters\u001b[0m\u001b[0;34m(\u001b[0m\u001b[0;34m)\u001b[0m\u001b[0;34m:\u001b[0m\u001b[0;34m\u001b[0m\u001b[0;34m\u001b[0m\u001b[0m\n\u001b[1;32m    129\u001b[0m                             \u001b[0mp_grad\u001b[0m \u001b[0;34m=\u001b[0m \u001b[0mtorch\u001b[0m\u001b[0;34m.\u001b[0m\u001b[0meinsum\u001b[0m\u001b[0;34m(\u001b[0m\u001b[0;34m\"i,ibcd->ibcd\"\u001b[0m\u001b[0;34m,\u001b[0m \u001b[0mA_tilde_k_gd\u001b[0m\u001b[0;34m[\u001b[0m\u001b[0mself\u001b[0m\u001b[0;34m.\u001b[0m\u001b[0mids_mask\u001b[0m\u001b[0;34m]\u001b[0m\u001b[0;34m,\u001b[0m \u001b[0mdH\u001b[0m\u001b[0;34m[\u001b[0m\u001b[0mpname\u001b[0m\u001b[0;34m]\u001b[0m\u001b[0;34m[\u001b[0m\u001b[0mself\u001b[0m\u001b[0;34m.\u001b[0m\u001b[0mids_mask\u001b[0m\u001b[0;34m]\u001b[0m\u001b[0;34m)\u001b[0m\u001b[0;34m\u001b[0m\u001b[0;34m\u001b[0m\u001b[0m\n\u001b[0;32m--> 130\u001b[0;31m                             \u001b[0mp_grad\u001b[0m \u001b[0;34m=\u001b[0m \u001b[0mtorch\u001b[0m\u001b[0;34m.\u001b[0m\u001b[0meinsum\u001b[0m\u001b[0;34m(\u001b[0m\u001b[0;34m\"ab,cbef->ef\"\u001b[0m\u001b[0;34m,\u001b[0m \u001b[0mErrs\u001b[0m\u001b[0;34m,\u001b[0m \u001b[0mp_grad\u001b[0m\u001b[0;34m)\u001b[0m\u001b[0;34m/\u001b[0m\u001b[0mX\u001b[0m\u001b[0;34m.\u001b[0m\u001b[0mshape\u001b[0m\u001b[0;34m[\u001b[0m\u001b[0;36m0\u001b[0m\u001b[0;34m]\u001b[0m\u001b[0;34m\u001b[0m\u001b[0;34m\u001b[0m\u001b[0m\n\u001b[0m\u001b[1;32m    131\u001b[0m                             \u001b[0mparam\u001b[0m\u001b[0;34m.\u001b[0m\u001b[0mgrad\u001b[0m\u001b[0;34m.\u001b[0m\u001b[0mdata\u001b[0m \u001b[0;34m+=\u001b[0m \u001b[0mp_grad\u001b[0m\u001b[0;34m.\u001b[0m\u001b[0mto\u001b[0m\u001b[0;34m(\u001b[0m\u001b[0mdevice\u001b[0m\u001b[0;34m)\u001b[0m\u001b[0;34m\u001b[0m\u001b[0;34m\u001b[0m\u001b[0m\n\u001b[1;32m    132\u001b[0m \u001b[0;34m\u001b[0m\u001b[0m\n",
      "\u001b[0;32m~/opt/anaconda3/envs/MachineLearning/lib/python3.7/site-packages/torch/functional.py\u001b[0m in \u001b[0;36meinsum\u001b[0;34m(*args)\u001b[0m\n\u001b[1;32m    325\u001b[0m         \u001b[0;32mreturn\u001b[0m \u001b[0meinsum\u001b[0m\u001b[0;34m(\u001b[0m\u001b[0mequation\u001b[0m\u001b[0;34m,\u001b[0m \u001b[0;34m*\u001b[0m\u001b[0m_operands\u001b[0m\u001b[0;34m)\u001b[0m\u001b[0;34m\u001b[0m\u001b[0;34m\u001b[0m\u001b[0m\n\u001b[1;32m    326\u001b[0m \u001b[0;34m\u001b[0m\u001b[0m\n\u001b[0;32m--> 327\u001b[0;31m     \u001b[0;32mreturn\u001b[0m \u001b[0m_VF\u001b[0m\u001b[0;34m.\u001b[0m\u001b[0meinsum\u001b[0m\u001b[0;34m(\u001b[0m\u001b[0mequation\u001b[0m\u001b[0;34m,\u001b[0m \u001b[0moperands\u001b[0m\u001b[0;34m)\u001b[0m  \u001b[0;31m# type: ignore[attr-defined]\u001b[0m\u001b[0;34m\u001b[0m\u001b[0;34m\u001b[0m\u001b[0m\n\u001b[0m\u001b[1;32m    328\u001b[0m \u001b[0;34m\u001b[0m\u001b[0m\n\u001b[1;32m    329\u001b[0m \u001b[0;34m\u001b[0m\u001b[0m\n",
      "\u001b[0;31mKeyboardInterrupt\u001b[0m: "
     ]
    }
   ],
   "source": [
    "for ith in range(20):\n",
    "    for I in [10, 20, 50]:\n",
    "        file_to_open= open(\"experiments/GC/data/\"+\"csbm_\"+str(ith)+\".pickle\", \"rb\")\n",
    "        csbm = pickle.load(file_to_open)\n",
    "        file_to_open.close()\n",
    "        nc = int(2500/I)\n",
    "        exp_csbm(ith=ith, method=\"GFLAPPNP/\", folder_path=\"experiments/GC/\", csbm=csbm, n_train=20, n_val=40, \n",
    "                 num_communication=nc, batch_size=10,\n",
    "                 learning_rate=0.2, I=I, gradient=True, noise=False,\n",
    "                 Print=False, print_time=10,\n",
    "                 resume=False,\n",
    "                 bias=False,\n",
    "                 save=True)\n",
    "        print (ith, I)"
   ]
  }
 ],
 "metadata": {
  "kernelspec": {
   "display_name": "Python 3 (ipykernel)",
   "language": "python",
   "name": "python3"
  },
  "language_info": {
   "codemirror_mode": {
    "name": "ipython",
    "version": 3
   },
   "file_extension": ".py",
   "mimetype": "text/x-python",
   "name": "python",
   "nbconvert_exporter": "python",
   "pygments_lexer": "ipython3",
   "version": "3.7.11"
  }
 },
 "nbformat": 4,
 "nbformat_minor": 5
}
