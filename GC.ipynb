{
 "cells": [
  {
   "cell_type": "code",
   "execution_count": 2,
   "id": "09c08853",
   "metadata": {},
   "outputs": [],
   "source": [
    "import torch\n",
    "import numpy as np\n",
    "from utils.generate_csbm import *\n",
    "from utils.train import *\n",
    "from utils.utils import *\n",
    "from models.models import *\n",
    "from models.setup import *\n",
    "import networkx as nx\n",
    "import pickle"
   ]
  },
  {
   "cell_type": "code",
   "execution_count": 2,
   "id": "63c0f390",
   "metadata": {},
   "outputs": [],
   "source": [
    "def exp_csbm(ith, method, folder_path, csbm, n_train, n_val, \n",
    "             num_communication=100, batch_size=1,\n",
    "             learning_rate=0.01, I=10, gradient=True, noise=False,\n",
    "             Print=False, print_time=1,\n",
    "             resume=False,\n",
    "             bias=False,\n",
    "             save=True):\n",
    "    \n",
    "\n",
    "    torch.manual_seed(0)\n",
    "    init_mlp = MLP(csbm.Xs[0].shape[1], 64, 2, bias)\n",
    "        \n",
    "    if (gradient == False):\n",
    "        grad = \"no_grad/\"\n",
    "    elif (gradient == True and noise==False):\n",
    "        grad = \"biased_grad/\"\n",
    "    elif (gradient == True and noise==True):\n",
    "        grad = \"noisy_grad/\"\n",
    "      \n",
    "    A_tilde = calculate_Atilde(csbm.A, K=10, alpha=0.9)\n",
    "    server = set_up_GC(csbm.Xs, csbm.ys, init_mlp, A_tilde, n_train=n_train, n_val=n_val)\n",
    "   \n",
    "        \n",
    "    tl, ta, vl, va = train_GC(server, num_communication, batch_size, learning_rate, I,\n",
    "                              gradient, noise, \n",
    "                              Print, print_time)\n",
    "    if save:    \n",
    "        np.save(folder_path + method + grad + \"I\" + str(I) + \"/tl_\" + str(ith), tl)\n",
    "        np.save(folder_path + method + grad + \"I\" + str(I) + \"/ta_\" + str(ith), ta)\n",
    "        np.save(folder_path + method + grad + \"I\" + str(I) + \"/vl_\" + str(ith), vl)\n",
    "        np.save(folder_path + method + grad + \"I\" + str(I) + \"/va_\" + str(ith), va)\n",
    "\n",
    "        PATH = folder_path + method + grad + \"I\" + str(I) + \"/model_\" + str(ith)\n",
    "        torch.save({\n",
    "                'best_model_state_dict': server.best_cmodel.state_dict(),\n",
    "                'learning_rate': learning_rate,\n",
    "                'test_acc': server.eval_test()[1],\n",
    "                'model_state_dict': server.cmodel.state_dict(),\n",
    "                'best_valloss': server.best_valloss,\n",
    "                'best_valacc': server.best_valacc,\n",
    "                }, PATH)"
   ]
  },
  {
   "cell_type": "code",
   "execution_count": null,
   "id": "12ceacad",
   "metadata": {},
   "outputs": [],
   "source": [
    "for ith in range(20):\n",
    "    for I in [10, 20, 50]:\n",
    "        file_to_open= open(\"experiments/GC/data/\"+\"csbm_\"+str(ith)+\".pickle\", \"rb\")\n",
    "        csbm = pickle.load(file_to_open)\n",
    "        file_to_open.close()\n",
    "        nc = int(5000/I)\n",
    "        exp_csbm(ith=ith, method=\"GFLAPPNP/\", folder_path=\"experiments/GC/\", csbm=csbm, n_train=60, n_val=20, \n",
    "                 num_communication=nc, batch_size=30,\n",
    "                 learning_rate=0.5, I=I, gradient=True, noise=False,\n",
    "                 Print=False, print_time=10,\n",
    "                 resume=False,\n",
    "                 bias=False,\n",
    "                 save=True)\n",
    "        print (ith, I)"
   ]
  }
 ],
 "metadata": {
  "kernelspec": {
   "display_name": "Python 3 (ipykernel)",
   "language": "python",
   "name": "python3"
  },
  "language_info": {
   "codemirror_mode": {
    "name": "ipython",
    "version": 3
   },
   "file_extension": ".py",
   "mimetype": "text/x-python",
   "name": "python",
   "nbconvert_exporter": "python",
   "pygments_lexer": "ipython3",
   "version": "3.7.11"
  }
 },
 "nbformat": 4,
 "nbformat_minor": 5
}
