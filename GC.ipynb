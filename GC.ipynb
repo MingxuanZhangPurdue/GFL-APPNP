{
 "cells": [
  {
   "cell_type": "code",
   "execution_count": 1,
   "id": "09c08853",
   "metadata": {},
   "outputs": [],
   "source": [
    "import torch\n",
    "import numpy as np\n",
    "from utils.generate_csbm import *\n",
    "from utils.train import *\n",
    "from utils.utils import *\n",
    "from models.models import *\n",
    "from models.setup import *\n",
    "import networkx as nx\n",
    "import pickle"
   ]
  },
  {
   "cell_type": "code",
   "execution_count": 2,
   "id": "a20b9120",
   "metadata": {},
   "outputs": [],
   "source": [
    "def exp_csbm(ith, method, folder_path, csbm, n_train, n_val, \n",
    "             num_communication=100, batch_size=1,\n",
    "             learning_rate=0.01, I=10, gradient=True, noise=False,\n",
    "             Print=False, print_time=1,\n",
    "             resume=False,\n",
    "             bias=False,\n",
    "             save=True):\n",
    "    \n",
    "\n",
    "    init_mlp = MLP(csbm.Xs[0].shape[1], 64, 2, bias)\n",
    "        \n",
    "    if (gradient == False):\n",
    "        grad = \"no_grad/\"\n",
    "    elif (gradient == True and noise==False):\n",
    "        grad = \"biased_grad/\"\n",
    "    elif (gradient == True and noise==True):\n",
    "        grad = \"noisy_grad/\"\n",
    "      \n",
    "    A_tilde = calculate_Atilde(csbm.A, K=10, alpha=0.9)\n",
    "    server = set_up_GC(csbm.Xs, csbm.ys, init_mlp, A_tilde, n_train=n_train, n_val=n_val)\n",
    "   \n",
    "        \n",
    "    tl, ta, vl, va = train_GC(server, num_communication, batch_size, learning_rate, I,\n",
    "                              gradient, noise, \n",
    "                              Print, print_time)\n",
    "    if save:    \n",
    "        np.save(folder_path + method + grad + \"I\" + str(I) + \"/tl_\" + str(ith), tl)\n",
    "        np.save(folder_path + method + grad + \"I\" + str(I) + \"/ta_\" + str(ith), ta)\n",
    "        np.save(folder_path + method + grad + \"I\" + str(I) + \"/vl_\" + str(ith), vl)\n",
    "        np.save(folder_path + method + grad + \"I\" + str(I) + \"/va_\" + str(ith), va)\n",
    "\n",
    "        PATH = folder_path + method + grad + \"I\" + str(I) + \"/model_\" + str(ith)\n",
    "        torch.save({\n",
    "                'best_model_state_dict': server.best_cmodel.state_dict(),\n",
    "                'learning_rate': learning_rate,\n",
    "                'test_acc': server.eval_test()[1],\n",
    "                'model_state_dict': server.cmodel.state_dict(),\n",
    "                'best_valloss': server.best_valloss,\n",
    "                'best_valacc': server.best_valacc,\n",
    "                }, PATH)"
   ]
  },
  {
   "cell_type": "code",
   "execution_count": 14,
   "id": "03c87e60",
   "metadata": {},
   "outputs": [
    {
     "data": {
      "text/plain": [
       "0.5"
      ]
     },
     "execution_count": 14,
     "metadata": {},
     "output_type": "execute_result"
    }
   ],
   "source": [
    "torch.load(\"experiments/GC/GFLAPPNP/biased_grad/I10/model_0\")[\"learning_rate\"]"
   ]
  },
  {
   "cell_type": "code",
   "execution_count": 8,
   "id": "99915516",
   "metadata": {},
   "outputs": [],
   "source": [
    "file_to_open= open(\"experiments/GC/data/\"+\"csbm_\"+str(0)+\".pickle\", \"rb\")\n",
    "csbm = pickle.load(file_to_open)\n",
    "file_to_open.close()"
   ]
  },
  {
   "cell_type": "code",
   "execution_count": 9,
   "id": "4b773d3e",
   "metadata": {},
   "outputs": [],
   "source": [
    "init_mlp = MLP(csbm.Xs[0].shape[1], 64, 2, bias=False)\n",
    "A_tilde = calculate_Atilde(csbm.A, K=10, alpha=0.9)\n",
    "server = set_up_GC(csbm.Xs, csbm.ys, init_mlp, A_tilde, n_train=60, n_val=20, improved=False)"
   ]
  },
  {
   "cell_type": "code",
   "execution_count": 17,
   "id": "c68d11ff",
   "metadata": {},
   "outputs": [
    {
     "data": {
      "text/plain": [
       "(0.5455113576352596, 0.7194999999999997)"
      ]
     },
     "execution_count": 17,
     "metadata": {},
     "output_type": "execute_result"
    }
   ],
   "source": [
    "server.eval_test()"
   ]
  },
  {
   "cell_type": "code",
   "execution_count": 16,
   "id": "026c7a06",
   "metadata": {},
   "outputs": [
    {
     "name": "stdout",
     "output_type": "stream",
     "text": [
      "Communication: 1 Average train loss: 0.53882 Average train accuracy: 0.729 Average val loss: 0.55271 Average val accuracy: 0.717\n",
      "Communication: 51 Average train loss: 0.53781 Average train accuracy: 0.729 Average val loss: 0.55233 Average val accuracy: 0.719\n",
      "Communication: 101 Average train loss: 0.53698 Average train accuracy: 0.729 Average val loss: 0.55210 Average val accuracy: 0.719\n",
      "Communication: 151 Average train loss: 0.53629 Average train accuracy: 0.729 Average val loss: 0.55198 Average val accuracy: 0.718\n",
      "Communication: 201 Average train loss: 0.53570 Average train accuracy: 0.729 Average val loss: 0.55194 Average val accuracy: 0.718\n",
      "Communication: 251 Average train loss: 0.53518 Average train accuracy: 0.730 Average val loss: 0.55198 Average val accuracy: 0.718\n",
      "Communication: 301 Average train loss: 0.53473 Average train accuracy: 0.730 Average val loss: 0.55205 Average val accuracy: 0.717\n",
      "Communication: 351 Average train loss: 0.53432 Average train accuracy: 0.731 Average val loss: 0.55215 Average val accuracy: 0.717\n",
      "Communication: 401 Average train loss: 0.53393 Average train accuracy: 0.731 Average val loss: 0.55227 Average val accuracy: 0.718\n",
      "Communication: 451 Average train loss: 0.53358 Average train accuracy: 0.731 Average val loss: 0.55240 Average val accuracy: 0.718\n"
     ]
    }
   ],
   "source": [
    "tl, ta, vl, va = train_GC(server, num_communication=500, batch_size=60, learning_rate=0.1, I=10,\n",
    "                          gradient=True, noise=False, \n",
    "                          Print=True, print_time=50)"
   ]
  },
  {
   "cell_type": "code",
   "execution_count": null,
   "id": "68686ba4",
   "metadata": {},
   "outputs": [],
   "source": [
    "for ith in range(20):\n",
    "    for I in [10, 20, 50]:\n",
    "        file_to_open= open(\"experiments/GC/data/\"+\"csbm_\"+str(ith)+\".pickle\", \"rb\")\n",
    "        csbm = pickle.load(file_to_open)\n",
    "        file_to_open.close()\n",
    "        nc = int(5000/I)\n",
    "        exp_csbm(ith=ith, method=\"GFLAPPNP/\", folder_path=\"experiments/GC/\", csbm=csbm, n_train=60, n_val=20, \n",
    "                 num_communication=nc, batch_size=30,\n",
    "                 learning_rate=0.1, I=I, gradient=True, noise=False,\n",
    "                 Print=True, print_time=10,\n",
    "                 resume=False,\n",
    "                 bias=False,\n",
    "                 save=True)\n",
    "        print (ith, I)"
   ]
  }
 ],
 "metadata": {
  "kernelspec": {
   "display_name": "Python 3 (ipykernel)",
   "language": "python",
   "name": "python3"
  },
  "language_info": {
   "codemirror_mode": {
    "name": "ipython",
    "version": 3
   },
   "file_extension": ".py",
   "mimetype": "text/x-python",
   "name": "python",
   "nbconvert_exporter": "python",
   "pygments_lexer": "ipython3",
   "version": "3.7.11"
  }
 },
 "nbformat": 4,
 "nbformat_minor": 5
}
