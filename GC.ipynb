{
 "cells": [
  {
   "cell_type": "code",
   "execution_count": 1,
   "id": "09c08853",
   "metadata": {},
   "outputs": [],
   "source": [
    "import torch\n",
    "import numpy as np\n",
    "from utils.generate_csbm import *\n",
    "from utils.train import *\n",
    "from utils.utils import *\n",
    "from models.models import *\n",
    "from models.setup import *"
   ]
  },
  {
   "cell_type": "code",
   "execution_count": 6,
   "id": "4355dd85",
   "metadata": {},
   "outputs": [],
   "source": [
    "import torch.nn.functional as F"
   ]
  },
  {
   "cell_type": "code",
   "execution_count": 2,
   "id": "6bdfd53f",
   "metadata": {},
   "outputs": [
    {
     "data": {
      "text/plain": [
       "0.8886112459769363"
      ]
     },
     "execution_count": 2,
     "metadata": {},
     "output_type": "execute_result"
    }
   ],
   "source": [
    "csbm = cSBM(N=200, p=100, d=5, mu=0.5, l=2)\n",
    "csbm.generate_node_parameters()\n",
    "csbm.phi"
   ]
  },
  {
   "cell_type": "code",
   "execution_count": 3,
   "id": "f37c3cf4",
   "metadata": {},
   "outputs": [],
   "source": [
    "csbm.generate_node_data(method=\"GC\", n_local=120)"
   ]
  },
  {
   "cell_type": "code",
   "execution_count": 4,
   "id": "1c984193",
   "metadata": {},
   "outputs": [],
   "source": [
    "A_tilde = calculate_Atilde(csbm.A, 10, 0.9)"
   ]
  },
  {
   "cell_type": "code",
   "execution_count": 7,
   "id": "2f9a6be3",
   "metadata": {},
   "outputs": [
    {
     "name": "stdout",
     "output_type": "stream",
     "text": [
      "Communication: 1 Average train loss: 0.69344 Average train accuracy: 0.443 Average val loss: 0.69348 Average val accuracy: 0.434\n",
      "Communication: 51 Average train loss: 0.69303 Average train accuracy: 0.510 Average val loss: 0.69299 Average val accuracy: 0.516\n",
      "Communication: 101 Average train loss: 0.69265 Average train accuracy: 0.510 Average val loss: 0.69256 Average val accuracy: 0.517\n",
      "Communication: 151 Average train loss: 0.69225 Average train accuracy: 0.511 Average val loss: 0.69213 Average val accuracy: 0.517\n",
      "Communication: 201 Average train loss: 0.69176 Average train accuracy: 0.511 Average val loss: 0.69162 Average val accuracy: 0.517\n",
      "Communication: 251 Average train loss: 0.69111 Average train accuracy: 0.511 Average val loss: 0.69098 Average val accuracy: 0.518\n",
      "Communication: 301 Average train loss: 0.69025 Average train accuracy: 0.512 Average val loss: 0.69013 Average val accuracy: 0.519\n",
      "Communication: 351 Average train loss: 0.68906 Average train accuracy: 0.514 Average val loss: 0.68897 Average val accuracy: 0.521\n",
      "Communication: 401 Average train loss: 0.68742 Average train accuracy: 0.524 Average val loss: 0.68738 Average val accuracy: 0.531\n",
      "Communication: 451 Average train loss: 0.68518 Average train accuracy: 0.543 Average val loss: 0.68521 Average val accuracy: 0.551\n"
     ]
    }
   ],
   "source": [
    "server = set_up_GC(csbm.Xs, csbm.ys, MLP(100,64,2,False), A_tilde, n_train=60, n_val=30)\n",
    "tl, ta, vl, va = train_GC(server, num_communication=500, \n",
    "               batch_size=40, learning_rate=0.1, I=10,\n",
    "               gradient=True, noise=False,\n",
    "               Print=True)"
   ]
  },
  {
   "cell_type": "code",
   "execution_count": null,
   "id": "707637c0",
   "metadata": {},
   "outputs": [],
   "source": []
  }
 ],
 "metadata": {
  "kernelspec": {
   "display_name": "Python 3 (ipykernel)",
   "language": "python",
   "name": "python3"
  },
  "language_info": {
   "codemirror_mode": {
    "name": "ipython",
    "version": 3
   },
   "file_extension": ".py",
   "mimetype": "text/x-python",
   "name": "python",
   "nbconvert_exporter": "python",
   "pygments_lexer": "ipython3",
   "version": "3.7.11"
  }
 },
 "nbformat": 4,
 "nbformat_minor": 5
}
