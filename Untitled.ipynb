{
 "cells": [
  {
   "cell_type": "code",
   "execution_count": null,
   "id": "3001494f",
   "metadata": {},
   "outputs": [],
   "source": [
    "init_mlp = MLP(csbm.Xs[0].shape[1], 64, 2, bias=False)\n",
    "server_FedMLP = set_up_FedMLP_GC(csbm.Xs, csbm.ys, init_mlp, n_train=20, n_val=40)\n",
    "train_FedMLP(server_FedMLP, num_communication=100, \n",
    "             batch_size=5, learning_rate=0.1, I=10, \n",
    "             Print=True, print_time=10)"
   ]
  }
 ],
 "metadata": {
  "kernelspec": {
   "display_name": "Python 3 (ipykernel)",
   "language": "python",
   "name": "python3"
  },
  "language_info": {
   "codemirror_mode": {
    "name": "ipython",
    "version": 3
   },
   "file_extension": ".py",
   "mimetype": "text/x-python",
   "name": "python",
   "nbconvert_exporter": "python",
   "pygments_lexer": "ipython3",
   "version": "3.7.11"
  }
 },
 "nbformat": 4,
 "nbformat_minor": 5
}
