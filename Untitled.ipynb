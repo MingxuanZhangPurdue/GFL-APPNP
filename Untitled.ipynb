{
 "cells": [
  {
   "cell_type": "code",
   "execution_count": 21,
   "id": "ff532f80",
   "metadata": {},
   "outputs": [],
   "source": [
    "import torch.nn.functional as F\n",
    "import torch\n",
    "import numpy as np"
   ]
  },
  {
   "cell_type": "code",
   "execution_count": 80,
   "id": "71312861",
   "metadata": {},
   "outputs": [],
   "source": [
    "yhat = F.log_softmax(torch.randn(3, 3), dim=1)\n",
    "y = torch.tensor([0, 1, 2])\n",
    "y_hot = torch.tensor([[1, 1, 0], [1, 1, 0], [1, 0, 1]])"
   ]
  },
  {
   "cell_type": "code",
   "execution_count": 85,
   "id": "0bdc283b",
   "metadata": {},
   "outputs": [],
   "source": [
    "def general_nll_loss(log_yhat, y):\n",
    "    \n",
    "    \"\"\"\n",
    "    log_yhat: [N, num_class]\n",
    "    y: hot tensor, [N, num_class]\n",
    "    \"\"\"\n",
    "    \n",
    "    device = \"cpu\"\n",
    "    \n",
    "    y_bool = y.type(torch.BoolTensor) if device == \"cpu\" else y.type(torch.cuda.BoolTensor)\n",
    "    \n",
    "    N, _ = y.shape\n",
    "    \n",
    "    nll_loss = (-1*log_yhat.view(-1))[y_bool.view(-1)].sum()/N\n",
    "    \n",
    "    return nll_loss"
   ]
  },
  {
   "cell_type": "code",
   "execution_count": 70,
   "id": "c1d17747",
   "metadata": {},
   "outputs": [
    {
     "data": {
      "text/plain": [
       "tensor(1.3832)"
      ]
     },
     "execution_count": 70,
     "metadata": {},
     "output_type": "execute_result"
    }
   ],
   "source": [
    "F.nll_loss(yhat, y)"
   ]
  },
  {
   "cell_type": "code",
   "execution_count": 86,
   "id": "a6a15dfb",
   "metadata": {},
   "outputs": [
    {
     "data": {
      "text/plain": [
       "tensor(3.2273)"
      ]
     },
     "execution_count": 86,
     "metadata": {},
     "output_type": "execute_result"
    }
   ],
   "source": [
    "general_nll_loss(yhat, y_hot)"
   ]
  },
  {
   "cell_type": "code",
   "execution_count": 89,
   "id": "b5215aec",
   "metadata": {},
   "outputs": [
    {
     "data": {
      "text/plain": [
       "tensor(3.2273)"
      ]
     },
     "execution_count": 89,
     "metadata": {},
     "output_type": "execute_result"
    }
   ],
   "source": [
    "((-1*yhat[0,[0,1]]).sum() + (-1*yhat[1,[0,1]]).sum() + (-1*yhat[2,[0,2]]).sum())/3"
   ]
  },
  {
   "cell_type": "code",
   "execution_count": null,
   "id": "10f6a8e6",
   "metadata": {},
   "outputs": [],
   "source": []
  }
 ],
 "metadata": {
  "kernelspec": {
   "display_name": "Python 3 (ipykernel)",
   "language": "python",
   "name": "python3"
  },
  "language_info": {
   "codemirror_mode": {
    "name": "ipython",
    "version": 3
   },
   "file_extension": ".py",
   "mimetype": "text/x-python",
   "name": "python",
   "nbconvert_exporter": "python",
   "pygments_lexer": "ipython3",
   "version": "3.7.11"
  }
 },
 "nbformat": 4,
 "nbformat_minor": 5
}
