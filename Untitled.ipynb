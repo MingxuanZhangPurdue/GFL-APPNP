{
 "cells": [
  {
   "cell_type": "code",
   "execution_count": null,
   "id": "bffa2756",
   "metadata": {},
   "outputs": [],
   "source": [
    "init_mlp = MLP(csbm.Xs[0].shape[1], 64, 2, bias=False)\n",
    "server_FedMLP = set_up_FedMLP_GC(csbm.Xs, csbm.ys, init_mlp, n_train=20, n_val=40)\n",
    "train_FedMLP(server_FedMLP, num_communication=100, \n",
    "             batch_size=5, learning_rate=0.1, I=10, \n",
    "             Print=True, print_time=10)"
   ]
  },
  {
   "cell_type": "code",
   "execution_count": null,
   "id": "bf87dd06",
   "metadata": {},
   "outputs": [],
   "source": [
    "test_accs = []\n",
    "for ith in range(20):\n",
    "    file_to_open= open(\"experiments/GC/data/\"+\"csbm_\"+str(ith)+\".pickle\", \"rb\")\n",
    "    csbm = pickle.load(file_to_open)\n",
    "    file_to_open.close()\n",
    "    init_mlp = MLP(csbm.Xs[0].shape[1], 64, 2, bias=False)\n",
    "    server_MLP = set_up_MLP_GC(csbm.Xs, csbm.ys, init_mlp, n_train=20, n_val=40)\n",
    "    server_MLP.train_nodes(batch_size=10, learning_rate=0.1, num_epoch=500, Print=False, print_time=100)\n",
    "    test_accs.append(server_MLP.eval_test()[1])\n",
    "    print (ith)"
   ]
  },
  {
   "cell_type": "code",
   "execution_count": null,
   "id": "3dc52de3",
   "metadata": {},
   "outputs": [],
   "source": []
  }
 ],
 "metadata": {
  "kernelspec": {
   "display_name": "Python 3 (ipykernel)",
   "language": "python",
   "name": "python3"
  },
  "language_info": {
   "codemirror_mode": {
    "name": "ipython",
    "version": 3
   },
   "file_extension": ".py",
   "mimetype": "text/x-python",
   "name": "python",
   "nbconvert_exporter": "python",
   "pygments_lexer": "ipython3",
   "version": "3.7.11"
  }
 },
 "nbformat": 4,
 "nbformat_minor": 5
}
