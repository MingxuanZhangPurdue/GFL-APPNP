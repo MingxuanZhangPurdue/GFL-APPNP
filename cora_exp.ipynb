{
 "cells": [
  {
   "cell_type": "code",
   "execution_count": 5,
   "id": "46bd914d",
   "metadata": {},
   "outputs": [],
   "source": [
    "from Frame_NC import *\n",
    "from config import *\n",
    "from utils import *\n",
    "from generate_csbm import *\n",
    "from models import *\n",
    "from train import *\n",
    "from setup import *\n",
    "\n",
    "import torch \n",
    "import copy\n",
    "import pickle\n",
    "import networkx as nx\n",
    "import matplotlib.pyplot as plt\n",
    "import numpy as np\n",
    "\n",
    "from os.path import exists"
   ]
  }
 ],
 "metadata": {
  "kernelspec": {
   "display_name": "Python 3 (ipykernel)",
   "language": "python",
   "name": "python3"
  },
  "language_info": {
   "codemirror_mode": {
    "name": "ipython",
    "version": 3
   },
   "file_extension": ".py",
   "mimetype": "text/x-python",
   "name": "python",
   "nbconvert_exporter": "python",
   "pygments_lexer": "ipython3",
   "version": "3.7.11"
  }
 },
 "nbformat": 4,
 "nbformat_minor": 5
}
