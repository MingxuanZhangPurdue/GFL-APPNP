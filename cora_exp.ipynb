{
 "cells": [
  {
   "cell_type": "code",
   "execution_count": 2,
   "id": "46bd914d",
   "metadata": {},
   "outputs": [],
   "source": [
    "from Frame_NC import *\n",
    "from config import *\n",
    "from utils import *\n",
    "from generate_csbm import *\n",
    "from models import *\n",
    "from train import *\n",
    "from setup import *\n",
    "\n",
    "import torch \n",
    "import copy\n",
    "import pickle\n",
    "import networkx as nx\n",
    "import matplotlib.pyplot as plt\n",
    "import numpy as np\n",
    "\n",
    "from os.path import exists"
   ]
  },
  {
   "cell_type": "code",
   "execution_count": 3,
   "id": "53e2096e",
   "metadata": {},
   "outputs": [],
   "source": [
    "final_seeds = [101993, 124709, 196252,  95930,  68222, 101539,  22989,  45367,\n",
    "       166831, 189085,  12237, 242044,  40182,  84405, 234468, 233451,\n",
    "       154898,  81745,  70716,  39777, 248183, 109371, 112311, 229323,\n",
    "         2160, 219137, 221729,  98972, 238056, 265088,  90081, 271232,\n",
    "       260735,  96076, 121375,  11447]"
   ]
  },
  {
   "cell_type": "code",
   "execution_count": 4,
   "id": "9e48900a",
   "metadata": {},
   "outputs": [],
   "source": [
    "final_cc_ids = [1, 0, 2, 3, 2, 1, 2, 1, 2, 2, 0, 1, 1, 2, 0, 1, 2, 1, 2, 1, 3, 0,\n",
    "       0, 0, 1, 2, 1, 0, 1, 1, 0, 0, 3, 0, 0, 1]"
   ]
  },
  {
   "cell_type": "code",
   "execution_count": 5,
   "id": "abdcc23d",
   "metadata": {},
   "outputs": [],
   "source": [
    "def generate_subcora(rs, ith_cc, G, cora_data, Xs, ys, A, subgraph_size = 300):\n",
    "    torch.manual_seed(rs)\n",
    "    ids = torch.randperm(cora_data.y.shape[0]).numpy()\n",
    "    sub_ids = ids[0:800]\n",
    "    subcora = G.subgraph(ids[0:800])\n",
    "    connected_components = sorted(nx.connected_components(subcora), key=len, reverse=True)\n",
    "    train_nodes = np.array(list(connected_components[ith_cc]))\n",
    "    all_reachable_nodes = []\n",
    "    for train_node in train_nodes:\n",
    "        for reachable_node in nx.bfs_tree(G,source=train_node, depth_limit=2):\n",
    "            all_reachable_nodes.append(reachable_node)\n",
    "    avail_nodes = np.array(list(set(all_reachable_nodes) - set(train_nodes)))\n",
    "    num_train = len(train_nodes)\n",
    "    num_val = num_train\n",
    "    val_nodes = avail_nodes[:num_train]\n",
    "    test_nodes = avail_nodes[num_train:subgraph_size-num_train]\n",
    "    all_ids = np.concatenate([train_nodes,val_nodes,test_nodes], axis=0)\n",
    "    \n",
    "    #print (len(max(nx.connected_components(G.subgraph(all_ids)), key=len)))\n",
    "    \n",
    "    sub_Xs = Xs[all_ids]\n",
    "    sub_ys = ys[all_ids]\n",
    "    sub_A = A[all_ids,][:,all_ids]\n",
    "    \n",
    "    train_mask = np.arange(num_train)\n",
    "    val_mask = np.arange(num_train, num_train+num_val)\n",
    "    test_mask = np.arange(num_train+num_val,subgraph_size)\n",
    "    \n",
    "    X = sub_Xs.view(subgraph_size, -1)\n",
    "    y = sub_ys.view(subgraph_size)\n",
    "\n",
    "    edge_index = []\n",
    "    N = sub_A.shape[0]\n",
    "    for i in range(N):\n",
    "        for j in range(N):\n",
    "            if (i != j):\n",
    "                if (sub_A[i,j] == 1):\n",
    "                    edge_index.append([i,j])\n",
    "    edge_index = torch.tensor(edge_index, dtype=torch.long).t().contiguous()\n",
    "\n",
    "    subcora_data = Data(x=X, y=y, edge_index=edge_index, train_mask=train_mask, val_mask=val_mask, test_mask=test_mask)\n",
    "    \n",
    "    \n",
    "    return subcora_data, sub_Xs, sub_ys, sub_A, calculate_Atilde(sub_A, 10, 0.9), train_mask, val_mask, test_mask"
   ]
  },
  {
   "cell_type": "code",
   "execution_count": 6,
   "id": "7892201a",
   "metadata": {},
   "outputs": [],
   "source": [
    "def rs_exp(method, train_ids, val_ids, test_ids,\n",
    "           ith, folder_path, Xs, ys, A_tilde,\n",
    "           num_communication=500, batch_size=1,\n",
    "           learning_rate=0.01, I=10, gradient=True, noise=False,\n",
    "           Print=False, resume=False,\n",
    "           bias=True,\n",
    "           save=True):\n",
    "    \n",
    "\n",
    "    torch.manual_seed(0)\n",
    "    init_mlp = MLP(Xs[0].shape[1], 64, 7, bias)\n",
    "    \n",
    "    if method == \"NC\":\n",
    "        m = \"NC/\"\n",
    "        server = set_up_NC(Xs, ys, init_mlp, A_tilde, train_ids, val_ids, test_ids)\n",
    "    else:\n",
    "        ValueError(\"method should be NC/!\")\n",
    "        \n",
    "    if (gradient == False):\n",
    "        grad = \"no_grad/\"\n",
    "    elif (gradient == True and noise==False):\n",
    "        grad = \"biased_grad/\"\n",
    "    elif (gradient == True and noise==True):\n",
    "        grad = \"noisy_grad/\"\n",
    "        \n",
    "    if resume:\n",
    "        checkpoint = torch.load(folder_path + m + grad + \"I\" + str(I) + \"/model_\" + str(ith))\n",
    "        tl = np.load(folder_path + m + grad + \"I\" + str(I) + \"/tl_\" + str(ith)+\".npy\")\n",
    "        ta = np.load(folder_path + m + grad + \"I\" + str(I) + \"/ta_\" + str(ith)+\".npy\")\n",
    "        vl = np.load(folder_path + m + grad + \"I\" + str(I) + \"/vl_\" + str(ith)+\".npy\")\n",
    "        va = np.load(folder_path + m + grad + \"I\" + str(I) + \"/va_\" + str(ith)+\".npy\")\n",
    "    \n",
    "        tl, ta, vl, va = train_NC(server, num_communication, batch_size, learning_rate, I,\n",
    "                                  gradient, noise, \n",
    "                                  Print, \n",
    "                                  checkpoint, tl, ta, vl, va)\n",
    "        \n",
    "    else:\n",
    "        tl, ta, vl, va = train_NC(server, num_communication, batch_size, learning_rate, I,\n",
    "                                  gradient, noise, \n",
    "                                  Print)\n",
    "    if save:    \n",
    "        np.save(folder_path + m + grad + \"I\" + str(I) + \"/tl_\" + str(ith), tl)\n",
    "        np.save(folder_path + m + grad + \"I\" + str(I) + \"/ta_\" + str(ith), ta)\n",
    "        np.save(folder_path + m + grad + \"I\" + str(I) + \"/vl_\" + str(ith), vl)\n",
    "        np.save(folder_path + m + grad + \"I\" + str(I) + \"/va_\" + str(ith), va)\n",
    "\n",
    "        PATH = folder_path + m + grad + \"I\" + str(I) + \"/model_\" + str(ith)\n",
    "        torch.save({\n",
    "                'best_model_state_dict': server.best_cmodel.state_dict(),\n",
    "                'learning_rate': learning_rate,\n",
    "                'test_acc': server.eval_test()[1],\n",
    "                'model_state_dict': server.cmodel.state_dict(),\n",
    "                'best_valloss': server.best_valloss,\n",
    "                'best_valacc': server.best_valacc,\n",
    "                }, PATH)"
   ]
  },
  {
   "cell_type": "code",
   "execution_count": 7,
   "id": "c83b751f",
   "metadata": {},
   "outputs": [
    {
     "name": "stderr",
     "output_type": "stream",
     "text": [
      "Downloading https://github.com/kimiyoung/planetoid/raw/master/data/ind.cora.x\n",
      "Downloading https://github.com/kimiyoung/planetoid/raw/master/data/ind.cora.tx\n",
      "Downloading https://github.com/kimiyoung/planetoid/raw/master/data/ind.cora.allx\n",
      "Downloading https://github.com/kimiyoung/planetoid/raw/master/data/ind.cora.y\n",
      "Downloading https://github.com/kimiyoung/planetoid/raw/master/data/ind.cora.ty\n",
      "Downloading https://github.com/kimiyoung/planetoid/raw/master/data/ind.cora.ally\n",
      "Downloading https://github.com/kimiyoung/planetoid/raw/master/data/ind.cora.graph\n",
      "Downloading https://github.com/kimiyoung/planetoid/raw/master/data/ind.cora.test.index\n",
      "Processing...\n",
      "Done!\n"
     ]
    }
   ],
   "source": [
    "from torch_geometric.datasets import Planetoid\n",
    "from torch_geometric.utils import to_networkx\n",
    "\n",
    "dataset = Planetoid(root='/tmp/Cora', name='Cora')\n",
    "\n",
    "cora_data = dataset[0]\n",
    "\n",
    "G, Xs, ys, A = pygdata_to_frameformat(cora_data)"
   ]
  },
  {
   "cell_type": "code",
   "execution_count": 8,
   "id": "f4bdb9f7",
   "metadata": {},
   "outputs": [
    {
     "data": {
      "text/plain": [
       "device(type='cpu')"
      ]
     },
     "execution_count": 8,
     "metadata": {},
     "output_type": "execute_result"
    }
   ],
   "source": [
    "device = torch.device('cuda' if torch.cuda.is_available() else 'cpu')\n",
    "device"
   ]
  },
  {
   "cell_type": "code",
   "execution_count": 16,
   "id": "bf2a0711",
   "metadata": {},
   "outputs": [],
   "source": [
    "test_accs_GAT = []\n",
    "vls_GAT = []\n",
    "vas_GAT = []\n",
    "tls_GAT = []\n",
    "tas_GAT = []\n",
    "for ith in range(20):\n",
    "    subcora_data, sub_Xs, sub_ys, sub_A, sub_Atilde, train_ids, val_ids, test_ids = generate_subcora(final_seeds[ith],\n",
    "                                                                                                 final_cc_ids[ith],\n",
    "                                                                                                 G,\n",
    "                                                                                                 cora_data, \n",
    "                                                                                                 Xs, ys, \n",
    "                                                                                                 A,\n",
    "                                                                                                 subgraph_size=300)\n",
    "    torch.manual_seed(0)\n",
    "    model = GAT(subcora_data.x.shape[1], 7, dropout=0, bias=False).to(device)\n",
    "    optimizer = optim.SGD(model.parameters(), lr=0.01) \n",
    "    tl, ta, vl, va, test_acc, bm = train_pyg_model(subcora_data, \n",
    "                                                   model, \n",
    "                                                   num_epoch=4000, optimizer=optimizer, \n",
    "                                                   mask=False, Print=False)\n",
    "\n",
    "    test_accs_GAT.append(test_acc)\n",
    "    vls_GAT.append(vl)\n",
    "    vas_GAT.append(va)\n",
    "    tls_GAT.append(tl)\n",
    "    tas_GAT.append(ta)\n",
    "    \n",
    "np.save(\"./cora/result/GAT/test_accs\", test_accs_GAT)"
   ]
  },
  {
   "cell_type": "code",
   "execution_count": 18,
   "id": "75a4adeb",
   "metadata": {},
   "outputs": [],
   "source": [
    "test_accs_SAGE = []\n",
    "vls_SAGE = []\n",
    "vas_SAGE = []\n",
    "tls_SAGE = []\n",
    "tas_SAGE = []\n",
    "for ith in range(20):\n",
    "    subcora_data, sub_Xs, sub_ys, sub_A, sub_Atilde, train_ids, val_ids, test_ids = generate_subcora(final_seeds[ith],\n",
    "                                                                                                 final_cc_ids[ith],\n",
    "                                                                                                 G,\n",
    "                                                                                                 cora_data, \n",
    "                                                                                                 Xs, ys, \n",
    "                                                                                                 A,\n",
    "                                                                                                 subgraph_size=300)\n",
    "    torch.manual_seed(0)\n",
    "    model = SAGE(subcora_data.x.shape[1], 7, bias=False).to(device)\n",
    "    optimizer = optim.SGD(model.parameters(), lr=0.01)\n",
    "    tl, ta, vl, va, test_acc, bm = train_pyg_model(subcora_data, \n",
    "                                                   model, \n",
    "                                                   num_epoch=4000, optimizer=optimizer, \n",
    "                                                   mask=False, Print=False)\n",
    "\n",
    "    test_accs_SAGE.append(test_acc)\n",
    "    vls_SAGE.append(vl)\n",
    "    vas_SAGE.append(va)\n",
    "    tls_SAGE.append(tl)\n",
    "    tas_SAGE.append(ta)\n",
    "    \n",
    "np.save(\"./cora/result/SAGE/test_accs\", test_accs_SAGE)"
   ]
  },
  {
   "cell_type": "code",
   "execution_count": 19,
   "id": "91162d76",
   "metadata": {},
   "outputs": [],
   "source": [
    "test_accs_GCN = []\n",
    "vls_GCN = []\n",
    "vas_GCN = []\n",
    "tls_GCN = []\n",
    "tas_GCN = []\n",
    "for ith in range(20):\n",
    "    subcora_data, sub_Xs, sub_ys, sub_A, sub_Atilde, train_ids, val_ids, test_ids = generate_subcora(final_seeds[ith],\n",
    "                                                                                                 final_cc_ids[ith],\n",
    "                                                                                                 G,\n",
    "                                                                                                 cora_data, \n",
    "                                                                                                 Xs, ys, \n",
    "                                                                                                 A,\n",
    "                                                                                                 subgraph_size=300)\n",
    "    torch.manual_seed(0)\n",
    "    model = GCN(subcora_data.x.shape[1], 7, bias=False).to(device)\n",
    "    optimizer = optim.SGD(model.parameters(), lr=0.01) \n",
    "    tl, ta, vl, va, test_acc, bm = train_pyg_model(subcora_data, \n",
    "                                                   model, \n",
    "                                                   num_epoch=4000, optimizer=optimizer, \n",
    "                                                   mask=False, Print=False)\n",
    "\n",
    "    test_accs_GCN.append(test_acc)\n",
    "    vls_GCN.append(vl)\n",
    "    vas_GCN.append(va)\n",
    "    tls_GCN.append(tl)\n",
    "    tas_GCN.append(ta)\n",
    "    \n",
    "np.save(\"./cora/result/GCN/test_accs\", test_accs_GCN)"
   ]
  },
  {
   "cell_type": "code",
   "execution_count": 8,
   "id": "d5bd0c77",
   "metadata": {},
   "outputs": [
    {
     "name": "stdout",
     "output_type": "stream",
     "text": [
      "20 18 done\n",
      "10 18 done\n",
      "50 18 done\n",
      "20 19 done\n",
      "10 19 done\n",
      "50 19 done\n"
     ]
    }
   ],
   "source": [
    "for ith in range(18,20):\n",
    "    for I in [20,10,50]:\n",
    "        subcora_data, sub_Xs, sub_ys, sub_A, sub_Atilde, train_ids, val_ids, test_ids = generate_subcora(final_seeds[ith],\n",
    "                                                                                                 final_cc_ids[ith],\n",
    "                                                                                                 G,\n",
    "                                                                                                 cora_data, \n",
    "                                                                                                 Xs, ys, \n",
    "                                                                                                 A,\n",
    "                                                                                                 subgraph_size=300)\n",
    "        nc = int(4000/I)\n",
    "        rs_exp(\"NC\", train_ids, val_ids, test_ids,\n",
    "               ith, folder_path=\"./cora/result/\", \n",
    "               Xs=sub_Xs, ys=sub_ys, A_tilde=sub_Atilde,\n",
    "               num_communication=nc, batch_size=1,\n",
    "               learning_rate=0.02, I=I, gradient=True, noise=True,\n",
    "               Print=False, resume=False, bias=False, save=True)\n",
    "        print (I, ith, \"done\")"
   ]
  },
  {
   "cell_type": "code",
   "execution_count": 9,
   "id": "ba0e5af3",
   "metadata": {},
   "outputs": [
    {
     "name": "stdout",
     "output_type": "stream",
     "text": [
      "10 14 done\n",
      "50 14 done\n"
     ]
    }
   ],
   "source": [
    "for ith in [14]:\n",
    "    for I in [10,50]:\n",
    "        subcora_data, sub_Xs, sub_ys, sub_A, sub_Atilde, train_ids, val_ids, test_ids = generate_subcora(final_seeds[ith],\n",
    "                                                                                                 final_cc_ids[ith],\n",
    "                                                                                                 G,\n",
    "                                                                                                 cora_data, \n",
    "                                                                                                 Xs, ys, \n",
    "                                                                                                 A,\n",
    "                                                                                                 subgraph_size=300)\n",
    "        nc = int(4000/I)\n",
    "        rs_exp(\"NC\", train_ids, val_ids, test_ids,\n",
    "               ith, folder_path=\"./cora/result/\", \n",
    "               Xs=sub_Xs, ys=sub_ys, A_tilde=sub_Atilde,\n",
    "               num_communication=nc, batch_size=1,\n",
    "               learning_rate=0.02, I=I, gradient=True, noise=True,\n",
    "               Print=False, resume=False, bias=False, save=True)\n",
    "        print (I, ith, \"done\")"
   ]
  },
  {
   "cell_type": "code",
   "execution_count": null,
   "id": "b7de4e71",
   "metadata": {},
   "outputs": [
    {
     "name": "stdout",
     "output_type": "stream",
     "text": [
      "10 0 done\n",
      "20 0 done\n",
      "50 0 done\n",
      "10 1 done\n",
      "20 1 done\n",
      "50 1 done\n",
      "10 2 done\n",
      "20 2 done\n",
      "50 2 done\n",
      "10 3 done\n",
      "20 3 done\n",
      "50 3 done\n",
      "10 4 done\n"
     ]
    }
   ],
   "source": [
    "for ith in np.arange(7):\n",
    "    for I in [10,20,50]:\n",
    "        subcora_data, sub_Xs, sub_ys, sub_A, sub_Atilde, train_ids, val_ids, test_ids = generate_subcora(final_seeds[ith],\n",
    "                                                                                                 final_cc_ids[ith],\n",
    "                                                                                                 G,\n",
    "                                                                                                 cora_data, \n",
    "                                                                                                 Xs, ys, \n",
    "                                                                                                 A,\n",
    "                                                                                                 subgraph_size=300)\n",
    "        nc = int(4000/I)\n",
    "        rs_exp(\"NC\", train_ids, val_ids, test_ids,\n",
    "               ith, folder_path=\"./cora/result/\", \n",
    "               Xs=sub_Xs, ys=sub_ys, A_tilde=sub_Atilde,\n",
    "               num_communication=nc, batch_size=1,\n",
    "               learning_rate=0.02, I=I, gradient=True, noise=True,\n",
    "               Print=False, resume=False, bias=False, save=True)\n",
    "        print (I, ith, \"done\")"
   ]
  },
  {
   "cell_type": "code",
   "execution_count": null,
   "id": "72670f7e",
   "metadata": {},
   "outputs": [],
   "source": [
    "for ith in np.arange(20):\n",
    "    for I in [1]:\n",
    "        subcora_data, sub_Xs, sub_ys, sub_A, sub_Atilde, train_ids, val_ids, test_ids = generate_subcora(final_seeds[ith],\n",
    "                                                                                                 final_cc_ids[ith],\n",
    "                                                                                                 G,\n",
    "                                                                                                 cora_data, \n",
    "                                                                                                 Xs, ys, \n",
    "                                                                                                 A,\n",
    "                                                                                                 subgraph_size=300)\n",
    "        nc = int(4000/I)\n",
    "        rs_exp(\"NC\", train_ids, val_ids, test_ids,\n",
    "               ith, folder_path=\"./cora/result/\", \n",
    "               Xs=sub_Xs, ys=sub_ys, A_tilde=sub_Atilde,\n",
    "               num_communication=nc, batch_size=1,\n",
    "               learning_rate=0.02, I=I, gradient=False, noise=False,\n",
    "               Print=False, resume=False, bias=False, save=True)\n",
    "        print (I, ith, \"done\")"
   ]
  },
  {
   "cell_type": "code",
   "execution_count": null,
   "id": "f68ec6d4",
   "metadata": {},
   "outputs": [],
   "source": [
    "for ith in [0]:\n",
    "    for I in [10,20,50]:\n",
    "        subcora_data, sub_Xs, sub_ys, sub_A, sub_Atilde, train_ids, val_ids, test_ids = generate_subcora(final_seeds[ith],\n",
    "                                                                                                 final_cc_ids[ith],\n",
    "                                                                                                 G,\n",
    "                                                                                                 cora_data, \n",
    "                                                                                                 Xs, ys, \n",
    "                                                                                                 A,\n",
    "                                                                                                 subgraph_size=300)\n",
    "        nc = int(4000/I)\n",
    "        rs_exp(\"NC\", train_ids, val_ids, test_ids,\n",
    "               ith, folder_path=\"./cora/result/\", \n",
    "               Xs=sub_Xs, ys=sub_ys, A_tilde=sub_Atilde,\n",
    "               num_communication=nc, batch_size=1,\n",
    "               learning_rate=0.02, I=I, gradient=False, noise=False,\n",
    "               Print=False, resume=False, bias=False, save=True)\n",
    "        print (I, ith, \"done\")"
   ]
  },
  {
   "cell_type": "code",
   "execution_count": 14,
   "id": "491434c0",
   "metadata": {},
   "outputs": [
    {
     "ename": "FileNotFoundError",
     "evalue": "[Errno 2] No such file or directory: './cora/result/NC/noisy_grad/I1/tl_0.npy'",
     "output_type": "error",
     "traceback": [
      "\u001b[0;31m---------------------------------------------------------------------------\u001b[0m",
      "\u001b[0;31mFileNotFoundError\u001b[0m                         Traceback (most recent call last)",
      "\u001b[0;32m/var/folders/qb/qvxrwz454mj92jl_h79qv2t80000gn/T/ipykernel_49778/2434953384.py\u001b[0m in \u001b[0;36m<module>\u001b[0;34m\u001b[0m\n\u001b[1;32m     14\u001b[0m                \u001b[0mnum_communication\u001b[0m\u001b[0;34m=\u001b[0m\u001b[0mnc\u001b[0m\u001b[0;34m,\u001b[0m \u001b[0mbatch_size\u001b[0m\u001b[0;34m=\u001b[0m\u001b[0;36m1\u001b[0m\u001b[0;34m,\u001b[0m\u001b[0;34m\u001b[0m\u001b[0;34m\u001b[0m\u001b[0m\n\u001b[1;32m     15\u001b[0m                \u001b[0mlearning_rate\u001b[0m\u001b[0;34m=\u001b[0m\u001b[0;36m0.02\u001b[0m\u001b[0;34m,\u001b[0m \u001b[0mI\u001b[0m\u001b[0;34m=\u001b[0m\u001b[0mI\u001b[0m\u001b[0;34m,\u001b[0m \u001b[0mgradient\u001b[0m\u001b[0;34m=\u001b[0m\u001b[0;32mTrue\u001b[0m\u001b[0;34m,\u001b[0m \u001b[0mnoise\u001b[0m\u001b[0;34m=\u001b[0m\u001b[0;32mTrue\u001b[0m\u001b[0;34m,\u001b[0m\u001b[0;34m\u001b[0m\u001b[0;34m\u001b[0m\u001b[0m\n\u001b[0;32m---> 16\u001b[0;31m                Print=False, resume=False, bias=False, save=True)\n\u001b[0m\u001b[1;32m     17\u001b[0m         \u001b[0mprint\u001b[0m \u001b[0;34m(\u001b[0m\u001b[0mI\u001b[0m\u001b[0;34m,\u001b[0m \u001b[0mith\u001b[0m\u001b[0;34m,\u001b[0m \u001b[0;34m\"done\"\u001b[0m\u001b[0;34m)\u001b[0m\u001b[0;34m\u001b[0m\u001b[0;34m\u001b[0m\u001b[0m\n",
      "\u001b[0;32m/var/folders/qb/qvxrwz454mj92jl_h79qv2t80000gn/T/ipykernel_49778/3987924295.py\u001b[0m in \u001b[0;36mrs_exp\u001b[0;34m(method, train_ids, val_ids, test_ids, ith, folder_path, Xs, ys, A_tilde, num_communication, batch_size, learning_rate, I, gradient, noise, Print, resume, bias, save)\u001b[0m\n\u001b[1;32m     41\u001b[0m                                   Print)\n\u001b[1;32m     42\u001b[0m     \u001b[0;32mif\u001b[0m \u001b[0msave\u001b[0m\u001b[0;34m:\u001b[0m\u001b[0;34m\u001b[0m\u001b[0;34m\u001b[0m\u001b[0m\n\u001b[0;32m---> 43\u001b[0;31m         \u001b[0mnp\u001b[0m\u001b[0;34m.\u001b[0m\u001b[0msave\u001b[0m\u001b[0;34m(\u001b[0m\u001b[0mfolder_path\u001b[0m \u001b[0;34m+\u001b[0m \u001b[0mm\u001b[0m \u001b[0;34m+\u001b[0m \u001b[0mgrad\u001b[0m \u001b[0;34m+\u001b[0m \u001b[0;34m\"I\"\u001b[0m \u001b[0;34m+\u001b[0m \u001b[0mstr\u001b[0m\u001b[0;34m(\u001b[0m\u001b[0mI\u001b[0m\u001b[0;34m)\u001b[0m \u001b[0;34m+\u001b[0m \u001b[0;34m\"/tl_\"\u001b[0m \u001b[0;34m+\u001b[0m \u001b[0mstr\u001b[0m\u001b[0;34m(\u001b[0m\u001b[0mith\u001b[0m\u001b[0;34m)\u001b[0m\u001b[0;34m,\u001b[0m \u001b[0mtl\u001b[0m\u001b[0;34m)\u001b[0m\u001b[0;34m\u001b[0m\u001b[0;34m\u001b[0m\u001b[0m\n\u001b[0m\u001b[1;32m     44\u001b[0m         \u001b[0mnp\u001b[0m\u001b[0;34m.\u001b[0m\u001b[0msave\u001b[0m\u001b[0;34m(\u001b[0m\u001b[0mfolder_path\u001b[0m \u001b[0;34m+\u001b[0m \u001b[0mm\u001b[0m \u001b[0;34m+\u001b[0m \u001b[0mgrad\u001b[0m \u001b[0;34m+\u001b[0m \u001b[0;34m\"I\"\u001b[0m \u001b[0;34m+\u001b[0m \u001b[0mstr\u001b[0m\u001b[0;34m(\u001b[0m\u001b[0mI\u001b[0m\u001b[0;34m)\u001b[0m \u001b[0;34m+\u001b[0m \u001b[0;34m\"/ta_\"\u001b[0m \u001b[0;34m+\u001b[0m \u001b[0mstr\u001b[0m\u001b[0;34m(\u001b[0m\u001b[0mith\u001b[0m\u001b[0;34m)\u001b[0m\u001b[0;34m,\u001b[0m \u001b[0mta\u001b[0m\u001b[0;34m)\u001b[0m\u001b[0;34m\u001b[0m\u001b[0;34m\u001b[0m\u001b[0m\n\u001b[1;32m     45\u001b[0m         \u001b[0mnp\u001b[0m\u001b[0;34m.\u001b[0m\u001b[0msave\u001b[0m\u001b[0;34m(\u001b[0m\u001b[0mfolder_path\u001b[0m \u001b[0;34m+\u001b[0m \u001b[0mm\u001b[0m \u001b[0;34m+\u001b[0m \u001b[0mgrad\u001b[0m \u001b[0;34m+\u001b[0m \u001b[0;34m\"I\"\u001b[0m \u001b[0;34m+\u001b[0m \u001b[0mstr\u001b[0m\u001b[0;34m(\u001b[0m\u001b[0mI\u001b[0m\u001b[0;34m)\u001b[0m \u001b[0;34m+\u001b[0m \u001b[0;34m\"/vl_\"\u001b[0m \u001b[0;34m+\u001b[0m \u001b[0mstr\u001b[0m\u001b[0;34m(\u001b[0m\u001b[0mith\u001b[0m\u001b[0;34m)\u001b[0m\u001b[0;34m,\u001b[0m \u001b[0mvl\u001b[0m\u001b[0;34m)\u001b[0m\u001b[0;34m\u001b[0m\u001b[0;34m\u001b[0m\u001b[0m\n",
      "\u001b[0;32m<__array_function__ internals>\u001b[0m in \u001b[0;36msave\u001b[0;34m(*args, **kwargs)\u001b[0m\n",
      "\u001b[0;32m~/opt/anaconda3/envs/MachineLearning/lib/python3.7/site-packages/numpy/lib/npyio.py\u001b[0m in \u001b[0;36msave\u001b[0;34m(file, arr, allow_pickle, fix_imports)\u001b[0m\n\u001b[1;32m    523\u001b[0m         \u001b[0;32mif\u001b[0m \u001b[0;32mnot\u001b[0m \u001b[0mfile\u001b[0m\u001b[0;34m.\u001b[0m\u001b[0mendswith\u001b[0m\u001b[0;34m(\u001b[0m\u001b[0;34m'.npy'\u001b[0m\u001b[0;34m)\u001b[0m\u001b[0;34m:\u001b[0m\u001b[0;34m\u001b[0m\u001b[0;34m\u001b[0m\u001b[0m\n\u001b[1;32m    524\u001b[0m             \u001b[0mfile\u001b[0m \u001b[0;34m=\u001b[0m \u001b[0mfile\u001b[0m \u001b[0;34m+\u001b[0m \u001b[0;34m'.npy'\u001b[0m\u001b[0;34m\u001b[0m\u001b[0;34m\u001b[0m\u001b[0m\n\u001b[0;32m--> 525\u001b[0;31m         \u001b[0mfile_ctx\u001b[0m \u001b[0;34m=\u001b[0m \u001b[0mopen\u001b[0m\u001b[0;34m(\u001b[0m\u001b[0mfile\u001b[0m\u001b[0;34m,\u001b[0m \u001b[0;34m\"wb\"\u001b[0m\u001b[0;34m)\u001b[0m\u001b[0;34m\u001b[0m\u001b[0;34m\u001b[0m\u001b[0m\n\u001b[0m\u001b[1;32m    526\u001b[0m \u001b[0;34m\u001b[0m\u001b[0m\n\u001b[1;32m    527\u001b[0m     \u001b[0;32mwith\u001b[0m \u001b[0mfile_ctx\u001b[0m \u001b[0;32mas\u001b[0m \u001b[0mfid\u001b[0m\u001b[0;34m:\u001b[0m\u001b[0;34m\u001b[0m\u001b[0;34m\u001b[0m\u001b[0m\n",
      "\u001b[0;31mFileNotFoundError\u001b[0m: [Errno 2] No such file or directory: './cora/result/NC/noisy_grad/I1/tl_0.npy'"
     ]
    }
   ],
   "source": [
    "for ith in np.arange(20):\n",
    "    for I in [1]:\n",
    "        subcora_data, sub_Xs, sub_ys, sub_A, sub_Atilde, train_ids, val_ids, test_ids = generate_subcora(final_seeds[ith],\n",
    "                                                                                                 final_cc_ids[ith],\n",
    "                                                                                                 G,\n",
    "                                                                                                 cora_data, \n",
    "                                                                                                 Xs, ys, \n",
    "                                                                                                 A,\n",
    "                                                                                                 subgraph_size=300)\n",
    "        nc = int(4000/I)\n",
    "        rs_exp(\"NC\", train_ids, val_ids, test_ids,\n",
    "               ith, folder_path=\"./cora/result/\", \n",
    "               Xs=sub_Xs, ys=sub_ys, A_tilde=sub_Atilde,\n",
    "               num_communication=nc, batch_size=1,\n",
    "               learning_rate=0.02, I=I, gradient=True, noise=True,\n",
    "               Print=False, resume=False, bias=False, save=True)\n",
    "        print (I, ith, \"done\")"
   ]
  }
 ],
 "metadata": {
  "kernelspec": {
   "display_name": "Python 3 (ipykernel)",
   "language": "python",
   "name": "python3"
  },
  "language_info": {
   "codemirror_mode": {
    "name": "ipython",
    "version": 3
   },
   "file_extension": ".py",
   "mimetype": "text/x-python",
   "name": "python",
   "nbconvert_exporter": "python",
   "pygments_lexer": "ipython3",
   "version": "3.7.11"
  }
 },
 "nbformat": 4,
 "nbformat_minor": 5
}
