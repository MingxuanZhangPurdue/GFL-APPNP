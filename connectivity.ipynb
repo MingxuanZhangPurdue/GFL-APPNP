{
 "cells": [
  {
   "cell_type": "code",
   "execution_count": 1,
<<<<<<< Updated upstream
   "id": "a53e9c26",
=======
   "id": "b594d05b",
>>>>>>> Stashed changes
   "metadata": {},
   "outputs": [],
   "source": [
    "import torch\n",
    "import numpy as np\n",
    "from utils.generate_csbm import *\n",
    "from utils.train import *\n",
    "from utils.utils import *\n",
    "from models.models import *\n",
    "from models.setup import *\n",
    "import networkx as nx\n",
    "import pickle"
   ]
  },
  {
   "cell_type": "code",
   "execution_count": 118,
<<<<<<< Updated upstream
   "id": "b55f8308",
=======
   "id": "e02f1076",
>>>>>>> Stashed changes
   "metadata": {},
   "outputs": [
    {
     "name": "stdout",
     "output_type": "stream",
     "text": [
      "True 0.574124243317157\n"
     ]
    }
   ],
   "source": [
    "csbm1 = cSBM(N=40, d=25, mu=1, l=2, p=100)\n",
    "G1 = nx.from_numpy_matrix(csbm1.A)\n",
    "print (nx.is_connected(G1), csbm1.phi)\n",
    "csbm1.generate_node_parameters()\n",
    "csbm1.generate_node_data(120, \"GC\")"
   ]
  },
  {
   "cell_type": "code",
   "execution_count": 139,
<<<<<<< Updated upstream
   "id": "ce144830",
=======
   "id": "4885ecb3",
>>>>>>> Stashed changes
   "metadata": {},
   "outputs": [
    {
     "name": "stdout",
     "output_type": "stream",
     "text": [
      "True 0.574124243317157\n"
     ]
    }
   ],
   "source": [
    "csbm2 = cSBM(N=40, d=5, mu=1, l=2, p=100)\n",
    "G2 = nx.from_numpy_matrix(csbm2.A)\n",
    "print (nx.is_connected(G2), csbm2.phi)\n",
    "csbm2.generate_node_parameters()\n",
    "csbm2.generate_node_data(120, \"GC\")"
   ]
  },
  {
   "cell_type": "code",
   "execution_count": 120,
<<<<<<< Updated upstream
   "id": "8a5a6851",
=======
   "id": "38b0623c",
>>>>>>> Stashed changes
   "metadata": {},
   "outputs": [
    {
     "name": "stdout",
     "output_type": "stream",
     "text": [
      "True 0.574124243317157\n"
     ]
    }
   ],
   "source": [
    "csbm3 = cSBM(N=40, d=15, mu=1, l=2, p=100)\n",
    "G3 = nx.from_numpy_matrix(csbm3.A)\n",
    "print (nx.is_connected(G3), csbm3.phi)\n",
    "csbm3.generate_node_parameters()\n",
    "csbm3.generate_node_data(120, \"GC\")"
   ]
  },
  {
   "cell_type": "code",
   "execution_count": 262,
<<<<<<< Updated upstream
   "id": "4ecd1611",
=======
   "id": "9a2009b2",
>>>>>>> Stashed changes
   "metadata": {},
   "outputs": [
    {
     "name": "stdout",
     "output_type": "stream",
     "text": [
      "True 0.574124243317157\n"
     ]
    }
   ],
   "source": [
    "csbm4 = cSBM(N=40, d=7, mu=1, l=2, p=100)\n",
    "G4 = nx.from_numpy_matrix(csbm4.A)\n",
    "print (nx.is_connected(G4), csbm4.phi)\n",
    "csbm4.generate_node_parameters()\n",
    "csbm4.generate_node_data(120, \"GC\")"
   ]
  },
  {
   "cell_type": "code",
   "execution_count": 274,
<<<<<<< Updated upstream
   "id": "79f172ad",
=======
   "id": "4e9cfbf1",
>>>>>>> Stashed changes
   "metadata": {},
   "outputs": [
    {
     "name": "stdout",
     "output_type": "stream",
     "text": [
      "True 0.574124243317157\n"
     ]
    }
   ],
   "source": [
    "csbm5 = cSBM(N=40, d=10, mu=1, l=2, p=100)\n",
    "G5 = nx.from_numpy_matrix(csbm5.A)\n",
    "print (nx.is_connected(G5), csbm5.phi)\n",
    "csbm5.generate_node_parameters()"
   ]
  },
  {
   "cell_type": "code",
   "execution_count": 263,
<<<<<<< Updated upstream
   "id": "2ed9566c",
=======
   "id": "a70bcbaf",
>>>>>>> Stashed changes
   "metadata": {},
   "outputs": [],
   "source": [
    "B = np.identity(40)/40 - np.ones((40,1))@np.ones((1,40))/(40**2)"
   ]
  },
  {
   "cell_type": "code",
   "execution_count": 275,
<<<<<<< Updated upstream
   "id": "681ba9a8",
=======
   "id": "8b503edb",
>>>>>>> Stashed changes
   "metadata": {},
   "outputs": [],
   "source": [
    "L1 = np.array(nx.laplacian_matrix(G1).todense())\n",
    "L2 = np.array(nx.laplacian_matrix(G2).todense())\n",
    "L3 = np.array(nx.laplacian_matrix(G3).todense())\n",
    "L4 = np.array(nx.laplacian_matrix(G4).todense())\n",
    "L5 = np.array(nx.laplacian_matrix(G5).todense())"
   ]
  },
  {
   "cell_type": "code",
   "execution_count": 265,
<<<<<<< Updated upstream
   "id": "78f0e77a",
=======
   "id": "e0d5772c",
>>>>>>> Stashed changes
   "metadata": {},
   "outputs": [],
   "source": [
    "lm1 = np.linalg.eigh(B@np.linalg.pinv(L1))[0].max()"
   ]
  },
  {
   "cell_type": "code",
   "execution_count": 266,
<<<<<<< Updated upstream
   "id": "d89d73a9",
=======
   "id": "92050cd3",
>>>>>>> Stashed changes
   "metadata": {},
   "outputs": [],
   "source": [
    "lm3 = np.linalg.eigh(B@np.linalg.pinv(L3))[0].max()"
   ]
  },
  {
   "cell_type": "code",
   "execution_count": 267,
<<<<<<< Updated upstream
   "id": "b495c79d",
=======
   "id": "483d7141",
>>>>>>> Stashed changes
   "metadata": {},
   "outputs": [],
   "source": [
    "lm2 = np.linalg.eigh(B@np.linalg.pinv(L2))[0].max()"
   ]
  },
  {
   "cell_type": "code",
   "execution_count": 268,
<<<<<<< Updated upstream
   "id": "9c504f99",
=======
   "id": "5c2004eb",
>>>>>>> Stashed changes
   "metadata": {},
   "outputs": [
    {
     "data": {
      "text/plain": [
       "0.07524551744763537"
      ]
     },
     "execution_count": 268,
     "metadata": {},
     "output_type": "execute_result"
    }
   ],
   "source": [
    "lm2"
   ]
  },
  {
   "cell_type": "code",
   "execution_count": 271,
<<<<<<< Updated upstream
   "id": "20658383",
=======
   "id": "7bea2b8c",
>>>>>>> Stashed changes
   "metadata": {},
   "outputs": [
    {
     "data": {
      "text/plain": [
       "0.03363566099630109"
      ]
     },
     "execution_count": 271,
     "metadata": {},
     "output_type": "execute_result"
    }
   ],
   "source": [
    "lm4 = np.linalg.eigh(B@np.linalg.pinv(L4))[0].max()\n",
    "lm4"
   ]
  },
  {
   "cell_type": "code",
   "execution_count": 276,
<<<<<<< Updated upstream
   "id": "fab3b095",
=======
   "id": "9f2caa36",
>>>>>>> Stashed changes
   "metadata": {},
   "outputs": [
    {
     "data": {
      "text/plain": [
       "0.010867807779216698"
      ]
     },
     "execution_count": 276,
     "metadata": {},
     "output_type": "execute_result"
    }
   ],
   "source": [
    "lm5 = np.linalg.eigh(B@np.linalg.pinv(L5))[0].max()\n",
    "lm5"
   ]
  },
  {
   "cell_type": "code",
   "execution_count": 145,
<<<<<<< Updated upstream
   "id": "7c2b50eb",
=======
   "id": "63ced965",
>>>>>>> Stashed changes
   "metadata": {},
   "outputs": [],
   "source": [
    "init_mlp = MLP(100, 64, 2, bias=False)"
   ]
  },
  {
   "cell_type": "code",
   "execution_count": 149,
<<<<<<< Updated upstream
   "id": "fbd95601",
=======
   "id": "0cc2abf0",
>>>>>>> Stashed changes
   "metadata": {
    "scrolled": true
   },
   "outputs": [
    {
     "name": "stdout",
     "output_type": "stream",
     "text": [
      "0\n",
      "1\n",
      "2\n",
      "3\n",
      "4\n",
      "5\n",
      "6\n",
      "7\n",
      "8\n",
      "9\n",
      "10\n",
      "11\n",
      "12\n",
      "13\n",
      "14\n",
      "15\n",
      "16\n",
      "17\n",
      "18\n",
      "19\n"
     ]
    }
   ],
   "source": [
    "test_acc1 = []\n",
    "for ith in range(20):\n",
    "    csbm1.generate_node_data(120, \"GC\")\n",
    "    A_tilde1 = calculate_Atilde(csbm1.A, K=10, alpha=0.9)\n",
    "    server1 = set_up_GC(csbm1.Xs, csbm1.ys, init_mlp, A_tilde1, n_train=10, n_val=10, improved=False)\n",
    "    tl, ta, vl, va = train_GC(server1, num_communication=150, batch_size=5, learning_rate=0.5, I=10,\n",
    "                              gradient=True, noise=False, \n",
    "                              Print=False, print_time=10)\n",
    "    test_acc1.append(server1.eval_test())\n",
    "    print (ith)"
   ]
  },
  {
   "cell_type": "code",
   "execution_count": 150,
<<<<<<< Updated upstream
   "id": "2b0c5bc4",
=======
   "id": "99c8dff9",
>>>>>>> Stashed changes
   "metadata": {
    "scrolled": true
   },
   "outputs": [
    {
     "name": "stdout",
     "output_type": "stream",
     "text": [
      "0\n",
      "1\n",
      "2\n",
      "3\n",
      "4\n",
      "5\n",
      "6\n",
      "7\n",
      "8\n",
      "9\n",
      "10\n",
      "11\n",
      "12\n",
      "13\n",
      "14\n",
      "15\n",
      "16\n",
      "17\n",
      "18\n",
      "19\n"
     ]
    }
   ],
   "source": [
    "test_acc2 = []\n",
    "for ith in range(20):\n",
    "    csbm2.generate_node_data(120, \"GC\")\n",
    "    A_tilde2 = calculate_Atilde(csbm2.A, K=10, alpha=0.9)\n",
    "    server2 = set_up_GC(csbm2.Xs, csbm2.ys, init_mlp, A_tilde2, n_train=10, n_val=10, improved=False)\n",
    "    tl2, ta2, vl2, va2 = train_GC(server2, num_communication=150, batch_size=5, learning_rate=0.5, I=10,\n",
    "                              gradient=True, noise=False, \n",
    "                              Print=False, print_time=10)\n",
    "    test_acc2.append(server2.eval_test())\n",
    "    print (ith)"
   ]
  },
  {
   "cell_type": "code",
   "execution_count": 151,
<<<<<<< Updated upstream
   "id": "42c54d5a",
=======
   "id": "1a3bfc56",
>>>>>>> Stashed changes
   "metadata": {},
   "outputs": [
    {
     "name": "stdout",
     "output_type": "stream",
     "text": [
      "0\n",
      "1\n",
      "2\n",
      "3\n",
      "4\n",
      "5\n",
      "6\n",
      "7\n",
      "8\n",
      "9\n",
      "10\n",
      "11\n",
      "12\n",
      "13\n",
      "14\n",
      "15\n",
      "16\n",
      "17\n",
      "18\n",
      "19\n"
     ]
    }
   ],
   "source": [
    "test_acc3 = []\n",
    "for ith in range(20):\n",
    "    csbm3.generate_node_data(120, \"GC\")\n",
    "    A_tilde3 = calculate_Atilde(csbm3.A, K=10, alpha=0.9)\n",
    "    server3 = set_up_GC(csbm3.Xs, csbm3.ys, init_mlp, A_tilde3, n_train=10, n_val=10, improved=False)\n",
    "    tl2, ta2, vl2, va2 = train_GC(server3, num_communication=150, batch_size=5, learning_rate=0.5, I=10,\n",
    "                              gradient=True, noise=False, \n",
    "                              Print=False, print_time=10)\n",
    "    test_acc3.append(server3.eval_test())\n",
    "    print (ith)"
   ]
  },
  {
   "cell_type": "code",
   "execution_count": 272,
<<<<<<< Updated upstream
   "id": "e26e70de",
=======
   "id": "f6603ca4",
>>>>>>> Stashed changes
   "metadata": {},
   "outputs": [
    {
     "name": "stdout",
     "output_type": "stream",
     "text": [
      "0\n",
      "1\n",
      "2\n",
      "3\n",
      "4\n",
      "5\n",
      "6\n",
      "7\n",
      "8\n",
      "9\n",
      "10\n",
      "11\n",
      "12\n",
      "13\n",
      "14\n",
      "15\n",
      "16\n",
      "17\n",
      "18\n",
      "19\n"
     ]
    }
   ],
   "source": [
    "test_acc4 = []\n",
    "for ith in range(20):\n",
    "    csbm4.generate_node_data(120, \"GC\")\n",
    "    A_tilde4 = calculate_Atilde(csbm4.A, K=10, alpha=0.9)\n",
    "    server4 = set_up_GC(csbm4.Xs, csbm4.ys, init_mlp, A_tilde4, n_train=10, n_val=10, improved=False)\n",
    "    tl2, ta2, vl2, va2 = train_GC(server4, num_communication=150, batch_size=5, learning_rate=0.5, I=10,\n",
    "                              gradient=True, noise=False, \n",
    "                              Print=False, print_time=10)\n",
    "    test_acc4.append(server4.eval_test())\n",
    "    print (ith)"
   ]
  },
  {
   "cell_type": "code",
   "execution_count": 280,
<<<<<<< Updated upstream
   "id": "9af8546b",
=======
   "id": "76d048e1",
>>>>>>> Stashed changes
   "metadata": {},
   "outputs": [
    {
     "name": "stdout",
     "output_type": "stream",
     "text": [
      "0\n",
      "1\n",
      "2\n",
      "3\n",
      "4\n",
      "5\n",
      "6\n",
      "7\n",
      "8\n",
      "9\n",
      "10\n",
      "11\n",
      "12\n",
      "13\n",
      "14\n",
      "15\n",
      "16\n",
      "17\n",
      "18\n",
      "19\n"
     ]
    }
   ],
   "source": [
    "test_acc5 = []\n",
    "for ith in range(20):\n",
    "    csbm5.generate_node_data(120, \"GC\")\n",
    "    A_tilde5 = calculate_Atilde(csbm5.A, K=10, alpha=0.9)\n",
    "    server5 = set_up_GC(csbm5.Xs, csbm5.ys, init_mlp, A_tilde5, n_train=10, n_val=10, improved=False)\n",
    "    tl2, ta2, vl2, va2 = train_GC(server5, num_communication=150, batch_size=5, learning_rate=0.5, I=10,\n",
    "                              gradient=True, noise=False, \n",
    "                              Print=False, print_time=10)\n",
    "    test_acc5.append(server5.eval_test())\n",
    "    print (ith)"
   ]
  },
  {
   "cell_type": "code",
   "execution_count": 175,
<<<<<<< Updated upstream
   "id": "06b7b799",
=======
   "id": "bf1a2cd1",
>>>>>>> Stashed changes
   "metadata": {},
   "outputs": [
    {
     "name": "stdout",
     "output_type": "stream",
     "text": [
      "0.9392625000000001 0.9236875000000001 0.8957875000000002\n"
     ]
    }
   ],
   "source": [
    "print (np.array(test_acc1)[:,1].mean(),np.array(test_acc3)[:,1].mean(), np.array(test_acc2)[:,1].mean())"
   ]
  },
  {
   "cell_type": "code",
<<<<<<< Updated upstream
   "execution_count": 282,
   "id": "3884ad82",
=======
   "execution_count": 281,
   "id": "3b2ae1fd",
>>>>>>> Stashed changes
   "metadata": {},
   "outputs": [
    {
     "data": {
      "text/plain": [
       "0.906325"
      ]
     },
<<<<<<< Updated upstream
     "execution_count": 282,
=======
     "execution_count": 281,
>>>>>>> Stashed changes
     "metadata": {},
     "output_type": "execute_result"
    }
   ],
   "source": [
    "np.array(test_acc5)[:,1].mean()"
   ]
  },
  {
   "cell_type": "code",
   "execution_count": 163,
<<<<<<< Updated upstream
   "id": "5cda8bd6",
=======
   "id": "906bafac",
>>>>>>> Stashed changes
   "metadata": {},
   "outputs": [
    {
     "name": "stdout",
     "output_type": "stream",
     "text": [
      "0.004337680111534334 0.004570882710155681 0.01726073488441325\n"
     ]
    }
   ],
   "source": [
    "print (np.array(test_acc1)[:,1].std(),np.array(test_acc3)[:,1].std(), np.array(test_acc2)[:,1].std())"
   ]
  },
  {
   "cell_type": "code",
   "execution_count": 164,
<<<<<<< Updated upstream
   "id": "b52e73ef",
=======
   "id": "213e81cd",
>>>>>>> Stashed changes
   "metadata": {},
   "outputs": [],
   "source": [
    "import pandas as pd"
   ]
  },
  {
   "cell_type": "code",
<<<<<<< Updated upstream
   "execution_count": 303,
   "id": "73600363",
=======
   "execution_count": 173,
   "id": "e389cfad",
>>>>>>> Stashed changes
   "metadata": {},
   "outputs": [],
   "source": [
    "c = [lm1, lm3, lm5, lm2]\n",
    "tams = [np.array(test_acc1)[:,1].mean(),np.array(test_acc3)[:,1].mean(),\n",
    "        np.array(test_acc5)[:,1].mean(), np.array(test_acc2)[:,1].mean()]\n",
    "\n",
    "tasds = [np.array(test_acc1)[:,1].std(), np.array(test_acc3)[:,1].std(),\n",
    "         np.array(test_acc5)[:,1].std(), np.array(test_acc2)[:,1].std()]\n",
    "\n",
    "rows = [c, tams, tasds]"
   ]
  },
  {
   "cell_type": "code",
<<<<<<< Updated upstream
   "execution_count": 304,
   "id": "9f54bc82",
=======
   "execution_count": 178,
   "id": "012eab04",
>>>>>>> Stashed changes
   "metadata": {},
   "outputs": [],
   "source": [
    "results = pd.DataFrame(rows).T"
   ]
  },
  {
   "cell_type": "code",
<<<<<<< Updated upstream
   "execution_count": 305,
   "id": "bac28f8e",
   "metadata": {},
   "outputs": [],
   "source": [
    "results.to_csv(\"connectivity_results.csv\", index=False)"
   ]
  },
  {
   "cell_type": "code",
   "execution_count": 306,
   "id": "be18d976",
   "metadata": {},
   "outputs": [],
   "source": [
    "df = results"
   ]
  },
  {
   "cell_type": "code",
   "execution_count": 307,
   "id": "ceee96ea",
   "metadata": {},
   "outputs": [],
   "source": [
    "import matplotlib.pyplot as plt"
   ]
  },
  {
   "cell_type": "code",
   "execution_count": 308,
   "id": "0f81cd27",
   "metadata": {},
   "outputs": [
    {
     "data": {
      "text/html": [
       "<div>\n",
       "<style scoped>\n",
       "    .dataframe tbody tr th:only-of-type {\n",
       "        vertical-align: middle;\n",
       "    }\n",
       "\n",
       "    .dataframe tbody tr th {\n",
       "        vertical-align: top;\n",
       "    }\n",
       "\n",
       "    .dataframe thead th {\n",
       "        text-align: right;\n",
       "    }\n",
       "</style>\n",
       "<table border=\"1\" class=\"dataframe\">\n",
       "  <thead>\n",
       "    <tr style=\"text-align: right;\">\n",
       "      <th></th>\n",
       "      <th>0</th>\n",
       "      <th>1</th>\n",
       "      <th>2</th>\n",
       "    </tr>\n",
       "  </thead>\n",
       "  <tbody>\n",
       "    <tr>\n",
       "      <th>0</th>\n",
       "      <td>0.001762</td>\n",
       "      <td>0.939263</td>\n",
       "      <td>0.004338</td>\n",
       "    </tr>\n",
       "    <tr>\n",
       "      <th>1</th>\n",
       "      <td>0.004170</td>\n",
       "      <td>0.923688</td>\n",
       "      <td>0.004571</td>\n",
       "    </tr>\n",
       "    <tr>\n",
       "      <th>2</th>\n",
       "      <td>0.010868</td>\n",
       "      <td>0.906325</td>\n",
       "      <td>0.009693</td>\n",
       "    </tr>\n",
       "    <tr>\n",
       "      <th>3</th>\n",
       "      <td>0.075246</td>\n",
       "      <td>0.895788</td>\n",
       "      <td>0.017261</td>\n",
       "    </tr>\n",
       "  </tbody>\n",
       "</table>\n",
       "</div>"
      ],
      "text/plain": [
       "          0         1         2\n",
       "0  0.001762  0.939263  0.004338\n",
       "1  0.004170  0.923688  0.004571\n",
       "2  0.010868  0.906325  0.009693\n",
       "3  0.075246  0.895788  0.017261"
      ]
     },
     "execution_count": 308,
     "metadata": {},
     "output_type": "execute_result"
    }
   ],
   "source": [
    "df"
=======
   "execution_count": 182,
   "id": "a0ff9d6c",
   "metadata": {},
   "outputs": [],
   "source": [
    "results.to_csv(\"connectivity_results.csv\", index=False)"
>>>>>>> Stashed changes
   ]
  },
  {
   "cell_type": "code",
<<<<<<< Updated upstream
   "execution_count": 309,
   "id": "4a88a1f5",
=======
   "execution_count": null,
   "id": "0f5aa54e",
>>>>>>> Stashed changes
   "metadata": {},
   "outputs": [
    {
     "data": {
      "image/png": "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\n",
      "text/plain": [
       "<Figure size 504x360 with 1 Axes>"
      ]
     },
     "metadata": {
      "needs_background": "light"
     },
     "output_type": "display_data"
    }
   ],
   "source": [
    "fig,ax = plt.subplots(1,1, figsize=(7,5))\n",
    "x = [1,2,3,4]\n",
    "y = df.iloc[:,1]\n",
    "yerr = 1.96*df.iloc[:,2]/np.sqrt(20)\n",
    "plt.errorbar(x, y, yerr, marker=\"o\", markersize=6, capsize=5, color=\"green\")\n",
    "plt.plot(x, y, color=\"green\")\n",
    "plt.xticks([1, 2, 3, 4],[r\"$1.76\\times 10^{-3}$\", r\"$4.17\\times 10^{-3}$\", \n",
    "                         r\"$1.09\\times 10^{-2}$\", r\"$7.52\\times 10^{-2}$\"], fontsize=12)\n",
    "plt.yticks(fontsize=12)\n",
    "plt.xlabel(r\"$\\lambda_{\\max} (B_N L^{\\dagger})$\", fontsize=15)\n",
    "plt.ylabel(\"Average Test Accuracy\", fontsize=14)\n",
    "plt.title(\"Effect of Graph Structure\", fontsize=15)\n",
    "plt.tight_layout()\n",
    "plt.savefig(\"connectivity.jpeg\")"
   ]
  }
 ],
 "metadata": {
  "kernelspec": {
   "display_name": "Python 3 (ipykernel)",
   "language": "python",
   "name": "python3"
  },
  "language_info": {
   "codemirror_mode": {
    "name": "ipython",
    "version": 3
   },
   "file_extension": ".py",
   "mimetype": "text/x-python",
   "name": "python",
   "nbconvert_exporter": "python",
   "pygments_lexer": "ipython3",
   "version": "3.7.11"
  }
 },
 "nbformat": 4,
 "nbformat_minor": 5
}
