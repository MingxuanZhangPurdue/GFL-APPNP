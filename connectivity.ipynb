{
 "cells": [
  {
   "cell_type": "code",
   "execution_count": 1,
   "id": "653a3cfd",
   "metadata": {},
   "outputs": [],
   "source": [
    "import torch\n",
    "import numpy as np\n",
    "from utils.generate_csbm import *\n",
    "from utils.train import *\n",
    "from utils.utils import *\n",
    "from models.models import *\n",
    "from models.setup import *\n",
    "import networkx as nx\n",
    "import pickle"
   ]
  },
  {
   "cell_type": "code",
   "execution_count": 118,
   "id": "361400c4",
   "metadata": {},
   "outputs": [
    {
     "name": "stdout",
     "output_type": "stream",
     "text": [
      "True 0.574124243317157\n"
     ]
    }
   ],
   "source": [
    "csbm1 = cSBM(N=40, d=25, mu=1, l=2, p=100)\n",
    "G1 = nx.from_numpy_matrix(csbm1.A)\n",
    "print (nx.is_connected(G1), csbm1.phi)\n",
    "csbm1.generate_node_parameters()\n",
    "csbm1.generate_node_data(120, \"GC\")"
   ]
  },
  {
   "cell_type": "code",
   "execution_count": 139,
   "id": "a10cdcbd",
   "metadata": {},
   "outputs": [
    {
     "name": "stdout",
     "output_type": "stream",
     "text": [
      "True 0.574124243317157\n"
     ]
    }
   ],
   "source": [
    "csbm2 = cSBM(N=40, d=5, mu=1, l=2, p=100)\n",
    "G2 = nx.from_numpy_matrix(csbm2.A)\n",
    "print (nx.is_connected(G2), csbm2.phi)\n",
    "csbm2.generate_node_parameters()\n",
    "csbm2.generate_node_data(120, \"GC\")"
   ]
  },
  {
   "cell_type": "code",
   "execution_count": 120,
   "id": "fd8570b2",
   "metadata": {},
   "outputs": [
    {
     "name": "stdout",
     "output_type": "stream",
     "text": [
      "True 0.574124243317157\n"
     ]
    }
   ],
   "source": [
    "csbm3 = cSBM(N=40, d=15, mu=1, l=2, p=100)\n",
    "G3 = nx.from_numpy_matrix(csbm3.A)\n",
    "print (nx.is_connected(G3), csbm3.phi)\n",
    "csbm3.generate_node_parameters()\n",
    "csbm3.generate_node_data(120, \"GC\")"
   ]
  },
  {
   "cell_type": "code",
   "execution_count": 140,
   "id": "dd37566e",
   "metadata": {},
   "outputs": [],
   "source": [
    "B = np.identity(40)/40 - np.ones((40,1))@np.ones((1,40))/(40**2)"
   ]
  },
  {
   "cell_type": "code",
   "execution_count": 141,
   "id": "f5e298cb",
   "metadata": {},
   "outputs": [],
   "source": [
    "L1 = np.array(nx.laplacian_matrix(G1).todense())\n",
    "L2 = np.array(nx.laplacian_matrix(G2).todense())\n",
    "L3 = np.array(nx.laplacian_matrix(G3).todense())"
   ]
  },
  {
   "cell_type": "code",
   "execution_count": 169,
   "id": "087e64dc",
   "metadata": {},
   "outputs": [],
   "source": [
    "lm1 = np.linalg.eigh(B@np.linalg.pinv(L1))[0].max()"
   ]
  },
  {
   "cell_type": "code",
   "execution_count": 170,
   "id": "b6367878",
   "metadata": {},
   "outputs": [],
   "source": [
    "lm3 = np.linalg.eigh(B@np.linalg.pinv(L3))[0].max()"
   ]
  },
  {
   "cell_type": "code",
   "execution_count": 171,
   "id": "ba47475f",
   "metadata": {},
   "outputs": [],
   "source": [
    "lm2 = np.linalg.eigh(B@np.linalg.pinv(L2))[0].max()"
   ]
  },
  {
   "cell_type": "code",
   "execution_count": 145,
   "id": "30021d2d",
   "metadata": {},
   "outputs": [],
   "source": [
    "init_mlp = MLP(100, 64, 2, bias=False)"
   ]
  },
  {
   "cell_type": "code",
   "execution_count": 149,
   "id": "27f350bc",
   "metadata": {
    "scrolled": true
   },
   "outputs": [
    {
     "name": "stdout",
     "output_type": "stream",
     "text": [
      "0\n",
      "1\n",
      "2\n",
      "3\n",
      "4\n",
      "5\n",
      "6\n",
      "7\n",
      "8\n",
      "9\n",
      "10\n",
      "11\n",
      "12\n",
      "13\n",
      "14\n",
      "15\n",
      "16\n",
      "17\n",
      "18\n",
      "19\n"
     ]
    }
   ],
   "source": [
    "test_acc1 = []\n",
    "for ith in range(20):\n",
    "    csbm1.generate_node_data(120, \"GC\")\n",
    "    A_tilde1 = calculate_Atilde(csbm1.A, K=10, alpha=0.9)\n",
    "    server1 = set_up_GC(csbm1.Xs, csbm1.ys, init_mlp, A_tilde1, n_train=10, n_val=10, improved=False)\n",
    "    tl, ta, vl, va = train_GC(server1, num_communication=150, batch_size=5, learning_rate=0.5, I=10,\n",
    "                              gradient=True, noise=False, \n",
    "                              Print=False, print_time=10)\n",
    "    test_acc1.append(server1.eval_test())\n",
    "    print (ith)"
   ]
  },
  {
   "cell_type": "code",
   "execution_count": 150,
   "id": "b2f63b99",
   "metadata": {
    "scrolled": true
   },
   "outputs": [
    {
     "name": "stdout",
     "output_type": "stream",
     "text": [
      "0\n",
      "1\n",
      "2\n",
      "3\n",
      "4\n",
      "5\n",
      "6\n",
      "7\n",
      "8\n",
      "9\n",
      "10\n",
      "11\n",
      "12\n",
      "13\n",
      "14\n",
      "15\n",
      "16\n",
      "17\n",
      "18\n",
      "19\n"
     ]
    }
   ],
   "source": [
    "test_acc2 = []\n",
    "for ith in range(20):\n",
    "    csbm2.generate_node_data(120, \"GC\")\n",
    "    A_tilde2 = calculate_Atilde(csbm2.A, K=10, alpha=0.9)\n",
    "    server2 = set_up_GC(csbm2.Xs, csbm2.ys, init_mlp, A_tilde2, n_train=10, n_val=10, improved=False)\n",
    "    tl2, ta2, vl2, va2 = train_GC(server2, num_communication=150, batch_size=5, learning_rate=0.5, I=10,\n",
    "                              gradient=True, noise=False, \n",
    "                              Print=False, print_time=10)\n",
    "    test_acc2.append(server2.eval_test())\n",
    "    print (ith)"
   ]
  },
  {
   "cell_type": "code",
   "execution_count": 151,
   "id": "22684d8c",
   "metadata": {},
   "outputs": [
    {
     "name": "stdout",
     "output_type": "stream",
     "text": [
      "0\n",
      "1\n",
      "2\n",
      "3\n",
      "4\n",
      "5\n",
      "6\n",
      "7\n",
      "8\n",
      "9\n",
      "10\n",
      "11\n",
      "12\n",
      "13\n",
      "14\n",
      "15\n",
      "16\n",
      "17\n",
      "18\n",
      "19\n"
     ]
    }
   ],
   "source": [
    "test_acc3 = []\n",
    "for ith in range(20):\n",
    "    csbm3.generate_node_data(120, \"GC\")\n",
    "    A_tilde3 = calculate_Atilde(csbm3.A, K=10, alpha=0.9)\n",
    "    server3 = set_up_GC(csbm3.Xs, csbm3.ys, init_mlp, A_tilde3, n_train=10, n_val=10, improved=False)\n",
    "    tl2, ta2, vl2, va2 = train_GC(server3, num_communication=150, batch_size=5, learning_rate=0.5, I=10,\n",
    "                              gradient=True, noise=False, \n",
    "                              Print=False, print_time=10)\n",
    "    test_acc3.append(server3.eval_test())\n",
    "    print (ith)"
   ]
  },
  {
   "cell_type": "code",
   "execution_count": 175,
   "id": "fcf9144d",
   "metadata": {},
   "outputs": [
    {
     "name": "stdout",
     "output_type": "stream",
     "text": [
      "0.9392625000000001 0.9236875000000001 0.8957875000000002\n"
     ]
    }
   ],
   "source": [
    "print (np.array(test_acc1)[:,1].mean(),np.array(test_acc3)[:,1].mean(), np.array(test_acc2)[:,1].mean())"
   ]
  },
  {
   "cell_type": "code",
   "execution_count": 163,
   "id": "bbb02c25",
   "metadata": {},
   "outputs": [
    {
     "name": "stdout",
     "output_type": "stream",
     "text": [
      "0.004337680111534334 0.004570882710155681 0.01726073488441325\n"
     ]
    }
   ],
   "source": [
    "print (np.array(test_acc1)[:,1].std(),np.array(test_acc3)[:,1].std(), np.array(test_acc2)[:,1].std())"
   ]
  },
  {
   "cell_type": "code",
   "execution_count": 164,
   "id": "62aa2c23",
   "metadata": {},
   "outputs": [],
   "source": [
    "import pandas as pd"
   ]
  },
  {
   "cell_type": "code",
   "execution_count": 173,
   "id": "d125439b",
   "metadata": {},
   "outputs": [],
   "source": [
    "c = [lm1, lm3, lm2]\n",
    "tams = [np.array(test_acc1)[:,1].mean(),np.array(test_acc3)[:,1].mean(), np.array(test_acc2)[:,1].mean()]\n",
    "tasds = [np.array(test_acc1)[:,1].std(),np.array(test_acc3)[:,1].std(), np.array(test_acc2)[:,1].std()]\n",
    "rows = [c, tams, tasds]"
   ]
  },
  {
   "cell_type": "code",
   "execution_count": 178,
   "id": "751f95c1",
   "metadata": {},
   "outputs": [],
   "source": [
    "results = pd.DataFrame(rows).T"
   ]
  },
  {
   "cell_type": "code",
   "execution_count": 179,
   "id": "4b5a64b7",
   "metadata": {},
   "outputs": [
    {
     "data": {
      "text/html": [
       "<div>\n",
       "<style scoped>\n",
       "    .dataframe tbody tr th:only-of-type {\n",
       "        vertical-align: middle;\n",
       "    }\n",
       "\n",
       "    .dataframe tbody tr th {\n",
       "        vertical-align: top;\n",
       "    }\n",
       "\n",
       "    .dataframe thead th {\n",
       "        text-align: right;\n",
       "    }\n",
       "</style>\n",
       "<table border=\"1\" class=\"dataframe\">\n",
       "  <thead>\n",
       "    <tr style=\"text-align: right;\">\n",
       "      <th></th>\n",
       "      <th>0</th>\n",
       "      <th>1</th>\n",
       "      <th>2</th>\n",
       "    </tr>\n",
       "  </thead>\n",
       "  <tbody>\n",
       "    <tr>\n",
       "      <th>0</th>\n",
       "      <td>0.001762</td>\n",
       "      <td>0.939263</td>\n",
       "      <td>0.004338</td>\n",
       "    </tr>\n",
       "    <tr>\n",
       "      <th>1</th>\n",
       "      <td>0.004170</td>\n",
       "      <td>0.923688</td>\n",
       "      <td>0.004571</td>\n",
       "    </tr>\n",
       "    <tr>\n",
       "      <th>2</th>\n",
       "      <td>0.075246</td>\n",
       "      <td>0.895788</td>\n",
       "      <td>0.017261</td>\n",
       "    </tr>\n",
       "  </tbody>\n",
       "</table>\n",
       "</div>"
      ],
      "text/plain": [
       "          0         1         2\n",
       "0  0.001762  0.939263  0.004338\n",
       "1  0.004170  0.923688  0.004571\n",
       "2  0.075246  0.895788  0.017261"
      ]
     },
     "execution_count": 179,
     "metadata": {},
     "output_type": "execute_result"
    }
   ],
   "source": [
    "results"
   ]
  },
  {
   "cell_type": "code",
   "execution_count": null,
   "id": "1f055f1e",
   "metadata": {},
   "outputs": [],
   "source": []
  }
 ],
 "metadata": {
  "kernelspec": {
   "display_name": "Python 3 (ipykernel)",
   "language": "python",
   "name": "python3"
  },
  "language_info": {
   "codemirror_mode": {
    "name": "ipython",
    "version": 3
   },
   "file_extension": ".py",
   "mimetype": "text/x-python",
   "name": "python",
   "nbconvert_exporter": "python",
   "pygments_lexer": "ipython3",
   "version": "3.7.11"
  }
 },
 "nbformat": 4,
 "nbformat_minor": 5
}
