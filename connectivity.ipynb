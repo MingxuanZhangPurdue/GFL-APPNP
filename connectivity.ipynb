{
 "cells": [
  {
   "cell_type": "code",
   "execution_count": 1,
   "id": "03d70fb1",
   "metadata": {},
   "outputs": [],
   "source": [
    "import torch\n",
    "import numpy as np\n",
    "from utils.generate_csbm import *\n",
    "from utils.train import *\n",
    "from utils.utils import *\n",
    "from models.models import *\n",
    "from models.setup import *\n",
    "import networkx as nx\n",
    "import pickle"
   ]
  },
  {
   "cell_type": "code",
   "execution_count": 118,
   "id": "125eddae",
   "metadata": {},
   "outputs": [
    {
     "name": "stdout",
     "output_type": "stream",
     "text": [
      "True 0.574124243317157\n"
     ]
    }
   ],
   "source": [
    "csbm1 = cSBM(N=40, d=25, mu=1, l=2, p=100)\n",
    "G1 = nx.from_numpy_matrix(csbm1.A)\n",
    "print (nx.is_connected(G1), csbm1.phi)\n",
    "csbm1.generate_node_parameters()\n",
    "csbm1.generate_node_data(120, \"GC\")"
   ]
  },
  {
   "cell_type": "code",
   "execution_count": 139,
   "id": "6448c897",
   "metadata": {},
   "outputs": [
    {
     "name": "stdout",
     "output_type": "stream",
     "text": [
      "True 0.574124243317157\n"
     ]
    }
   ],
   "source": [
    "csbm2 = cSBM(N=40, d=5, mu=1, l=2, p=100)\n",
    "G2 = nx.from_numpy_matrix(csbm2.A)\n",
    "print (nx.is_connected(G2), csbm2.phi)\n",
    "csbm2.generate_node_parameters()\n",
    "csbm2.generate_node_data(120, \"GC\")"
   ]
  },
  {
   "cell_type": "code",
   "execution_count": 120,
   "id": "c7bebb13",
   "metadata": {},
   "outputs": [
    {
     "name": "stdout",
     "output_type": "stream",
     "text": [
      "True 0.574124243317157\n"
     ]
    }
   ],
   "source": [
    "csbm3 = cSBM(N=40, d=15, mu=1, l=2, p=100)\n",
    "G3 = nx.from_numpy_matrix(csbm3.A)\n",
    "print (nx.is_connected(G3), csbm3.phi)\n",
    "csbm3.generate_node_parameters()\n",
    "csbm3.generate_node_data(120, \"GC\")"
   ]
  },
  {
   "cell_type": "code",
   "execution_count": 140,
   "id": "07101962",
   "metadata": {},
   "outputs": [],
   "source": [
    "B = np.identity(40)/40 - np.ones((40,1))@np.ones((1,40))/(40**2)"
   ]
  },
  {
   "cell_type": "code",
   "execution_count": 141,
   "id": "5de83f6e",
   "metadata": {},
   "outputs": [],
   "source": [
    "L1 = np.array(nx.laplacian_matrix(G1).todense())\n",
    "L2 = np.array(nx.laplacian_matrix(G2).todense())\n",
    "L3 = np.array(nx.laplacian_matrix(G3).todense())"
   ]
  },
  {
   "cell_type": "code",
   "execution_count": 142,
   "id": "24b2b16f",
   "metadata": {},
   "outputs": [
    {
     "data": {
      "text/plain": [
       "0.8411162054440794"
      ]
     },
     "execution_count": 142,
     "metadata": {},
     "output_type": "execute_result"
    }
   ],
   "source": [
    "np.linalg.eigh(B@L1)[0].max()"
   ]
  },
  {
   "cell_type": "code",
   "execution_count": 143,
   "id": "39db091e",
   "metadata": {},
   "outputs": [
    {
     "data": {
      "text/plain": [
       "0.26833169506315313"
      ]
     },
     "execution_count": 143,
     "metadata": {},
     "output_type": "execute_result"
    }
   ],
   "source": [
    "np.linalg.eigh(B@L2)[0].max()"
   ]
  },
  {
   "cell_type": "code",
   "execution_count": 144,
   "id": "8978b645",
   "metadata": {},
   "outputs": [
    {
     "data": {
      "text/plain": [
       "0.5396689091255171"
      ]
     },
     "execution_count": 144,
     "metadata": {},
     "output_type": "execute_result"
    }
   ],
   "source": [
    "np.linalg.eigh(B@L3)[0].max()"
   ]
  },
  {
   "cell_type": "code",
   "execution_count": 145,
   "id": "4f342db4",
   "metadata": {},
   "outputs": [],
   "source": [
    "init_mlp = MLP(100, 64, 2, bias=False)"
   ]
  },
  {
   "cell_type": "code",
   "execution_count": 149,
   "id": "5604806a",
   "metadata": {
    "scrolled": true
   },
   "outputs": [
    {
     "name": "stdout",
     "output_type": "stream",
     "text": [
      "0\n",
      "1\n",
      "2\n",
      "3\n",
      "4\n",
      "5\n",
      "6\n",
      "7\n",
      "8\n",
      "9\n",
      "10\n",
      "11\n",
      "12\n",
      "13\n",
      "14\n",
      "15\n",
      "16\n",
      "17\n",
      "18\n",
      "19\n"
     ]
    }
   ],
   "source": [
    "test_acc1 = []\n",
    "for ith in range(20):\n",
    "    csbm1.generate_node_data(120, \"GC\")\n",
    "    A_tilde1 = calculate_Atilde(csbm1.A, K=10, alpha=0.9)\n",
    "    server1 = set_up_GC(csbm1.Xs, csbm1.ys, init_mlp, A_tilde1, n_train=10, n_val=10, improved=False)\n",
    "    tl, ta, vl, va = train_GC(server1, num_communication=150, batch_size=5, learning_rate=0.5, I=10,\n",
    "                              gradient=True, noise=False, \n",
    "                              Print=False, print_time=10)\n",
    "    test_acc1.append(server1.eval_test())\n",
    "    print (ith)"
   ]
  },
  {
   "cell_type": "code",
   "execution_count": 150,
   "id": "a1493238",
   "metadata": {
    "scrolled": true
   },
   "outputs": [
    {
     "name": "stdout",
     "output_type": "stream",
     "text": [
      "0\n",
      "1\n",
      "2\n",
      "3\n",
      "4\n",
      "5\n",
      "6\n",
      "7\n",
      "8\n",
      "9\n",
      "10\n",
      "11\n",
      "12\n",
      "13\n",
      "14\n",
      "15\n",
      "16\n",
      "17\n",
      "18\n",
      "19\n"
     ]
    }
   ],
   "source": [
    "test_acc2 = []\n",
    "for ith in range(20):\n",
    "    csbm2.generate_node_data(120, \"GC\")\n",
    "    A_tilde2 = calculate_Atilde(csbm2.A, K=10, alpha=0.9)\n",
    "    server2 = set_up_GC(csbm2.Xs, csbm2.ys, init_mlp, A_tilde2, n_train=10, n_val=10, improved=False)\n",
    "    tl2, ta2, vl2, va2 = train_GC(server2, num_communication=150, batch_size=5, learning_rate=0.5, I=10,\n",
    "                              gradient=True, noise=False, \n",
    "                              Print=False, print_time=10)\n",
    "    test_acc2.append(server2.eval_test())\n",
    "    print (ith)"
   ]
  },
  {
   "cell_type": "code",
   "execution_count": 151,
   "id": "98567a79",
   "metadata": {},
   "outputs": [
    {
     "name": "stdout",
     "output_type": "stream",
     "text": [
      "0\n",
      "1\n",
      "2\n",
      "3\n",
      "4\n",
      "5\n",
      "6\n",
      "7\n",
      "8\n",
      "9\n",
      "10\n",
      "11\n",
      "12\n",
      "13\n",
      "14\n",
      "15\n",
      "16\n",
      "17\n",
      "18\n",
      "19\n"
     ]
    }
   ],
   "source": [
    "test_acc3 = []\n",
    "for ith in range(20):\n",
    "    csbm3.generate_node_data(120, \"GC\")\n",
    "    A_tilde3 = calculate_Atilde(csbm3.A, K=10, alpha=0.9)\n",
    "    server3 = set_up_GC(csbm3.Xs, csbm3.ys, init_mlp, A_tilde3, n_train=10, n_val=10, improved=False)\n",
    "    tl2, ta2, vl2, va2 = train_GC(server3, num_communication=150, batch_size=5, learning_rate=0.5, I=10,\n",
    "                              gradient=True, noise=False, \n",
    "                              Print=False, print_time=10)\n",
    "    test_acc3.append(server3.eval_test())\n",
    "    print (ith)"
   ]
  },
  {
   "cell_type": "code",
   "execution_count": 158,
   "id": "46e7e8ae",
   "metadata": {},
   "outputs": [
    {
     "data": {
      "text/plain": [
       "array([[0.1589472 , 0.93925   ],\n",
       "       [0.15282577, 0.942     ],\n",
       "       [0.15053613, 0.942     ],\n",
       "       [0.16333588, 0.9345    ],\n",
       "       [0.16856886, 0.938     ],\n",
       "       [0.15396317, 0.942     ],\n",
       "       [0.15575414, 0.9365    ],\n",
       "       [0.15422784, 0.941     ],\n",
       "       [0.15938819, 0.941     ],\n",
       "       [0.16693176, 0.933     ],\n",
       "       [0.14352908, 0.94875   ],\n",
       "       [0.16766342, 0.9355    ],\n",
       "       [0.16659309, 0.93425   ],\n",
       "       [0.16662992, 0.93925   ],\n",
       "       [0.14450309, 0.94175   ],\n",
       "       [0.15609693, 0.94      ],\n",
       "       [0.14432127, 0.94775   ],\n",
       "       [0.15743623, 0.939     ],\n",
       "       [0.17258136, 0.931     ],\n",
       "       [0.16183076, 0.93875   ]])"
      ]
     },
     "execution_count": 158,
     "metadata": {},
     "output_type": "execute_result"
    }
   ],
   "source": [
    "np.array(test_acc1)[,]"
   ]
  },
  {
   "cell_type": "code",
   "execution_count": null,
   "id": "80d0f470",
   "metadata": {},
   "outputs": [],
   "source": [
    "print (np.std(test_accs1), np.std(test_accs3), np.std(test_accs2))"
   ]
  }
 ],
 "metadata": {
  "kernelspec": {
   "display_name": "Python 3 (ipykernel)",
   "language": "python",
   "name": "python3"
  },
  "language_info": {
   "codemirror_mode": {
    "name": "ipython",
    "version": 3
   },
   "file_extension": ".py",
   "mimetype": "text/x-python",
   "name": "python",
   "nbconvert_exporter": "python",
   "pygments_lexer": "ipython3",
   "version": "3.7.11"
  }
 },
 "nbformat": 4,
 "nbformat_minor": 5
}
