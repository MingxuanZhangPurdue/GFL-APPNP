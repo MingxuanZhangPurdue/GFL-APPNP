{
 "cells": [
  {
   "cell_type": "code",
   "execution_count": 1,
   "id": "09c08853",
   "metadata": {},
   "outputs": [],
   "source": [
    "import torch\n",
    "import numpy as np\n",
    "from utils.generate_csbm import *\n",
    "from utils.train import *\n",
    "from utils.utils import *\n",
    "from models.models import *\n",
    "from models.setup import *"
   ]
  },
  {
   "cell_type": "code",
   "execution_count": 2,
   "id": "6bdfd53f",
   "metadata": {},
   "outputs": [
    {
     "data": {
      "text/plain": [
       "4.125"
      ]
     },
     "execution_count": 2,
     "metadata": {},
     "output_type": "execute_result"
    }
   ],
   "source": [
    "csbm = cSBM(N=200, p=100, d=5, mu=0.5, l=2)\n",
    "csbm.generate_node_parameters()\n",
    "csbm.phi\n",
    "csbm.threshold"
   ]
  },
  {
   "cell_type": "code",
   "execution_count": 3,
   "id": "f37c3cf4",
   "metadata": {},
   "outputs": [],
   "source": [
    "csbm.generate_node_data(method=\"GC\", n_local=120)"
   ]
  },
  {
   "cell_type": "code",
   "execution_count": 4,
   "id": "1c984193",
   "metadata": {},
   "outputs": [],
   "source": [
    "A_tilde = calculate_Atilde(csbm.A, 10, 0.9)"
   ]
  },
  {
   "cell_type": "code",
   "execution_count": 5,
   "id": "ae4a8681",
   "metadata": {},
   "outputs": [
    {
     "data": {
      "text/plain": [
       "tensor([0, 0, 1, 1, 0, 1, 1, 0, 1, 1, 1, 1, 1, 0, 1, 0, 0, 1, 1, 1, 0, 0, 0, 1,\n",
       "        1, 1, 1, 1, 1, 1, 1, 1, 1, 0, 0, 1, 1, 1, 0, 0, 1, 1, 0, 1, 1, 1, 0, 0,\n",
       "        1, 0, 1, 1, 0, 1, 1, 1, 1, 1, 1, 1, 0, 1, 1, 0, 0, 0, 0, 0, 0, 1, 1, 0,\n",
       "        1, 0, 1, 1, 0, 1, 0, 1, 1, 1, 1, 1, 1, 0, 1, 0, 1, 1, 1, 1, 1, 1, 0, 0,\n",
       "        1, 1, 1, 1])"
      ]
     },
     "execution_count": 5,
     "metadata": {},
     "output_type": "execute_result"
    }
   ],
   "source": [
    "csbm.ys[0]"
   ]
  },
  {
   "cell_type": "code",
   "execution_count": 8,
   "id": "2f9a6be3",
   "metadata": {},
   "outputs": [
    {
     "name": "stdout",
     "output_type": "stream",
     "text": [
      "Communication: 1 Average train loss: 0.55567 Average train accuracy: 0.738 Average val loss: 0.56245 Average val accuracy: 0.720\n",
      "Communication: 2 Average train loss: 0.55468 Average train accuracy: 0.738 Average val loss: 0.56155 Average val accuracy: 0.720\n",
      "Communication: 3 Average train loss: 0.55373 Average train accuracy: 0.738 Average val loss: 0.56070 Average val accuracy: 0.720\n",
      "Communication: 4 Average train loss: 0.55278 Average train accuracy: 0.738 Average val loss: 0.55985 Average val accuracy: 0.720\n",
      "Communication: 5 Average train loss: 0.55186 Average train accuracy: 0.738 Average val loss: 0.55903 Average val accuracy: 0.720\n",
      "Communication: 6 Average train loss: 0.55098 Average train accuracy: 0.738 Average val loss: 0.55825 Average val accuracy: 0.720\n",
      "Communication: 7 Average train loss: 0.55011 Average train accuracy: 0.738 Average val loss: 0.55748 Average val accuracy: 0.720\n",
      "Communication: 8 Average train loss: 0.54926 Average train accuracy: 0.738 Average val loss: 0.55673 Average val accuracy: 0.720\n",
      "Communication: 9 Average train loss: 0.54842 Average train accuracy: 0.738 Average val loss: 0.55599 Average val accuracy: 0.720\n",
      "Communication: 10 Average train loss: 0.54761 Average train accuracy: 0.738 Average val loss: 0.55528 Average val accuracy: 0.720\n",
      "Communication: 11 Average train loss: 0.54683 Average train accuracy: 0.738 Average val loss: 0.55459 Average val accuracy: 0.720\n",
      "Communication: 12 Average train loss: 0.54607 Average train accuracy: 0.738 Average val loss: 0.55394 Average val accuracy: 0.720\n",
      "Communication: 13 Average train loss: 0.54533 Average train accuracy: 0.738 Average val loss: 0.55329 Average val accuracy: 0.720\n",
      "Communication: 14 Average train loss: 0.54460 Average train accuracy: 0.738 Average val loss: 0.55266 Average val accuracy: 0.720\n",
      "Communication: 15 Average train loss: 0.54390 Average train accuracy: 0.738 Average val loss: 0.55206 Average val accuracy: 0.720\n",
      "Communication: 16 Average train loss: 0.54321 Average train accuracy: 0.738 Average val loss: 0.55148 Average val accuracy: 0.719\n",
      "Communication: 17 Average train loss: 0.54254 Average train accuracy: 0.738 Average val loss: 0.55091 Average val accuracy: 0.719\n",
      "Communication: 18 Average train loss: 0.54189 Average train accuracy: 0.738 Average val loss: 0.55036 Average val accuracy: 0.719\n",
      "Communication: 19 Average train loss: 0.54126 Average train accuracy: 0.739 Average val loss: 0.54983 Average val accuracy: 0.719\n",
      "Communication: 20 Average train loss: 0.54063 Average train accuracy: 0.739 Average val loss: 0.54932 Average val accuracy: 0.719\n",
      "Communication: 21 Average train loss: 0.54003 Average train accuracy: 0.739 Average val loss: 0.54882 Average val accuracy: 0.719\n",
      "Communication: 22 Average train loss: 0.53945 Average train accuracy: 0.739 Average val loss: 0.54835 Average val accuracy: 0.719\n",
      "Communication: 23 Average train loss: 0.53889 Average train accuracy: 0.739 Average val loss: 0.54789 Average val accuracy: 0.719\n",
      "Communication: 24 Average train loss: 0.53834 Average train accuracy: 0.739 Average val loss: 0.54744 Average val accuracy: 0.719\n",
      "Communication: 25 Average train loss: 0.53781 Average train accuracy: 0.739 Average val loss: 0.54701 Average val accuracy: 0.719\n",
      "Communication: 26 Average train loss: 0.53729 Average train accuracy: 0.739 Average val loss: 0.54659 Average val accuracy: 0.720\n",
      "Communication: 27 Average train loss: 0.53679 Average train accuracy: 0.739 Average val loss: 0.54619 Average val accuracy: 0.719\n",
      "Communication: 28 Average train loss: 0.53630 Average train accuracy: 0.739 Average val loss: 0.54581 Average val accuracy: 0.719\n",
      "Communication: 29 Average train loss: 0.53582 Average train accuracy: 0.739 Average val loss: 0.54543 Average val accuracy: 0.719\n",
      "Communication: 30 Average train loss: 0.53536 Average train accuracy: 0.740 Average val loss: 0.54506 Average val accuracy: 0.719\n",
      "Communication: 31 Average train loss: 0.53491 Average train accuracy: 0.740 Average val loss: 0.54472 Average val accuracy: 0.719\n",
      "Communication: 32 Average train loss: 0.53447 Average train accuracy: 0.740 Average val loss: 0.54438 Average val accuracy: 0.719\n",
      "Communication: 33 Average train loss: 0.53405 Average train accuracy: 0.740 Average val loss: 0.54406 Average val accuracy: 0.720\n",
      "Communication: 34 Average train loss: 0.53364 Average train accuracy: 0.740 Average val loss: 0.54375 Average val accuracy: 0.719\n",
      "Communication: 35 Average train loss: 0.53323 Average train accuracy: 0.740 Average val loss: 0.54345 Average val accuracy: 0.719\n",
      "Communication: 36 Average train loss: 0.53285 Average train accuracy: 0.740 Average val loss: 0.54317 Average val accuracy: 0.719\n",
      "Communication: 37 Average train loss: 0.53247 Average train accuracy: 0.740 Average val loss: 0.54290 Average val accuracy: 0.719\n",
      "Communication: 38 Average train loss: 0.53210 Average train accuracy: 0.740 Average val loss: 0.54263 Average val accuracy: 0.719\n",
      "Communication: 39 Average train loss: 0.53175 Average train accuracy: 0.740 Average val loss: 0.54238 Average val accuracy: 0.719\n",
      "Communication: 40 Average train loss: 0.53141 Average train accuracy: 0.740 Average val loss: 0.54215 Average val accuracy: 0.719\n",
      "Communication: 41 Average train loss: 0.53107 Average train accuracy: 0.740 Average val loss: 0.54192 Average val accuracy: 0.719\n",
      "Communication: 42 Average train loss: 0.53076 Average train accuracy: 0.740 Average val loss: 0.54171 Average val accuracy: 0.720\n",
      "Communication: 43 Average train loss: 0.53043 Average train accuracy: 0.740 Average val loss: 0.54149 Average val accuracy: 0.720\n",
      "Communication: 44 Average train loss: 0.53013 Average train accuracy: 0.740 Average val loss: 0.54129 Average val accuracy: 0.720\n",
      "Communication: 45 Average train loss: 0.52982 Average train accuracy: 0.740 Average val loss: 0.54109 Average val accuracy: 0.720\n",
      "Communication: 46 Average train loss: 0.52953 Average train accuracy: 0.740 Average val loss: 0.54090 Average val accuracy: 0.720\n",
      "Communication: 47 Average train loss: 0.52925 Average train accuracy: 0.741 Average val loss: 0.54072 Average val accuracy: 0.720\n",
      "Communication: 48 Average train loss: 0.52897 Average train accuracy: 0.741 Average val loss: 0.54055 Average val accuracy: 0.719\n",
      "Communication: 49 Average train loss: 0.52871 Average train accuracy: 0.741 Average val loss: 0.54039 Average val accuracy: 0.720\n",
      "Communication: 50 Average train loss: 0.52845 Average train accuracy: 0.741 Average val loss: 0.54022 Average val accuracy: 0.720\n",
      "Communication: 51 Average train loss: 0.52820 Average train accuracy: 0.741 Average val loss: 0.54007 Average val accuracy: 0.720\n",
      "Communication: 52 Average train loss: 0.52796 Average train accuracy: 0.741 Average val loss: 0.53993 Average val accuracy: 0.720\n",
      "Communication: 53 Average train loss: 0.52772 Average train accuracy: 0.741 Average val loss: 0.53979 Average val accuracy: 0.720\n",
      "Communication: 54 Average train loss: 0.52749 Average train accuracy: 0.741 Average val loss: 0.53966 Average val accuracy: 0.720\n",
      "Communication: 55 Average train loss: 0.52726 Average train accuracy: 0.741 Average val loss: 0.53954 Average val accuracy: 0.720\n",
      "Communication: 56 Average train loss: 0.52704 Average train accuracy: 0.741 Average val loss: 0.53941 Average val accuracy: 0.720\n",
      "Communication: 57 Average train loss: 0.52683 Average train accuracy: 0.741 Average val loss: 0.53930 Average val accuracy: 0.720\n"
     ]
    },
    {
     "ename": "KeyboardInterrupt",
     "evalue": "",
     "output_type": "error",
     "traceback": [
      "\u001b[1;31m---------------------------------------------------------------------------\u001b[0m",
      "\u001b[1;31mKeyboardInterrupt\u001b[0m                         Traceback (most recent call last)",
      "\u001b[1;32mC:\\Users\\MINGXU~1\\AppData\\Local\\Temp/ipykernel_30068/3944331109.py\u001b[0m in \u001b[0;36m<module>\u001b[1;34m\u001b[0m\n\u001b[0;32m      3\u001b[0m                \u001b[0mbatch_size\u001b[0m\u001b[1;33m=\u001b[0m\u001b[1;36m40\u001b[0m\u001b[1;33m,\u001b[0m \u001b[0mlearning_rate\u001b[0m\u001b[1;33m=\u001b[0m\u001b[1;36m0.5\u001b[0m\u001b[1;33m,\u001b[0m \u001b[0mI\u001b[0m\u001b[1;33m=\u001b[0m\u001b[1;36m10\u001b[0m\u001b[1;33m,\u001b[0m\u001b[1;33m\u001b[0m\u001b[1;33m\u001b[0m\u001b[0m\n\u001b[0;32m      4\u001b[0m                \u001b[0mgradient\u001b[0m\u001b[1;33m=\u001b[0m\u001b[1;32mTrue\u001b[0m\u001b[1;33m,\u001b[0m \u001b[0mnoise\u001b[0m\u001b[1;33m=\u001b[0m\u001b[1;32mFalse\u001b[0m\u001b[1;33m,\u001b[0m\u001b[1;33m\u001b[0m\u001b[1;33m\u001b[0m\u001b[0m\n\u001b[1;32m----> 5\u001b[1;33m                Print=True)\n\u001b[0m",
      "\u001b[1;32m~\\Desktop\\GFL-APPNP\\utils\\train.py\u001b[0m in \u001b[0;36mtrain_GC\u001b[1;34m(server, num_communication, batch_size, learning_rate, I, gradient, noise, Print, checkpoint, tl, ta, vl, va)\u001b[0m\n\u001b[0;32m     65\u001b[0m     \u001b[1;32mfor\u001b[0m \u001b[0mith\u001b[0m \u001b[1;32min\u001b[0m \u001b[0mrange\u001b[0m\u001b[1;33m(\u001b[0m\u001b[0mnum_communication\u001b[0m\u001b[1;33m)\u001b[0m\u001b[1;33m:\u001b[0m\u001b[1;33m\u001b[0m\u001b[1;33m\u001b[0m\u001b[0m\n\u001b[0;32m     66\u001b[0m \u001b[1;33m\u001b[0m\u001b[0m\n\u001b[1;32m---> 67\u001b[1;33m         \u001b[0mtrain_loss\u001b[0m\u001b[1;33m,\u001b[0m \u001b[0mtrain_acc\u001b[0m\u001b[1;33m,\u001b[0m \u001b[0mval_loss\u001b[0m\u001b[1;33m,\u001b[0m \u001b[0mval_acc\u001b[0m \u001b[1;33m=\u001b[0m \u001b[0mserver\u001b[0m\u001b[1;33m.\u001b[0m\u001b[0mcommunication\u001b[0m\u001b[1;33m(\u001b[0m\u001b[0mbatch_size\u001b[0m\u001b[1;33m,\u001b[0m \u001b[0mlearning_rate\u001b[0m\u001b[1;33m,\u001b[0m \u001b[0mI\u001b[0m\u001b[1;33m,\u001b[0m \u001b[0mgradient\u001b[0m\u001b[1;33m,\u001b[0m \u001b[0mnoise\u001b[0m\u001b[1;33m)\u001b[0m\u001b[1;33m\u001b[0m\u001b[1;33m\u001b[0m\u001b[0m\n\u001b[0m\u001b[0;32m     68\u001b[0m \u001b[1;33m\u001b[0m\u001b[0m\n\u001b[0;32m     69\u001b[0m         \u001b[0mtrain_losses\u001b[0m\u001b[1;33m.\u001b[0m\u001b[0mappend\u001b[0m\u001b[1;33m(\u001b[0m\u001b[0mtrain_loss\u001b[0m\u001b[1;33m)\u001b[0m\u001b[1;33m\u001b[0m\u001b[1;33m\u001b[0m\u001b[0m\n",
      "\u001b[1;32m~\\Desktop\\GFL-APPNP\\models\\GFLAPPNP_GC.py\u001b[0m in \u001b[0;36mcommunication\u001b[1;34m(self, batch_size, learning_rate, I, gradient, noise)\u001b[0m\n\u001b[0;32m    245\u001b[0m                                            \u001b[0mbatch_size\u001b[0m\u001b[1;33m,\u001b[0m \u001b[0mlearning_rate\u001b[0m\u001b[1;33m,\u001b[0m\u001b[1;33m\u001b[0m\u001b[1;33m\u001b[0m\u001b[0m\n\u001b[0;32m    246\u001b[0m                                            \u001b[0mI\u001b[0m\u001b[1;33m,\u001b[0m\u001b[1;33m\u001b[0m\u001b[1;33m\u001b[0m\u001b[0m\n\u001b[1;32m--> 247\u001b[1;33m                                            gradient)\n\u001b[0m\u001b[0;32m    248\u001b[0m \u001b[1;33m\u001b[0m\u001b[0m\n\u001b[0;32m    249\u001b[0m         \u001b[0mself\u001b[0m\u001b[1;33m.\u001b[0m\u001b[0mmean_aggregation\u001b[0m\u001b[1;33m(\u001b[0m\u001b[1;33m)\u001b[0m\u001b[1;33m\u001b[0m\u001b[1;33m\u001b[0m\u001b[0m\n",
      "\u001b[1;32m~\\Desktop\\GFL-APPNP\\models\\GFLAPPNP_GC.py\u001b[0m in \u001b[0;36mlocal_update\u001b[1;34m(self, A_tilde_k_d, A_tilde_k_gd, C_k, dH, batch_size, learning_rate, I, gradient)\u001b[0m\n\u001b[0;32m    125\u001b[0m                             \u001b[0mp_grad\u001b[0m \u001b[1;33m=\u001b[0m \u001b[0mtorch\u001b[0m\u001b[1;33m.\u001b[0m\u001b[0meinsum\u001b[0m\u001b[1;33m(\u001b[0m\u001b[1;34m\"i,ibcd->ibcd\"\u001b[0m\u001b[1;33m,\u001b[0m \u001b[0mA_tilde_k_gd\u001b[0m\u001b[1;33m[\u001b[0m\u001b[0mself\u001b[0m\u001b[1;33m.\u001b[0m\u001b[0mids_mask\u001b[0m\u001b[1;33m]\u001b[0m\u001b[1;33m,\u001b[0m \u001b[0mdH\u001b[0m\u001b[1;33m[\u001b[0m\u001b[0mpname\u001b[0m\u001b[1;33m]\u001b[0m\u001b[1;33m[\u001b[0m\u001b[0mself\u001b[0m\u001b[1;33m.\u001b[0m\u001b[0mids_mask\u001b[0m\u001b[1;33m]\u001b[0m\u001b[1;33m)\u001b[0m\u001b[1;33m\u001b[0m\u001b[1;33m\u001b[0m\u001b[0m\n\u001b[0;32m    126\u001b[0m                             \u001b[0mp_grad\u001b[0m \u001b[1;33m=\u001b[0m \u001b[0mtorch\u001b[0m\u001b[1;33m.\u001b[0m\u001b[0meinsum\u001b[0m\u001b[1;33m(\u001b[0m\u001b[1;34m\"ab,cbef->ef\"\u001b[0m\u001b[1;33m,\u001b[0m \u001b[0mErrs\u001b[0m\u001b[1;33m,\u001b[0m \u001b[0mp_grad\u001b[0m\u001b[1;33m)\u001b[0m\u001b[1;33m/\u001b[0m\u001b[0mX\u001b[0m\u001b[1;33m.\u001b[0m\u001b[0mshape\u001b[0m\u001b[1;33m[\u001b[0m\u001b[1;36m0\u001b[0m\u001b[1;33m]\u001b[0m\u001b[1;33m\u001b[0m\u001b[1;33m\u001b[0m\u001b[0m\n\u001b[1;32m--> 127\u001b[1;33m                             \u001b[0mparam\u001b[0m\u001b[1;33m.\u001b[0m\u001b[0mgrad\u001b[0m\u001b[1;33m.\u001b[0m\u001b[0mdata\u001b[0m \u001b[1;33m+=\u001b[0m \u001b[0mp_grad\u001b[0m\u001b[1;33m.\u001b[0m\u001b[0mto\u001b[0m\u001b[1;33m(\u001b[0m\u001b[0mdevice\u001b[0m\u001b[1;33m)\u001b[0m\u001b[1;33m\u001b[0m\u001b[1;33m\u001b[0m\u001b[0m\n\u001b[0m\u001b[0;32m    128\u001b[0m \u001b[1;33m\u001b[0m\u001b[0m\n\u001b[0;32m    129\u001b[0m                 \u001b[1;32melse\u001b[0m\u001b[1;33m:\u001b[0m\u001b[1;33m\u001b[0m\u001b[1;33m\u001b[0m\u001b[0m\n",
      "\u001b[1;31mKeyboardInterrupt\u001b[0m: "
     ]
    }
   ],
   "source": [
    "#server = set_up_GC(csbm.Xs, csbm.ys, MLP(100,64,2,False), A_tilde, n_train=60, n_val=30)\n",
    "train_GC(server, num_communication=100, \n",
    "               batch_size=40, learning_rate=0.5, I=10,\n",
    "               gradient=True, noise=False,\n",
    "               Print=True)"
   ]
  },
  {
   "cell_type": "code",
   "execution_count": 10,
   "id": "3beb5f97",
   "metadata": {},
   "outputs": [],
   "source": [
    "server1 = set_up_MLP_GC(csbm.Xs, csbm.ys, MLP(100,64,2,False), n_train=60, n_val=30)"
   ]
  },
  {
   "cell_type": "code",
   "execution_count": 19,
   "id": "b2e36197",
   "metadata": {},
   "outputs": [
    {
     "name": "stdout",
     "output_type": "stream",
     "text": [
      "epoch: 0 Average train loss: 0.20598 Average train accuracy: 0.997 Average val loss: 0.63094 Average val accuracy: 0.661\n",
      "epoch: 1 Average train loss: 0.20531 Average train accuracy: 0.997 Average val loss: 0.63105 Average val accuracy: 0.661\n",
      "epoch: 2 Average train loss: 0.20463 Average train accuracy: 0.997 Average val loss: 0.63116 Average val accuracy: 0.662\n",
      "epoch: 3 Average train loss: 0.20395 Average train accuracy: 0.997 Average val loss: 0.63127 Average val accuracy: 0.661\n",
      "epoch: 4 Average train loss: 0.20329 Average train accuracy: 0.997 Average val loss: 0.63139 Average val accuracy: 0.661\n",
      "epoch: 5 Average train loss: 0.20262 Average train accuracy: 0.997 Average val loss: 0.63150 Average val accuracy: 0.662\n",
      "epoch: 6 Average train loss: 0.20195 Average train accuracy: 0.997 Average val loss: 0.63161 Average val accuracy: 0.662\n",
      "epoch: 7 Average train loss: 0.20128 Average train accuracy: 0.997 Average val loss: 0.63172 Average val accuracy: 0.662\n",
      "epoch: 8 Average train loss: 0.20062 Average train accuracy: 0.997 Average val loss: 0.63184 Average val accuracy: 0.662\n",
      "epoch: 9 Average train loss: 0.19996 Average train accuracy: 0.997 Average val loss: 0.63195 Average val accuracy: 0.662\n",
      "epoch: 10 Average train loss: 0.19930 Average train accuracy: 0.997 Average val loss: 0.63207 Average val accuracy: 0.661\n",
      "epoch: 11 Average train loss: 0.19864 Average train accuracy: 0.997 Average val loss: 0.63219 Average val accuracy: 0.662\n",
      "epoch: 12 Average train loss: 0.19799 Average train accuracy: 0.997 Average val loss: 0.63230 Average val accuracy: 0.661\n",
      "epoch: 13 Average train loss: 0.19734 Average train accuracy: 0.998 Average val loss: 0.63242 Average val accuracy: 0.661\n",
      "epoch: 14 Average train loss: 0.19669 Average train accuracy: 0.998 Average val loss: 0.63254 Average val accuracy: 0.661\n"
     ]
    },
    {
     "ename": "KeyboardInterrupt",
     "evalue": "",
     "output_type": "error",
     "traceback": [
      "\u001b[1;31m---------------------------------------------------------------------------\u001b[0m",
      "\u001b[1;31mKeyboardInterrupt\u001b[0m                         Traceback (most recent call last)",
      "\u001b[1;32mC:\\Users\\MINGXU~1\\AppData\\Local\\Temp/ipykernel_30068/1451566967.py\u001b[0m in \u001b[0;36m<module>\u001b[1;34m\u001b[0m\n\u001b[1;32m----> 1\u001b[1;33m \u001b[0mserver1\u001b[0m\u001b[1;33m.\u001b[0m\u001b[0mtrain_nodes\u001b[0m\u001b[1;33m(\u001b[0m\u001b[0mbatch_size\u001b[0m\u001b[1;33m=\u001b[0m\u001b[1;36m40\u001b[0m\u001b[1;33m,\u001b[0m \u001b[0mlearning_rate\u001b[0m\u001b[1;33m=\u001b[0m\u001b[1;36m0.01\u001b[0m\u001b[1;33m,\u001b[0m \u001b[0mnum_epoch\u001b[0m\u001b[1;33m=\u001b[0m\u001b[1;36m100\u001b[0m\u001b[1;33m,\u001b[0m \u001b[0mPrint\u001b[0m\u001b[1;33m=\u001b[0m\u001b[1;32mTrue\u001b[0m\u001b[1;33m)\u001b[0m\u001b[1;33m\u001b[0m\u001b[1;33m\u001b[0m\u001b[0m\n\u001b[0m",
      "\u001b[1;32m~\\Desktop\\GFL-APPNP\\models\\MLP_GC.py\u001b[0m in \u001b[0;36mtrain_nodes\u001b[1;34m(self, batch_size, learning_rate, num_epoch, Print)\u001b[0m\n\u001b[0;32m    105\u001b[0m             \u001b[1;32mfor\u001b[0m \u001b[0mk\u001b[0m \u001b[1;32min\u001b[0m \u001b[0mrange\u001b[0m\u001b[1;33m(\u001b[0m\u001b[0mself\u001b[0m\u001b[1;33m.\u001b[0m\u001b[0mN\u001b[0m\u001b[1;33m)\u001b[0m\u001b[1;33m:\u001b[0m\u001b[1;33m\u001b[0m\u001b[1;33m\u001b[0m\u001b[0m\n\u001b[0;32m    106\u001b[0m \u001b[1;33m\u001b[0m\u001b[0m\n\u001b[1;32m--> 107\u001b[1;33m                 \u001b[0mself\u001b[0m\u001b[1;33m.\u001b[0m\u001b[0mnode_list\u001b[0m\u001b[1;33m[\u001b[0m\u001b[0mk\u001b[0m\u001b[1;33m]\u001b[0m\u001b[1;33m.\u001b[0m\u001b[0mlocal_update\u001b[0m\u001b[1;33m(\u001b[0m\u001b[0mbatch_size\u001b[0m\u001b[1;33m,\u001b[0m \u001b[0mlearning_rate\u001b[0m\u001b[1;33m)\u001b[0m\u001b[1;33m\u001b[0m\u001b[1;33m\u001b[0m\u001b[0m\n\u001b[0m\u001b[0;32m    108\u001b[0m \u001b[1;33m\u001b[0m\u001b[0m\n\u001b[0;32m    109\u001b[0m             \u001b[0mtrain_loss\u001b[0m\u001b[1;33m,\u001b[0m \u001b[0mtrain_acc\u001b[0m\u001b[1;33m,\u001b[0m \u001b[0mval_loss\u001b[0m\u001b[1;33m,\u001b[0m \u001b[0mval_acc\u001b[0m \u001b[1;33m=\u001b[0m \u001b[0mself\u001b[0m\u001b[1;33m.\u001b[0m\u001b[0meval_train_val\u001b[0m\u001b[1;33m(\u001b[0m\u001b[1;33m)\u001b[0m\u001b[1;33m\u001b[0m\u001b[1;33m\u001b[0m\u001b[0m\n",
      "\u001b[1;32m~\\Desktop\\GFL-APPNP\\models\\MLP_GC.py\u001b[0m in \u001b[0;36mlocal_update\u001b[1;34m(self, batch_size, learning_rate)\u001b[0m\n\u001b[0;32m     51\u001b[0m         \u001b[1;32mfor\u001b[0m \u001b[0mX\u001b[0m\u001b[1;33m,\u001b[0m \u001b[0my\u001b[0m \u001b[1;32min\u001b[0m \u001b[0mself\u001b[0m\u001b[1;33m.\u001b[0m\u001b[0mtrain_dataloader\u001b[0m\u001b[1;33m:\u001b[0m\u001b[1;33m\u001b[0m\u001b[1;33m\u001b[0m\u001b[0m\n\u001b[0;32m     52\u001b[0m \u001b[1;33m\u001b[0m\u001b[0m\n\u001b[1;32m---> 53\u001b[1;33m             \u001b[0mself\u001b[0m\u001b[1;33m.\u001b[0m\u001b[0moptimizer\u001b[0m\u001b[1;33m.\u001b[0m\u001b[0mzero_grad\u001b[0m\u001b[1;33m(\u001b[0m\u001b[1;33m)\u001b[0m\u001b[1;33m\u001b[0m\u001b[1;33m\u001b[0m\u001b[0m\n\u001b[0m\u001b[0;32m     54\u001b[0m             \u001b[0mZ\u001b[0m \u001b[1;33m=\u001b[0m \u001b[0mself\u001b[0m\u001b[1;33m.\u001b[0m\u001b[0mmodel\u001b[0m\u001b[1;33m(\u001b[0m\u001b[0mX\u001b[0m\u001b[1;33m)\u001b[0m\u001b[1;33m\u001b[0m\u001b[1;33m\u001b[0m\u001b[0m\n\u001b[0;32m     55\u001b[0m             \u001b[0my_hat\u001b[0m \u001b[1;33m=\u001b[0m \u001b[0mF\u001b[0m\u001b[1;33m.\u001b[0m\u001b[0msoftmax\u001b[0m\u001b[1;33m(\u001b[0m\u001b[0mZ\u001b[0m\u001b[1;33m,\u001b[0m \u001b[0mdim\u001b[0m\u001b[1;33m=\u001b[0m\u001b[1;36m1\u001b[0m\u001b[1;33m)\u001b[0m\u001b[1;33m\u001b[0m\u001b[1;33m\u001b[0m\u001b[0m\n",
      "\u001b[1;32mD:\\Anaconda\\envs\\deeplearning\\lib\\site-packages\\torch\\optim\\optimizer.py\u001b[0m in \u001b[0;36mzero_grad\u001b[1;34m(self, set_to_none)\u001b[0m\n\u001b[0;32m    204\u001b[0m         \u001b[1;32mif\u001b[0m \u001b[1;32mnot\u001b[0m \u001b[0mhasattr\u001b[0m\u001b[1;33m(\u001b[0m\u001b[0mself\u001b[0m\u001b[1;33m,\u001b[0m \u001b[1;34m\"_zero_grad_profile_name\"\u001b[0m\u001b[1;33m)\u001b[0m\u001b[1;33m:\u001b[0m\u001b[1;33m\u001b[0m\u001b[1;33m\u001b[0m\u001b[0m\n\u001b[0;32m    205\u001b[0m             \u001b[0mself\u001b[0m\u001b[1;33m.\u001b[0m\u001b[0m_hook_for_profile\u001b[0m\u001b[1;33m(\u001b[0m\u001b[1;33m)\u001b[0m\u001b[1;33m\u001b[0m\u001b[1;33m\u001b[0m\u001b[0m\n\u001b[1;32m--> 206\u001b[1;33m         \u001b[1;32mwith\u001b[0m \u001b[0mtorch\u001b[0m\u001b[1;33m.\u001b[0m\u001b[0mautograd\u001b[0m\u001b[1;33m.\u001b[0m\u001b[0mprofiler\u001b[0m\u001b[1;33m.\u001b[0m\u001b[0mrecord_function\u001b[0m\u001b[1;33m(\u001b[0m\u001b[0mself\u001b[0m\u001b[1;33m.\u001b[0m\u001b[0m_zero_grad_profile_name\u001b[0m\u001b[1;33m)\u001b[0m\u001b[1;33m:\u001b[0m\u001b[1;33m\u001b[0m\u001b[1;33m\u001b[0m\u001b[0m\n\u001b[0m\u001b[0;32m    207\u001b[0m             \u001b[1;32mfor\u001b[0m \u001b[0mgroup\u001b[0m \u001b[1;32min\u001b[0m \u001b[0mself\u001b[0m\u001b[1;33m.\u001b[0m\u001b[0mparam_groups\u001b[0m\u001b[1;33m:\u001b[0m\u001b[1;33m\u001b[0m\u001b[1;33m\u001b[0m\u001b[0m\n\u001b[0;32m    208\u001b[0m                 \u001b[1;32mfor\u001b[0m \u001b[0mp\u001b[0m \u001b[1;32min\u001b[0m \u001b[0mgroup\u001b[0m\u001b[1;33m[\u001b[0m\u001b[1;34m'params'\u001b[0m\u001b[1;33m]\u001b[0m\u001b[1;33m:\u001b[0m\u001b[1;33m\u001b[0m\u001b[1;33m\u001b[0m\u001b[0m\n",
      "\u001b[1;32mD:\\Anaconda\\envs\\deeplearning\\lib\\site-packages\\torch\\autograd\\profiler.py\u001b[0m in \u001b[0;36m__init__\u001b[1;34m(self, name)\u001b[0m\n\u001b[0;32m    430\u001b[0m         \u001b[1;31m# Stores underlying RecordFunction as a tensor. TODO: move to custom\u001b[0m\u001b[1;33m\u001b[0m\u001b[1;33m\u001b[0m\u001b[1;33m\u001b[0m\u001b[0m\n\u001b[0;32m    431\u001b[0m         \u001b[1;31m# class (https://github.com/pytorch/pytorch/issues/35026).\u001b[0m\u001b[1;33m\u001b[0m\u001b[1;33m\u001b[0m\u001b[1;33m\u001b[0m\u001b[0m\n\u001b[1;32m--> 432\u001b[1;33m         \u001b[0mself\u001b[0m\u001b[1;33m.\u001b[0m\u001b[0mhandle\u001b[0m\u001b[1;33m:\u001b[0m \u001b[0mtorch\u001b[0m\u001b[1;33m.\u001b[0m\u001b[0mTensor\u001b[0m \u001b[1;33m=\u001b[0m \u001b[0mtorch\u001b[0m\u001b[1;33m.\u001b[0m\u001b[0mzeros\u001b[0m\u001b[1;33m(\u001b[0m\u001b[1;36m1\u001b[0m\u001b[1;33m)\u001b[0m\u001b[1;33m\u001b[0m\u001b[1;33m\u001b[0m\u001b[0m\n\u001b[0m\u001b[0;32m    433\u001b[0m \u001b[1;33m\u001b[0m\u001b[0m\n\u001b[0;32m    434\u001b[0m     \u001b[1;32mdef\u001b[0m \u001b[0m__enter__\u001b[0m\u001b[1;33m(\u001b[0m\u001b[0mself\u001b[0m\u001b[1;33m)\u001b[0m\u001b[1;33m:\u001b[0m\u001b[1;33m\u001b[0m\u001b[1;33m\u001b[0m\u001b[0m\n",
      "\u001b[1;31mKeyboardInterrupt\u001b[0m: "
     ]
    }
   ],
   "source": [
    "server1.train_nodes(batch_size=40, learning_rate=0.01, num_epoch=100, Print=True)"
   ]
  },
  {
   "cell_type": "code",
   "execution_count": null,
   "id": "ce90edc3",
   "metadata": {},
   "outputs": [],
   "source": []
  }
 ],
 "metadata": {
  "kernelspec": {
   "display_name": "Python 3 (ipykernel)",
   "language": "python",
   "name": "python3"
  },
  "language_info": {
   "codemirror_mode": {
    "name": "ipython",
    "version": 3
   },
   "file_extension": ".py",
   "mimetype": "text/x-python",
   "name": "python",
   "nbconvert_exporter": "python",
   "pygments_lexer": "ipython3",
   "version": "3.7.11"
  }
 },
 "nbformat": 4,
 "nbformat_minor": 5
}
