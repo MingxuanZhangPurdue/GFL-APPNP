{
 "cells": [
  {
   "cell_type": "code",
   "execution_count": 1,
   "id": "10f6a8e6",
   "metadata": {},
   "outputs": [],
   "source": [
    "import torch\n",
    "import numpy as np\n",
    "from utils.generate_csbm import *\n",
    "from utils.train import *\n",
    "from utils.utils import *\n",
    "from models.models import *\n",
    "from models.setup import *\n",
    "import networkx as nx\n",
    "import pickle"
   ]
  },
  {
   "cell_type": "code",
   "execution_count": 2,
   "id": "f434bd1a",
   "metadata": {},
   "outputs": [
    {
     "data": {
      "text/plain": [
       "0.8886112459769363"
      ]
     },
     "execution_count": 2,
     "metadata": {},
     "output_type": "execute_result"
    }
   ],
   "source": [
    "csbm = cSBM(N=200, p=100, d=5, mu=0.5, l=2)\n",
    "csbm.generate_node_parameters()\n",
    "csbm.phi"
   ]
  },
  {
   "cell_type": "code",
   "execution_count": 11,
   "id": "bf764f8b",
   "metadata": {},
   "outputs": [],
   "source": [
    "csbm.generate_node_data(method=\"SNC\", n_local=40)"
   ]
  },
  {
   "cell_type": "code",
   "execution_count": 6,
   "id": "9fc28ce9",
   "metadata": {},
   "outputs": [
    {
     "data": {
      "text/plain": [
       "0"
      ]
     },
     "execution_count": 6,
     "metadata": {},
     "output_type": "execute_result"
    }
   ],
   "source": [
    "ids = np.arange(200)\n",
    "np.random.shuffle(ids)\n",
    "train_ids = ids[0:20]\n",
    "csbm.v[train_ids].sum()"
   ]
  },
  {
   "cell_type": "code",
   "execution_count": 7,
   "id": "e65e5157",
   "metadata": {},
   "outputs": [],
   "source": [
    "train_ids\n",
    "val_ids = ids[20:40]\n",
    "test_ids = ids[40:]"
   ]
  },
  {
   "cell_type": "code",
   "execution_count": 62,
   "id": "a921e96c",
   "metadata": {},
   "outputs": [],
   "source": [
    "def exp_csbm(ith, method, folder_path, csbm, train_ids, val_ids, test_ids, \n",
    "             num_communication=100, batch_size=1,\n",
    "             learning_rate=0.01, I=10, gradient=True, noise=False,\n",
    "             Print=False, print_time=1,\n",
    "             resume=False,\n",
    "             bias=False,\n",
    "             save=True):\n",
    "    \n",
    "\n",
    "    torch.manual_seed(0)\n",
    "    init_mlp = MLP(csbm.Xs[0].shape[1], 64, 2, bias)\n",
    "        \n",
    "    if (gradient == False):\n",
    "        grad = \"no_grad/\"\n",
    "    elif (gradient == True and noise==False):\n",
    "        grad = \"biased_grad/\"\n",
    "    elif (gradient == True and noise==True):\n",
    "        grad = \"noisy_grad/\"\n",
    "      \n",
    "    A_tilde = calculate_Atilde(csbm.A, K=10, alpha=0.9)\n",
    "    server = set_up_NC(csbm.Xs, csbm.ys, init_mlp, A_tilde, train_ids, val_ids, test_ids)\n",
    "   \n",
    "        \n",
    "    tl, ta, vl, va = train_NC(server, num_communication, batch_size, learning_rate, I,\n",
    "                              gradient, noise, \n",
    "                              Print, print_time)\n",
    "    if save:    \n",
    "        np.save(folder_path + method + grad + \"I\" + str(I) + \"/tl_\" + str(ith), tl)\n",
    "        np.save(folder_path + method + grad + \"I\" + str(I) + \"/ta_\" + str(ith), ta)\n",
    "        np.save(folder_path + method + grad + \"I\" + str(I) + \"/vl_\" + str(ith), vl)\n",
    "        np.save(folder_path + method + grad + \"I\" + str(I) + \"/va_\" + str(ith), va)\n",
    "\n",
    "        PATH = folder_path + method + grad + \"I\" + str(I) + \"/model_\" + str(ith)\n",
    "        torch.save({\n",
    "                'best_model_state_dict': server.best_cmodel.state_dict(),\n",
    "                'learning_rate': learning_rate,\n",
    "                'test_acc': server.eval_test()[1],\n",
    "                'model_state_dict': server.cmodel.state_dict(),\n",
    "                'best_valloss': server.best_valloss,\n",
    "                'best_valacc': server.best_valacc,\n",
    "                }, PATH)"
   ]
  },
  {
   "cell_type": "code",
   "execution_count": 15,
   "id": "e9d25365",
   "metadata": {},
   "outputs": [],
   "source": [
    "init_mlp = MLP(csbm.Xs.shape[2], 64, 2, bias=False)"
   ]
  },
  {
   "cell_type": "code",
   "execution_count": 16,
   "id": "2cc6fc1f",
   "metadata": {},
   "outputs": [],
   "source": [
    "A_tilde = calculate_Atilde(csbm.A, K=10, alpha=0.9)\n",
    "server = set_up_NC(csbm.Xs, csbm.ys, init_mlp, A_tilde, train_ids, val_ids, test_ids)"
   ]
  },
  {
   "cell_type": "code",
   "execution_count": 17,
   "id": "e63c2947",
   "metadata": {},
   "outputs": [
    {
     "name": "stdout",
     "output_type": "stream",
     "text": [
      "Communication: 1 Average train loss: 0.69329 Average train accuracy: 0.500 Average val loss: 0.69419 Average val accuracy: 0.450\n",
      "Communication: 11 Average train loss: 0.69261 Average train accuracy: 0.500 Average val loss: 0.69337 Average val accuracy: 0.450\n",
      "Communication: 21 Average train loss: 0.69191 Average train accuracy: 0.504 Average val loss: 0.69256 Average val accuracy: 0.450\n",
      "Communication: 31 Average train loss: 0.69117 Average train accuracy: 0.615 Average val loss: 0.69174 Average val accuracy: 0.450\n",
      "Communication: 41 Average train loss: 0.69034 Average train accuracy: 0.829 Average val loss: 0.69086 Average val accuracy: 1.000\n",
      "Communication: 51 Average train loss: 0.68937 Average train accuracy: 0.894 Average val loss: 0.68987 Average val accuracy: 1.000\n",
      "Communication: 61 Average train loss: 0.68822 Average train accuracy: 0.876 Average val loss: 0.68873 Average val accuracy: 0.950\n",
      "Communication: 71 Average train loss: 0.68682 Average train accuracy: 0.849 Average val loss: 0.68738 Average val accuracy: 0.850\n",
      "Communication: 81 Average train loss: 0.68511 Average train accuracy: 0.839 Average val loss: 0.68576 Average val accuracy: 0.850\n",
      "Communication: 91 Average train loss: 0.68303 Average train accuracy: 0.831 Average val loss: 0.68381 Average val accuracy: 0.900\n",
      "Communication: 101 Average train loss: 0.68046 Average train accuracy: 0.844 Average val loss: 0.68143 Average val accuracy: 0.900\n",
      "Communication: 111 Average train loss: 0.67729 Average train accuracy: 0.855 Average val loss: 0.67852 Average val accuracy: 0.900\n",
      "Communication: 121 Average train loss: 0.67341 Average train accuracy: 0.874 Average val loss: 0.67497 Average val accuracy: 0.900\n",
      "Communication: 131 Average train loss: 0.66866 Average train accuracy: 0.891 Average val loss: 0.67064 Average val accuracy: 0.900\n",
      "Communication: 141 Average train loss: 0.66285 Average train accuracy: 0.907 Average val loss: 0.66536 Average val accuracy: 0.950\n",
      "Communication: 151 Average train loss: 0.65580 Average train accuracy: 0.916 Average val loss: 0.65896 Average val accuracy: 1.000\n",
      "Communication: 161 Average train loss: 0.64728 Average train accuracy: 0.926 Average val loss: 0.65125 Average val accuracy: 1.000\n",
      "Communication: 171 Average train loss: 0.63707 Average train accuracy: 0.939 Average val loss: 0.64203 Average val accuracy: 1.000\n",
      "Communication: 181 Average train loss: 0.62492 Average train accuracy: 0.949 Average val loss: 0.63108 Average val accuracy: 1.000\n",
      "Communication: 191 Average train loss: 0.61063 Average train accuracy: 0.957 Average val loss: 0.61822 Average val accuracy: 1.000\n",
      "Communication: 201 Average train loss: 0.59405 Average train accuracy: 0.966 Average val loss: 0.60332 Average val accuracy: 1.000\n",
      "Communication: 211 Average train loss: 0.57502 Average train accuracy: 0.968 Average val loss: 0.58627 Average val accuracy: 1.000\n",
      "Communication: 221 Average train loss: 0.55357 Average train accuracy: 0.971 Average val loss: 0.56710 Average val accuracy: 1.000\n",
      "Communication: 231 Average train loss: 0.52983 Average train accuracy: 0.974 Average val loss: 0.54593 Average val accuracy: 1.000\n",
      "Communication: 241 Average train loss: 0.50411 Average train accuracy: 0.980 Average val loss: 0.52302 Average val accuracy: 1.000\n",
      "Communication: 251 Average train loss: 0.47687 Average train accuracy: 0.981 Average val loss: 0.49880 Average val accuracy: 1.000\n",
      "Communication: 261 Average train loss: 0.44866 Average train accuracy: 0.980 Average val loss: 0.47373 Average val accuracy: 1.000\n",
      "Communication: 271 Average train loss: 0.42016 Average train accuracy: 0.981 Average val loss: 0.44840 Average val accuracy: 1.000\n",
      "Communication: 281 Average train loss: 0.39200 Average train accuracy: 0.980 Average val loss: 0.42337 Average val accuracy: 1.000\n",
      "Communication: 291 Average train loss: 0.36477 Average train accuracy: 0.984 Average val loss: 0.39914 Average val accuracy: 1.000\n",
      "Communication: 301 Average train loss: 0.33891 Average train accuracy: 0.984 Average val loss: 0.37611 Average val accuracy: 1.000\n",
      "Communication: 311 Average train loss: 0.31474 Average train accuracy: 0.984 Average val loss: 0.35457 Average val accuracy: 1.000\n",
      "Communication: 321 Average train loss: 0.29244 Average train accuracy: 0.985 Average val loss: 0.33467 Average val accuracy: 1.000\n",
      "Communication: 331 Average train loss: 0.27206 Average train accuracy: 0.985 Average val loss: 0.31648 Average val accuracy: 1.000\n",
      "Communication: 341 Average train loss: 0.25357 Average train accuracy: 0.984 Average val loss: 0.29997 Average val accuracy: 1.000\n",
      "Communication: 351 Average train loss: 0.23686 Average train accuracy: 0.984 Average val loss: 0.28506 Average val accuracy: 1.000\n",
      "Communication: 361 Average train loss: 0.22179 Average train accuracy: 0.984 Average val loss: 0.27163 Average val accuracy: 1.000\n",
      "Communication: 371 Average train loss: 0.20822 Average train accuracy: 0.986 Average val loss: 0.25957 Average val accuracy: 1.000\n",
      "Communication: 381 Average train loss: 0.19599 Average train accuracy: 0.986 Average val loss: 0.24874 Average val accuracy: 1.000\n",
      "Communication: 391 Average train loss: 0.18496 Average train accuracy: 0.986 Average val loss: 0.23900 Average val accuracy: 1.000\n",
      "Communication: 401 Average train loss: 0.17499 Average train accuracy: 0.988 Average val loss: 0.23025 Average val accuracy: 1.000\n",
      "Communication: 411 Average train loss: 0.16597 Average train accuracy: 0.988 Average val loss: 0.22236 Average val accuracy: 1.000\n",
      "Communication: 421 Average train loss: 0.15777 Average train accuracy: 0.988 Average val loss: 0.21525 Average val accuracy: 1.000\n",
      "Communication: 431 Average train loss: 0.15031 Average train accuracy: 0.988 Average val loss: 0.20881 Average val accuracy: 1.000\n",
      "Communication: 441 Average train loss: 0.14350 Average train accuracy: 0.988 Average val loss: 0.20299 Average val accuracy: 1.000\n",
      "Communication: 451 Average train loss: 0.13727 Average train accuracy: 0.988 Average val loss: 0.19769 Average val accuracy: 1.000\n",
      "Communication: 461 Average train loss: 0.13155 Average train accuracy: 0.989 Average val loss: 0.19288 Average val accuracy: 1.000\n",
      "Communication: 471 Average train loss: 0.12628 Average train accuracy: 0.989 Average val loss: 0.18849 Average val accuracy: 1.000\n",
      "Communication: 481 Average train loss: 0.12141 Average train accuracy: 0.989 Average val loss: 0.18449 Average val accuracy: 1.000\n",
      "Communication: 491 Average train loss: 0.11690 Average train accuracy: 0.989 Average val loss: 0.18081 Average val accuracy: 1.000\n"
     ]
    }
   ],
   "source": [
    "tl, ta, vl, va = train_NC(server, num_communication=500, batch_size=40, learning_rate=0.1, I=10,\n",
    "                          Print=True, print_time=10)"
   ]
  },
  {
   "cell_type": "code",
   "execution_count": null,
   "id": "214937d7",
   "metadata": {},
   "outputs": [],
   "source": [
    "server.eval_test()"
   ]
  }
 ],
 "metadata": {
  "kernelspec": {
   "display_name": "Python 3 (ipykernel)",
   "language": "python",
   "name": "python3"
  },
  "language_info": {
   "codemirror_mode": {
    "name": "ipython",
    "version": 3
   },
   "file_extension": ".py",
   "mimetype": "text/x-python",
   "name": "python",
   "nbconvert_exporter": "python",
   "pygments_lexer": "ipython3",
   "version": "3.7.11"
  }
 },
 "nbformat": 4,
 "nbformat_minor": 5
}
