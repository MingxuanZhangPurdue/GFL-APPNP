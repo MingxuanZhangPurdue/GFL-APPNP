{
 "cells": [
  {
   "cell_type": "code",
   "execution_count": 21,
   "id": "10f6a8e6",
   "metadata": {},
   "outputs": [],
   "source": [
    "import torch\n",
    "import numpy as np\n",
    "from utils.generate_csbm import *\n",
    "from utils.train_helpers import *\n",
    "from utils import generate_csbm\n",
    "from models.models import *\n",
    "from models.setup import *\n",
    "import networkx as nx\n",
    "import pickle"
   ]
  },
  {
   "cell_type": "code",
   "execution_count": 22,
   "id": "628d9d30",
   "metadata": {},
   "outputs": [],
   "source": [
    "train_ids = np.load(\"experiments/DNC/0.78phi/data/train_ids.npy\")\n",
    "val_ids = np.load(\"experiments/DNC/0.78phi/data/valid_ids.npy\")\n",
    "test_ids = np.load(\"experiments//DNC/0.78phi/data/test_ids.npy\")"
   ]
  },
  {
   "cell_type": "markdown",
   "id": "4b345a52",
   "metadata": {},
   "source": [
    "for ith in range(20):\n",
    "    csbm.generate_node_data(method=\"SNC\", n_local=40)\n",
    "    file_to_store = open(\"experiments/SNC/0.78phi/data/\"+\"csbm_\"+str(ith)+\".pickle\", \"wb\")\n",
    "    pickle.dump(csbm, file_to_store)\n",
    "    file_to_store.close()"
   ]
  },
  {
   "cell_type": "code",
   "execution_count": 23,
   "id": "a921e96c",
   "metadata": {},
   "outputs": [],
   "source": [
    "def exp_csbm(ith, method, folder_path, csbm, train_ids, val_ids, test_ids, \n",
    "             num_communication=100, batch_size=1,\n",
    "             learning_rate=0.2, I=10, gradient=True, noise=False,\n",
    "             Print=False, print_time=1,\n",
    "             resume=False,\n",
    "             bias=False,\n",
    "             save=True):\n",
    "    \n",
    "\n",
    "    init_mlp = MLP(csbm.Xs[0].shape[1], 64, 2, bias)\n",
    "        \n",
    "    if (gradient == False):\n",
    "        grad = \"no_grad/\"\n",
    "    elif (gradient == True and noise==False):\n",
    "        grad = \"biased_grad/\"\n",
    "    elif (gradient == True and noise==True):\n",
    "        grad = \"noisy_grad/\"\n",
    "      \n",
    "    A_tilde = calculate_Atilde(csbm.A, K=10, alpha=0.9)\n",
    "    server = set_up_NC(csbm.Xs, csbm.ys, init_mlp, A_tilde, train_ids, val_ids, test_ids)\n",
    "   \n",
    "        \n",
    "    tl, ta, vl, va = train_NC(server, num_communication, batch_size, learning_rate, I,\n",
    "                              gradient, noise, \n",
    "                              Print, print_time)\n",
    "    print (server.eval_test()[1])\n",
    "    if save:    \n",
    "        np.save(folder_path + method + grad + \"I\" + str(I) + \"/tl_\" + str(ith), tl)\n",
    "        np.save(folder_path + method + grad + \"I\" + str(I) + \"/ta_\" + str(ith), ta)\n",
    "        np.save(folder_path + method + grad + \"I\" + str(I) + \"/vl_\" + str(ith), vl)\n",
    "        np.save(folder_path + method + grad + \"I\" + str(I) + \"/va_\" + str(ith), va)\n",
    "\n",
    "        PATH = folder_path + method + grad + \"I\" + str(I) + \"/model_\" + str(ith)\n",
    "        torch.save({\n",
    "                'best_model_state_dict': server.best_cmodel.state_dict(),\n",
    "                'learning_rate': learning_rate,\n",
    "                'test_acc': server.eval_test()[1],\n",
    "                'model_state_dict': server.cmodel.state_dict(),\n",
    "                'best_valloss': server.best_valloss,\n",
    "                'best_valacc': server.best_valacc,\n",
    "                }, PATH)"
   ]
  },
  {
   "cell_type": "code",
   "execution_count": 33,
   "id": "a69146d5",
   "metadata": {},
   "outputs": [
    {
     "ename": "ModuleNotFoundError",
     "evalue": "No module named 'generate_csbm'",
     "output_type": "error",
     "traceback": [
      "\u001b[0;31m---------------------------------------------------------------------------\u001b[0m",
      "\u001b[0;31mModuleNotFoundError\u001b[0m                       Traceback (most recent call last)",
      "Input \u001b[0;32mIn [33]\u001b[0m, in \u001b[0;36m<cell line: 1>\u001b[0;34m()\u001b[0m\n\u001b[1;32m      2\u001b[0m I\u001b[38;5;241m=\u001b[39m\u001b[38;5;241m10\u001b[39m\n\u001b[1;32m      3\u001b[0m file_to_open\u001b[38;5;241m=\u001b[39m \u001b[38;5;28mopen\u001b[39m(\u001b[38;5;124m\"\u001b[39m\u001b[38;5;124mexperiments/DNC/0.78phi/data/\u001b[39m\u001b[38;5;124m\"\u001b[39m\u001b[38;5;241m+\u001b[39m\u001b[38;5;124m\"\u001b[39m\u001b[38;5;124mcsbm_\u001b[39m\u001b[38;5;124m\"\u001b[39m\u001b[38;5;241m+\u001b[39m\u001b[38;5;28mstr\u001b[39m(ith)\u001b[38;5;241m+\u001b[39m\u001b[38;5;124m\"\u001b[39m\u001b[38;5;124m.pickle\u001b[39m\u001b[38;5;124m\"\u001b[39m, \u001b[38;5;124m\"\u001b[39m\u001b[38;5;124mrb\u001b[39m\u001b[38;5;124m\"\u001b[39m)\n\u001b[0;32m----> 4\u001b[0m csbm \u001b[38;5;241m=\u001b[39m \u001b[43mpickle\u001b[49m\u001b[38;5;241;43m.\u001b[39;49m\u001b[43mload\u001b[49m\u001b[43m(\u001b[49m\u001b[43mfile_to_open\u001b[49m\u001b[43m)\u001b[49m\n\u001b[1;32m      5\u001b[0m file_to_open\u001b[38;5;241m.\u001b[39mclose()\n\u001b[1;32m      6\u001b[0m nc \u001b[38;5;241m=\u001b[39m \u001b[38;5;28mint\u001b[39m(\u001b[38;5;241m1000\u001b[39m\u001b[38;5;241m/\u001b[39mI)\n",
      "\u001b[0;31mModuleNotFoundError\u001b[0m: No module named 'generate_csbm'"
     ]
    }
   ],
   "source": [
    "for ith in range(20):\n",
    "    I=10\n",
    "    file_to_open= open(\"experiments/DNC/0.78phi/data/\"+\"csbm_\"+str(ith)+\".pickle\", \"rb\")\n",
    "    csbm = pickle.load(file_to_open)\n",
    "    file_to_open.close()\n",
    "    nc = int(1000/I)\n",
    "    init_mlp = MLP(csbm.Xs[0].shape[1], 64, 2, bias)\n",
    "    A_tilde = calculate_Atilde(csbm.A, K=10, alpha=0.9)\n",
    "    server = set_up_NC(csbm.Xs, csbm.ys, init_mlp, A_tilde, train_ids, val_ids, test_ids)\n",
    "    tl, ta, vl, va = train_NC(server, nc, 1, 0.2, I, True, 5)\n",
    "    print (ith, I)"
   ]
  },
  {
   "cell_type": "code",
   "execution_count": 25,
   "id": "debff302",
   "metadata": {},
   "outputs": [
    {
     "ename": "NameError",
     "evalue": "name 'csbm' is not defined",
     "output_type": "error",
     "traceback": [
      "\u001b[0;31m---------------------------------------------------------------------------\u001b[0m",
      "\u001b[0;31mNameError\u001b[0m                                 Traceback (most recent call last)",
      "Input \u001b[0;32mIn [25]\u001b[0m, in \u001b[0;36m<cell line: 1>\u001b[0;34m()\u001b[0m\n\u001b[0;32m----> 1\u001b[0m init_mlp \u001b[38;5;241m=\u001b[39m MLP(\u001b[43mcsbm\u001b[49m\u001b[38;5;241m.\u001b[39mXs[\u001b[38;5;241m0\u001b[39m]\u001b[38;5;241m.\u001b[39mshape[\u001b[38;5;241m1\u001b[39m], \u001b[38;5;241m64\u001b[39m, \u001b[38;5;241m2\u001b[39m, bias)\n\u001b[1;32m      3\u001b[0m A_tilde \u001b[38;5;241m=\u001b[39m calculate_Atilde(csbm\u001b[38;5;241m.\u001b[39mA, K\u001b[38;5;241m=\u001b[39m\u001b[38;5;241m10\u001b[39m, alpha\u001b[38;5;241m=\u001b[39m\u001b[38;5;241m0.9\u001b[39m)\n\u001b[1;32m      4\u001b[0m server \u001b[38;5;241m=\u001b[39m set_up_NC(csbm\u001b[38;5;241m.\u001b[39mXs, csbm\u001b[38;5;241m.\u001b[39mys, init_mlp, A_tilde, train_ids, val_ids, test_ids)\n",
      "\u001b[0;31mNameError\u001b[0m: name 'csbm' is not defined"
     ]
    }
   ],
   "source": [
    "init_mlp = MLP(csbm.Xs[0].shape[1], 64, 2, bias)\n",
    "\n",
    "A_tilde = calculate_Atilde(csbm.A, K=10, alpha=0.9)\n",
    "server = set_up_NC(csbm.Xs, csbm.ys, init_mlp, A_tilde, train_ids, val_ids, test_ids)\n",
    "\n",
    "\n",
    "tl, ta, vl, va = train_NC(server, num_communication, batch_size, learning_rate, I,\n",
    "                          gradient, noise, \n",
    "                          Print, print_time)"
   ]
  },
  {
   "cell_type": "code",
   "execution_count": 7,
   "id": "8aaf9626",
   "metadata": {},
   "outputs": [
    {
     "ename": "FileNotFoundError",
     "evalue": "[Errno 2] No such file or directory: 'experiments/SNC/0.78phi/result/NC/biased_grad/I50/model_10'",
     "output_type": "error",
     "traceback": [
      "\u001b[0;31m---------------------------------------------------------------------------\u001b[0m",
      "\u001b[0;31mFileNotFoundError\u001b[0m                         Traceback (most recent call last)",
      "Input \u001b[0;32mIn [7]\u001b[0m, in \u001b[0;36m<cell line: 1>\u001b[0;34m()\u001b[0m\n\u001b[0;32m----> 1\u001b[0m \u001b[43mtorch\u001b[49m\u001b[38;5;241;43m.\u001b[39;49m\u001b[43mload\u001b[49m\u001b[43m(\u001b[49m\u001b[38;5;124;43m\"\u001b[39;49m\u001b[38;5;124;43mexperiments/SNC/0.78phi/result/NC/biased_grad/I50/model_10\u001b[39;49m\u001b[38;5;124;43m\"\u001b[39;49m\u001b[43m,\u001b[49m\n\u001b[1;32m      2\u001b[0m \u001b[43m            \u001b[49m\u001b[43mmap_location\u001b[49m\u001b[38;5;241;43m=\u001b[39;49m\u001b[43mtorch\u001b[49m\u001b[38;5;241;43m.\u001b[39;49m\u001b[43mdevice\u001b[49m\u001b[43m(\u001b[49m\u001b[38;5;124;43m'\u001b[39;49m\u001b[38;5;124;43mcpu\u001b[39;49m\u001b[38;5;124;43m'\u001b[39;49m\u001b[43m)\u001b[49m\u001b[43m)\u001b[49m[\u001b[38;5;124m\"\u001b[39m\u001b[38;5;124mtest_acc\u001b[39m\u001b[38;5;124m\"\u001b[39m]\n",
      "File \u001b[0;32m~/dl/lib/python3.8/site-packages/torch/serialization.py:699\u001b[0m, in \u001b[0;36mload\u001b[0;34m(f, map_location, pickle_module, **pickle_load_args)\u001b[0m\n\u001b[1;32m    696\u001b[0m \u001b[38;5;28;01mif\u001b[39;00m \u001b[38;5;124m'\u001b[39m\u001b[38;5;124mencoding\u001b[39m\u001b[38;5;124m'\u001b[39m \u001b[38;5;129;01mnot\u001b[39;00m \u001b[38;5;129;01min\u001b[39;00m pickle_load_args\u001b[38;5;241m.\u001b[39mkeys():\n\u001b[1;32m    697\u001b[0m     pickle_load_args[\u001b[38;5;124m'\u001b[39m\u001b[38;5;124mencoding\u001b[39m\u001b[38;5;124m'\u001b[39m] \u001b[38;5;241m=\u001b[39m \u001b[38;5;124m'\u001b[39m\u001b[38;5;124mutf-8\u001b[39m\u001b[38;5;124m'\u001b[39m\n\u001b[0;32m--> 699\u001b[0m \u001b[38;5;28;01mwith\u001b[39;00m \u001b[43m_open_file_like\u001b[49m\u001b[43m(\u001b[49m\u001b[43mf\u001b[49m\u001b[43m,\u001b[49m\u001b[43m \u001b[49m\u001b[38;5;124;43m'\u001b[39;49m\u001b[38;5;124;43mrb\u001b[39;49m\u001b[38;5;124;43m'\u001b[39;49m\u001b[43m)\u001b[49m \u001b[38;5;28;01mas\u001b[39;00m opened_file:\n\u001b[1;32m    700\u001b[0m     \u001b[38;5;28;01mif\u001b[39;00m _is_zipfile(opened_file):\n\u001b[1;32m    701\u001b[0m         \u001b[38;5;66;03m# The zipfile reader is going to advance the current file position.\u001b[39;00m\n\u001b[1;32m    702\u001b[0m         \u001b[38;5;66;03m# If we want to actually tail call to torch.jit.load, we need to\u001b[39;00m\n\u001b[1;32m    703\u001b[0m         \u001b[38;5;66;03m# reset back to the original position.\u001b[39;00m\n\u001b[1;32m    704\u001b[0m         orig_position \u001b[38;5;241m=\u001b[39m opened_file\u001b[38;5;241m.\u001b[39mtell()\n",
      "File \u001b[0;32m~/dl/lib/python3.8/site-packages/torch/serialization.py:230\u001b[0m, in \u001b[0;36m_open_file_like\u001b[0;34m(name_or_buffer, mode)\u001b[0m\n\u001b[1;32m    228\u001b[0m \u001b[38;5;28;01mdef\u001b[39;00m \u001b[38;5;21m_open_file_like\u001b[39m(name_or_buffer, mode):\n\u001b[1;32m    229\u001b[0m     \u001b[38;5;28;01mif\u001b[39;00m _is_path(name_or_buffer):\n\u001b[0;32m--> 230\u001b[0m         \u001b[38;5;28;01mreturn\u001b[39;00m \u001b[43m_open_file\u001b[49m\u001b[43m(\u001b[49m\u001b[43mname_or_buffer\u001b[49m\u001b[43m,\u001b[49m\u001b[43m \u001b[49m\u001b[43mmode\u001b[49m\u001b[43m)\u001b[49m\n\u001b[1;32m    231\u001b[0m     \u001b[38;5;28;01melse\u001b[39;00m:\n\u001b[1;32m    232\u001b[0m         \u001b[38;5;28;01mif\u001b[39;00m \u001b[38;5;124m'\u001b[39m\u001b[38;5;124mw\u001b[39m\u001b[38;5;124m'\u001b[39m \u001b[38;5;129;01min\u001b[39;00m mode:\n",
      "File \u001b[0;32m~/dl/lib/python3.8/site-packages/torch/serialization.py:211\u001b[0m, in \u001b[0;36m_open_file.__init__\u001b[0;34m(self, name, mode)\u001b[0m\n\u001b[1;32m    210\u001b[0m \u001b[38;5;28;01mdef\u001b[39;00m \u001b[38;5;21m__init__\u001b[39m(\u001b[38;5;28mself\u001b[39m, name, mode):\n\u001b[0;32m--> 211\u001b[0m     \u001b[38;5;28msuper\u001b[39m(_open_file, \u001b[38;5;28mself\u001b[39m)\u001b[38;5;241m.\u001b[39m\u001b[38;5;21m__init__\u001b[39m(\u001b[38;5;28;43mopen\u001b[39;49m\u001b[43m(\u001b[49m\u001b[43mname\u001b[49m\u001b[43m,\u001b[49m\u001b[43m \u001b[49m\u001b[43mmode\u001b[49m\u001b[43m)\u001b[49m)\n",
      "\u001b[0;31mFileNotFoundError\u001b[0m: [Errno 2] No such file or directory: 'experiments/SNC/0.78phi/result/NC/biased_grad/I50/model_10'"
     ]
    }
   ],
   "source": [
    "torch.load(\"experiments/SNC/0.78phi/result/NC/biased_grad/I50/model_10\",\n",
    "            map_location=torch.device('cpu'))[\"test_acc\"]"
   ]
  },
  {
   "cell_type": "code",
   "execution_count": null,
   "id": "39e006c3",
   "metadata": {},
   "outputs": [],
   "source": [
    "for ith in range(20):\n",
    "    for I in [10, 20, 50]:\n",
    "        file_to_open= open(\"experiments/SNC/0.78phi/data/\"+\"csbm_\"+str(ith)+\".pickle\", \"rb\")\n",
    "        csbm = pickle.load(file_to_open)\n",
    "        file_to_open.close()\n",
    "        nc = int(5000/I)\n",
    "        exp_csbm(ith, \"NC/\", \"experiments/SNC/0.78phi/result/\", csbm, train_ids, val_ids, test_ids, \n",
    "             num_communication=nc, batch_size=40,\n",
    "             learning_rate=0.2, I=I, gradient=True, noise=False,\n",
    "             Print=False, print_time=10,\n",
    "             resume=False,\n",
    "             bias=False,\n",
    "             save=True)\n",
    "        print (ith, I)"
   ]
  },
  {
   "cell_type": "code",
   "execution_count": 8,
   "id": "a01a256d",
   "metadata": {},
   "outputs": [
    {
     "ename": "NameError",
     "evalue": "name 'read_result' is not defined",
     "output_type": "error",
     "traceback": [
      "\u001b[0;31m---------------------------------------------------------------------------\u001b[0m",
      "\u001b[0;31mNameError\u001b[0m                                 Traceback (most recent call last)",
      "Input \u001b[0;32mIn [8]\u001b[0m, in \u001b[0;36m<cell line: 9>\u001b[0;34m()\u001b[0m\n\u001b[1;32m     17\u001b[0m \u001b[38;5;28;01melif\u001b[39;00m grad \u001b[38;5;241m==\u001b[39m \u001b[38;5;124m\"\u001b[39m\u001b[38;5;124mnoisy_grad/\u001b[39m\u001b[38;5;124m\"\u001b[39m:\n\u001b[1;32m     18\u001b[0m     grad_name \u001b[38;5;241m=\u001b[39m \u001b[38;5;124m\"\u001b[39m\u001b[38;5;124mNoisy Gradient Compensation\u001b[39m\u001b[38;5;124m\"\u001b[39m\n\u001b[0;32m---> 19\u001b[0m tls, tas, vls, vas, test_accs, steps \u001b[38;5;241m=\u001b[39m \u001b[43mread_result\u001b[49m(exps, \u001b[38;5;124m\"\u001b[39m\u001b[38;5;124mNC/\u001b[39m\u001b[38;5;124m\"\u001b[39m, folders[i], I, grad)\n\u001b[1;32m     20\u001b[0m \u001b[38;5;28mprint\u001b[39m (test_accs)\n\u001b[1;32m     21\u001b[0m testacc_means\u001b[38;5;241m.\u001b[39mappend(np\u001b[38;5;241m.\u001b[39mmean(test_accs))\n",
      "\u001b[0;31mNameError\u001b[0m: name 'read_result' is not defined"
     ]
    }
   ],
   "source": [
    "folders = [\"experiments/SNC/0.78phi/result/\"]\n",
    "mcora = [\"10 no_grad/\",  \"20 no_grad/\",  \"50 no_grad/\"]\n",
    "ms = [mcora]\n",
    "exps = np.arange(20)\n",
    "testacc_means = []\n",
    "names = []\n",
    "testacc_stds = []\n",
    "\n",
    "for i in range(len(folders)):\n",
    "    for m in ms[i]:\n",
    "        I, grad = m.split(\" \")\n",
    "        I = int(I)\n",
    "        if grad == \"no_grad/\":\n",
    "            grad_name = \"No Compensation\"\n",
    "        elif grad == \"biased_grad/\":\n",
    "            grad_name = \"Gradient Compensation\"\n",
    "        elif grad == \"noisy_grad/\":\n",
    "            grad_name = \"Noisy Gradient Compensation\"\n",
    "        tls, tas, vls, vas, test_accs, steps = read_result(exps, \"NC/\", folders[i], I, grad)\n",
    "        print (test_accs)\n",
    "        testacc_means.append(np.mean(test_accs))\n",
    "        testacc_stds.append(np.std(test_accs))\n",
    "        names.append(grad_name+str(I))"
   ]
  },
  {
   "cell_type": "code",
   "execution_count": 83,
   "id": "54a83d8b",
   "metadata": {},
   "outputs": [
    {
     "data": {
      "text/plain": [
       "[<matplotlib.lines.Line2D at 0x27f33f36c08>]"
      ]
     },
     "execution_count": 83,
     "metadata": {},
     "output_type": "execute_result"
    },
    {
     "data": {
      "image/png": "[encoded data removed]",
      "text/plain": [
       "<Figure size 432x288 with 1 Axes>"
      ]
     },
     "metadata": {
      "needs_background": "light"
     },
     "output_type": "display_data"
    }
   ],
   "source": [
    "plt.plot(vls[16])"
   ]
  },
  {
   "cell_type": "code",
   "execution_count": 93,
   "id": "1c93433a",
   "metadata": {},
   "outputs": [
    {
     "name": "stdout",
     "output_type": "stream",
     "text": [
      "Communication: 1 Average train loss: 0.69160 Average train accuracy: 0.665 Average val loss: 0.69376 Average val accuracy: 0.350\n",
      "Communication: 51 Average train loss: 0.23445 Average train accuracy: 0.958 Average val loss: 0.43074 Average val accuracy: 0.950\n",
      "0.99375\n",
      "0 50\n",
      "Communication: 1 Average train loss: 0.68604 Average train accuracy: 0.650 Average val loss: 0.70032 Average val accuracy: 0.350\n",
      "Communication: 51 Average train loss: 0.25718 Average train accuracy: 0.939 Average val loss: 0.48207 Average val accuracy: 0.800\n",
      "0.96875\n",
      "1 50\n",
      "Communication: 1 Average train loss: 0.68811 Average train accuracy: 0.650 Average val loss: 0.69811 Average val accuracy: 0.350\n",
      "Communication: 51 Average train loss: 0.28327 Average train accuracy: 0.934 Average val loss: 0.50285 Average val accuracy: 0.800\n",
      "0.95\n",
      "2 50\n",
      "Communication: 1 Average train loss: 0.68853 Average train accuracy: 0.650 Average val loss: 0.69706 Average val accuracy: 0.350\n",
      "Communication: 51 Average train loss: 0.22926 Average train accuracy: 0.959 Average val loss: 0.45727 Average val accuracy: 0.850\n",
      "0.9625\n",
      "3 50\n",
      "Communication: 1 Average train loss: 0.69016 Average train accuracy: 0.650 Average val loss: 0.69538 Average val accuracy: 0.350\n",
      "Communication: 51 Average train loss: 0.21050 Average train accuracy: 0.970 Average val loss: 0.41681 Average val accuracy: 0.950\n",
      "0.98125\n",
      "4 50\n",
      "Communication: 1 Average train loss: 0.68800 Average train accuracy: 0.650 Average val loss: 0.69853 Average val accuracy: 0.350\n",
      "Communication: 51 Average train loss: 0.27083 Average train accuracy: 0.936 Average val loss: 0.51357 Average val accuracy: 0.800\n",
      "0.98125\n",
      "5 50\n",
      "Communication: 1 Average train loss: 0.68833 Average train accuracy: 0.650 Average val loss: 0.69820 Average val accuracy: 0.350\n",
      "Communication: 51 Average train loss: 0.35320 Average train accuracy: 0.860 Average val loss: 0.59562 Average val accuracy: 0.600\n",
      "0.975\n",
      "6 50\n",
      "Communication: 1 Average train loss: 0.69052 Average train accuracy: 0.650 Average val loss: 0.69551 Average val accuracy: 0.350\n",
      "Communication: 51 Average train loss: 0.23401 Average train accuracy: 0.961 Average val loss: 0.46443 Average val accuracy: 0.850\n",
      "0.98125\n",
      "7 50\n",
      "Communication: 1 Average train loss: 0.69126 Average train accuracy: 0.667 Average val loss: 0.69396 Average val accuracy: 0.350\n",
      "Communication: 51 Average train loss: 0.24465 Average train accuracy: 0.948 Average val loss: 0.47909 Average val accuracy: 0.850\n",
      "0.95625\n",
      "8 50\n",
      "Communication: 1 Average train loss: 0.68762 Average train accuracy: 0.650 Average val loss: 0.69944 Average val accuracy: 0.350\n",
      "Communication: 51 Average train loss: 0.25376 Average train accuracy: 0.933 Average val loss: 0.47762 Average val accuracy: 0.850\n",
      "0.95625\n",
      "9 50\n",
      "Communication: 1 Average train loss: 0.69226 Average train accuracy: 0.655 Average val loss: 0.69345 Average val accuracy: 0.350\n",
      "Communication: 51 Average train loss: 0.26749 Average train accuracy: 0.941 Average val loss: 0.49530 Average val accuracy: 0.850\n",
      "0.9875\n",
      "10 50\n",
      "Communication: 1 Average train loss: 0.68948 Average train accuracy: 0.650 Average val loss: 0.69695 Average val accuracy: 0.350\n",
      "Communication: 51 Average train loss: 0.24505 Average train accuracy: 0.955 Average val loss: 0.46820 Average val accuracy: 0.900\n",
      "0.98125\n",
      "11 50\n",
      "Communication: 1 Average train loss: 0.68671 Average train accuracy: 0.650 Average val loss: 0.69830 Average val accuracy: 0.350\n",
      "Communication: 51 Average train loss: 0.26058 Average train accuracy: 0.956 Average val loss: 0.46173 Average val accuracy: 0.900\n",
      "0.99375\n",
      "12 50\n",
      "Communication: 1 Average train loss: 0.68828 Average train accuracy: 0.650 Average val loss: 0.69878 Average val accuracy: 0.350\n",
      "Communication: 51 Average train loss: 0.30271 Average train accuracy: 0.906 Average val loss: 0.53083 Average val accuracy: 0.650\n",
      "0.96875\n",
      "13 50\n",
      "Communication: 1 Average train loss: 0.69137 Average train accuracy: 0.653 Average val loss: 0.69439 Average val accuracy: 0.350\n",
      "Communication: 51 Average train loss: 0.26713 Average train accuracy: 0.941 Average val loss: 0.49019 Average val accuracy: 0.850\n",
      "0.96875\n",
      "14 50\n",
      "Communication: 1 Average train loss: 0.68909 Average train accuracy: 0.650 Average val loss: 0.69702 Average val accuracy: 0.350\n",
      "Communication: 51 Average train loss: 0.25463 Average train accuracy: 0.953 Average val loss: 0.48684 Average val accuracy: 0.850\n",
      "0.975\n",
      "15 50\n",
      "Communication: 1 Average train loss: 0.69177 Average train accuracy: 0.651 Average val loss: 0.69444 Average val accuracy: 0.350\n",
      "Communication: 51 Average train loss: 0.27135 Average train accuracy: 0.935 Average val loss: 0.49735 Average val accuracy: 0.800\n",
      "0.975\n",
      "16 50\n",
      "Communication: 1 Average train loss: 0.68857 Average train accuracy: 0.650 Average val loss: 0.69759 Average val accuracy: 0.350\n",
      "Communication: 51 Average train loss: 0.25797 Average train accuracy: 0.945 Average val loss: 0.47082 Average val accuracy: 0.850\n",
      "0.96875\n",
      "17 50\n",
      "Communication: 1 Average train loss: 0.69018 Average train accuracy: 0.650 Average val loss: 0.69621 Average val accuracy: 0.350\n",
      "Communication: 51 Average train loss: 0.27229 Average train accuracy: 0.939 Average val loss: 0.51858 Average val accuracy: 0.800\n",
      "0.95\n",
      "18 50\n",
      "Communication: 1 Average train loss: 0.68815 Average train accuracy: 0.650 Average val loss: 0.69783 Average val accuracy: 0.350\n",
      "Communication: 51 Average train loss: 0.28639 Average train accuracy: 0.917 Average val loss: 0.50406 Average val accuracy: 0.800\n",
      "0.96875\n",
      "19 50\n"
     ]
    }
   ],
   "source": [
    "for ith in range(20):\n",
    "    for I in [50]:\n",
    "        file_to_open= open(\"experiments/SNC/0.78phi/data/\"+\"csbm_\"+str(ith)+\".pickle\", \"rb\")\n",
    "        csbm = pickle.load(file_to_open)\n",
    "        file_to_open.close()\n",
    "        nc = int(5000/I)\n",
    "        exp_csbm(ith, \"NC/\", \"experiments/SNC/0.78phi/result/\", csbm, train_ids, val_ids, test_ids, \n",
    "             num_communication=nc, batch_size=40,\n",
    "             learning_rate=0.5, I=I, gradient=False, noise=False,\n",
    "             Print=True, print_time=50,\n",
    "             resume=False,\n",
    "             bias=False,\n",
    "             save=False)\n",
    "        print (ith, I)"
   ]
  },
  {
   "cell_type": "code",
   "execution_count": 22,
   "id": "4f4eb75c",
   "metadata": {},
   "outputs": [
    {
     "name": "stdout",
     "output_type": "stream",
     "text": [
      "0 1\n",
      "1 1\n",
      "2 1\n",
      "3 1\n",
      "4 1\n",
      "5 1\n",
      "6 1\n",
      "7 1\n",
      "8 1\n",
      "9 1\n",
      "10 1\n",
      "11 1\n",
      "12 1\n",
      "13 1\n",
      "14 1\n",
      "15 1\n",
      "16 1\n",
      "17 1\n",
      "18 1\n",
      "19 1\n"
     ]
    }
   ],
   "source": [
    "for ith in range(20):\n",
    "    for I in [1]:\n",
    "        file_to_open= open(\"experiments/SNC/0.78phi/data/\"+\"csbm_\"+str(ith)+\".pickle\", \"rb\")\n",
    "        csbm = pickle.load(file_to_open)\n",
    "        file_to_open.close()\n",
    "        nc = int(5000/I)\n",
    "        exp_csbm(ith, \"NC/\", \"experiments/SNC/0.78phi/result/\", csbm, train_ids, val_ids, test_ids, \n",
    "             num_communication=nc, batch_size=40,\n",
    "             learning_rate=0.2, I=I, gradient=True, noise=False,\n",
    "             Print=False, print_time=10,\n",
    "             resume=False,\n",
    "             bias=False,\n",
    "             save=True)\n",
    "        print (ith, I)"
   ]
  },
  {
   "cell_type": "code",
   "execution_count": 96,
   "id": "8afa288f",
   "metadata": {},
   "outputs": [
    {
     "name": "stdout",
     "output_type": "stream",
     "text": [
      "0.99375\n",
      "0 50\n",
      "0.99375\n",
      "1 50\n",
      "1.0\n",
      "2 50\n",
      "0.9875\n",
      "3 50\n",
      "1.0\n",
      "4 50\n",
      "0.9875\n",
      "5 50\n",
      "0.99375\n",
      "6 50\n",
      "0.9875\n",
      "7 50\n",
      "0.9875\n",
      "8 50\n",
      "0.99375\n",
      "9 50\n",
      "0.9875\n",
      "10 50\n",
      "0.99375\n",
      "11 50\n",
      "0.99375\n",
      "12 50\n",
      "0.9875\n",
      "13 50\n",
      "0.9875\n",
      "14 50\n",
      "0.99375\n",
      "15 50\n",
      "0.98125\n",
      "16 50\n",
      "0.9875\n",
      "17 50\n",
      "0.975\n",
      "18 50\n",
      "0.9875\n",
      "19 50\n"
     ]
    }
   ],
   "source": [
    "for ith in range(20):\n",
    "    for I in [50]:\n",
    "        file_to_open= open(\"experiments/SNC/0.78phi/data/\"+\"csbm_\"+str(ith)+\".pickle\", \"rb\")\n",
    "        csbm = pickle.load(file_to_open)\n",
    "        file_to_open.close()\n",
    "        nc = int(10000/I)\n",
    "        exp_csbm(ith, \"NC/\", \"experiments/SNC/0.78phi/result/\", csbm, train_ids, val_ids, test_ids, \n",
    "             num_communication=nc, batch_size=40,\n",
    "             learning_rate=0.1, I=I, gradient=True, noise=True,\n",
    "             Print=False, print_time=10,\n",
    "             resume=False,\n",
    "             bias=False,\n",
    "             save=True)\n",
    "        print (ith, I)"
   ]
  }
 ],
 "metadata": {
  "kernelspec": {
   "display_name": "Python 3 (ipykernel)",
   "language": "python",
   "name": "python3"
  },
  "language_info": {
   "codemirror_mode": {
    "name": "ipython",
    "version": 3
   },
   "file_extension": ".py",
   "mimetype": "text/x-python",
   "name": "python",
   "nbconvert_exporter": "python",
   "pygments_lexer": "ipython3",
   "version": "3.8.13"
  }
 },
 "nbformat": 4,
 "nbformat_minor": 5
}
